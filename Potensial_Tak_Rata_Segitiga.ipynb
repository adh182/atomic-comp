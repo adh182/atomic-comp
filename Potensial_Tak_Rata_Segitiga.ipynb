{
  "nbformat": 4,
  "nbformat_minor": 0,
  "metadata": {
    "colab": {
      "name": "Potensial Tak Rata Segitiga.ipynb",
      "provenance": [],
      "collapsed_sections": []
    },
    "kernelspec": {
      "name": "python3",
      "display_name": "Python 3"
    },
    "language_info": {
      "name": "python"
    }
  },
  "cells": [
    {
      "cell_type": "markdown",
      "source": [
        "# **SUMUR POTENSIAL TAK HINGGA SATU DIMENSI DASAR TAK RATA**\n",
        "Islamuddin Alimurrijal"
      ],
      "metadata": {
        "id": "OxlbAl97Crrh"
      }
    },
    {
      "cell_type": "markdown",
      "source": [
        "Suatu partikel berada pada sumur potensial tak hingga dan tak rata satu dimensi ditunjukkan pada gambar di bawah ini.\n",
        "\n",
        "![pot.png](data:image/png;base64,iVBORw0KGgoAAAANSUhEUgAAA0wAAAFeCAYAAAC2HJ8OAAAAAXNSR0IArs4c6QAAAARnQU1BAACxjwv8YQUAAAAJcEhZcwAADsMAAA7DAcdvqGQAAFR5SURBVHhe7d0H2BTF4cfx2KMYA3bFir0i9l4SbBGjRlTEGmwxIJYIsYEmFuxYEBuCBsWKgAWjiFiICBY0FmwxGkERS2yxIDr//2/emffdd9+99727vXvf253v53nmgZu9t9y9c7v7m52Z/ZkxZuf/L+dQKBQKhUKhUCgUCqVxUWDSfwAAAAAAMQQmAAAAACiAwAQAAAAABRCYAAAAAKAAAhMAAAAAFEBgAgAAAIACCEwAAAAAUACBCQAAAAAKIDABAAAAQAEEJgAAAAAogMAEAAAAAAUQmAAAAACgAAITAAAAABRAYAIAAACAAjIbmP71r3+ZffbZxyy99NJmiy22MLfccov56aef3FZjPv74Y3PQQQeZZZZZxiy77LJmwIABbgtCcf7555sVVljBdOrUqUn7+N///mfOPPNMs/nmm9s2svvuu5s33njDbQWyy7f7X/7yl6Z37960ewRlwoQJtn0ntX+5//77G7X/Bx54wG3JDr3G6PnP9OnT3ZY60fOfjTfeOJOvEag1mQxML730kll33XXNqaeeau6++25z0003meOPP96ceOKJdvvo0aNNu3btTOfOnc2f//xn069fP7P++uub7bbbznz00Uf2Ociv2bNnm2233dbsuuuu5rbbbjO33367bR/6+6vtfPbZZ/b/iy++uPnd735n+vfvb/bee2+z+uqrm1deecV9l9r25JNPmksvvdQMGjTIPPjgg01OCnQSfP3115uLL77YjBw50nzyySduC/Iq3u7Hjh1rzj333Fy1+yj/GbjiiivMiy++2OgzMHfuXDNx4kQ+AwHx7V8dpJdddlmj9q+//zfffGP69OnTpP0vvPDC5sILL3TfpfZdcMEF9jVGz3/0eqKvMXr+8/vf/96+Rr0PnP+EQxcVdO5z0UUXmRtuuMF8+OGHbksddZ6p/Wj/OHToUDrOipDJwLTmmmuavn37ukcNtNMbNWqUWXXVVW3Py3//+1+3xZh33nnH/OxnPzNDhgxxNcirK6+80iywwAJNTpB0wnj00UebHXfc0Sy22GLm3XffdVvqHH744Wa99dZzj2qXOgAWXHBB061bN9OrVy+zyiqr2JPkH374wW5/5pln7AFT7d0XHSyRb3lv91HRz4B62uebb75GnwF1nkXbP5+B/PPtP37ip/a/xhprmFNOOcW2gzPOOMNtqaNgrfOFrFhqqaWavEYFpehrjJ//6DWqnvOfMDzyyCP27/3zn//cXmncfvvtbfv49ttv7fb333/fLLfccvY50aKAjcIyF5hmzJhh/7AjRoxwNQ3eeusts+iii9rt48aNc7UNNt10U3PCCSe4R8grDcPYaaed3KPGjjzySNs+evTo4WoaXHfddXZbLfdE60qBfkddWfLUs6q2rd4k9Sq1b9/e9qLqKsOnn35qbrzxRtvDeNddd7mvQB6lbfdvvvmmq6ltSZ8B1UU/AzpR0LBEPgPhaK79//3vf7cBW+3m9ddfd7UN1Fay0P51/qMO4STR18j5T9h0xXGjjTYy7733nqsx5i9/+YvZd9997f91dVXt5IgjjrDB+qmnnjK/+MUvbF0WRxu0lswFJu0I9EfV5fa4//znP2aRRRYxu+yyi6tpTD2pBx98sHuEvNJJoa68JDn22GNt+3niiSdcTYN7773Xbks6oNaKgQMH2iFUupwepR5GvWYdTPUa7rzzTreljuatqNeRYUn5lbbd33fffa6mthXzGejSpUujHnbxn4H41yEfmmv/Tz/9tL36pCF6STR8LQvtX+c/attJWnqNnP+EQfPX1AEQP9ZrmLICs644aX6fPiv+ipNoFJa+7pxzMrmsQavIXGB67rnn7MF92LBhrqaBErS27bXXXq6msR122MEcc8wx7hHySieH22yzjXvUQEMzNCRJbWTatGmutsHw4cPttpkzZ7qa2qMD3nHHHeceNXbeeefZ33+33XZzNQ38STGTf/MrbbtP2laLivkM/O1vf3M1DfxngLH6+dRc+1dQ1t9eczWSaFhzFtq/zn9WWmkl96iBOgtaeo2c/4RBi5psttlm7lFjCk1LLLGEHZ6XRKG6Z8+e7hHiMheYfvzxR7uyjS69a0comuz76KOP2omQ2qYxyoMHD7aNw9OQDfW+JA3lQ77oZEkHjvHjx9vHvn3oErV2FFOmTLE7Bh1kovbff3/zq1/9yraxWqXfO6lDQK9F81D0ujWRM05z+7RNY9mRT/F2LxqeVmy7nzdvnqupbcV8Bl599VVX28B/BtSTivzx7f/ss8+ub+O+/ateQzi1YpwWC4m69dZb7UqqWWj/OjZpDrdeY/T8RwtARF9j/PxHr5HznzDoGL/WWmu5Rw3UHrSvVzs54IADXG1jWgRF+1cky+SiD999953tZdE8jUMOOaT+IKnL6tp5aMiFdiqHHnqoefnll+0wlA022MDuOL///nv3XZBXmvitnkbNWdBYXl1xUftQUS+zaIGQjh072hWG1LN44IEH2sD99ddf2+21SiskaYK75i1F6XOgA6IOlHodX375pdtSR5PkdRk+ehBFvsTbvRZ68L3OWW/3UcV8BjRsL85/BrISDFEa3/79uUC0/Wuuhs4NNExJQzaj7V/btdJiVvg5h/Hzn+hrjJ7/XHLJJXY75z9h0OdAc/l1kSBKq0erHWjaio4PH3zwgdtSRyNrdOzQVXoky2RgEs1h0sReNQCVDh062DG8nhrD2muvXb99ww03tJN/EQadAGqJ2Wj70ImUDiiiQKEVtvx2nYAlDeOpNY899pj9fXWvHU/35FBd165d7WNdZb366qvt/z1N+NVET+RbvN1rH5mHdh8V/wzotZ1++um2zn8GoiMQPD4D+af2r3kafvGDePsXLTUfbf+a+xS/6lrLFHr0GqPnP5rMH32N8fMfvUbOf8KhFVEVkP3VdF2Z1Ep5agvqNNMS9FtvvXWjdq8OBm3XCntIltnAJNpxaGU8JWO/nGzUV199ZXtYNIlfV6UQFvUkawllDctIah+iXmoN34lfkalV2vFpjPpqq61mexZ1EqgxyQpJr732mn2OrrCqd/G3v/2tHbOuq6t6TO9iGHy714pa8YUPvKy1+6j4Z0DDDXXyGP0MaFiKxvHzGQiTrrLktf170fOfpGHk/vxn1qxZrgahmDp1qtlyyy3t3FUFJ11p1b1LNdJAwVojTdThpAXSdI9KjcLRRQXdv4wr8IVlOjABodLBUkNNx4wZ0+S+Op4uyd9zzz1NLr0DeeA/A5qfGF3tKYrPAIBQ6YqrlpvX8NOkTmN1HOhWDM8++6yrQXMITAAAAABQAIEJAAAAAArITWDSXbp1aREAkCxprgMQAg3b3Hnnnc3bb7/tagCgeLkITBqbufzyy9tJa0BLCi0AkRdZWiIarUs398672267jWCIJm655Ra7CtiJJ57oaoAwsfhNeXIRmLSEsl8+c/Lkya4WaOqf//ynOfjgg92j/FH7z/PrQ/nmzJlj95H//ve/XU3+aFU0vUatEgVE9ezZ07YN3aQWCJXOEbQQDkqX+cD04osv1oclleWWW858+OGHbivQmJYYVjuJ3+09D9TudTNDvb4HH3zQ1QJ1SwzrCrzahv5977333JZ8GTRokH2NuqM94E2ZMsXelFNtQ6Vv376N7luUF7pyMGTIEPcIaEznyzpH2GqrrbgKX4bMByatIe93gr6cccYZbivQQD3rvo3oTtd5o3af59eH8ukkyrcNFQ1hztsBU0NtfYeBiq4mA/7Karzk8SqkrhzotWlYKhClMB1t/7SR0mU6MCktt2vXzhx77LH2BoW6u7uSc8eOHQvesA5hUo+672FXUW/jY4895rZmn9q72n10hzhq1Ci3FSHTgbJz5871YcL/m6f2odeoToJo+9doA0JT2KJXVn3n6r777mv/zdtVSHWAaFELvTZ9xt955x23BWg8dcUX9o+lyWxg0gFSvaQ6KIrmbeiAqQnv2ll07drV1gM6kGy88cb1B5Lov3mZz6HX519TtNBxAA0/UltQj2L03zwtkqP9v39N+lfHBf2rY4SOFQiTv7KqduCH75999tl28RP9P08njP5z7QuLWyBK+0R9Dmgj5ctsYBo/fnyjP7gPTOJ7GrXUOKCDot9B9OrVq9G/eVggQe1cryXaw37AAQfYf4cOHeqehRD5RRB05d0PSdW//oQxDx0G/jWq+F5UHRd83eOPP+6eidD4faLmdPrjgAKTH76pjqY88B3Ivs2r5KlDBOmo/atN+FC95557NrrggOJkNjDtscce9g//+uuv28fRwKShVtqmS/BAjx49bHu48sor7cFS/58xY0b9FZmsL5DgF7KYNGmS/VdlwoQJdmeooVhM7gzXwIEDbXvQ3IZoYFKbUNtQG5k9e7Z7djaddtpp9nUdfvjhZvr06fb/+pyPGzfO/l/HCoRHf38NvdZ+X6KBSaLtZt68ebYuq6699lr7WtQxon/VYabXntfFLVA8Dc3UuY6Ga4rah86V9XnQlBa1f9pIcTIZmLQsov7o0Ulr0cAkfoiGJnwiXP4k0d9/xgcm9Ur7dhRtN1njJzT7K2X6v4p2hvHXjrBEe9EVkKKBSXT1UY8vuugi+ziL4lcK4ifFvkeV202EJXpl1Yu3jeiVyaxfhdRS6Xodmpeof9Xu/SgKvW6Eq1+/frYd+KXE9X9/zuOvxHMVvjiZC0yffvqpPUBuv/32jXrO44FJc5nWXHNNLksH7JNPPqm/yuLnMUQDkwwbNsw+zuIEeL+Qhdq5f316LSr+IKmJzXr8/PPP28cIg/Z/Gnax7LLL1l9Bigemb7/91raf1VZbrf7zkCVq8+o1jb7G+EmxjhE6VuiY8f7779s65J/vDIju1+NtQ3zA6NOnj6vJFl0Z0FUkXSnQHK3oKnna5+v/LLEfLp0jaP+oY4G/iqo24c+V/WdCi6ahZZkLTOpRVDiK95rEA5NoaB696+FSz7l2BtF5PPHAJH5loSydNOpE0C9kEb1CoMcq/vPhd4jqbUQ4/EIP6l304oFJFKxUp+dnjT85jN5GIumkOOl5yDedKOqqYrRTNaltiK7SK2xkkZZG12vy+/doYJI8zVVEaXSu7BeD0v89tYfouTJX4YuX2TlMcUmBCWHTnd3Vg66lZb2kwOQPMhrznhU6IdDvrKEYn3/+uattGpjUA6mT5pVWWsk+Rhh0AjhgwIBG85OSApOo/evGnllz11132c949MpR0kmxrkRpPqsWhEC4CgWmLPMjCHzgiwcmBUY/V9EfExCGp556yraF+EUD1UXPldVGtt12W7P11lu7GhRCYEJuachRXFJgEvXA+GFtWaCdnK4OxOm1qcQPjll6baiOQoEpT/J4UozKyFvb8PNXoyfE8cAkfniiVkVDOHROU+gcIelcOem5aIzAhKAUCkx5odemQm8i4ghMCFkeA1N8uFVSYNKxTnUEJojaAufK5SEwISgEJoSKwISQ5bFtxEdRJAUmKTQiAeFR++BcuTwEJgSFwIRQEZgQshDaRqHABHhqH5wrl4fAhKAQmBAqAhNCRmACCExpEJgQFAITQkVgQsgITACBKQ0CE4JCYEKoCEwIGYEJIDClQWBCUAhMCBWBCSEjMAEEpjQITAgKgQmhIjAhZAQmgMCUBoEJQSEwIVQEJoSMwAQQmNIgMCEoBCaEisCEkBGYAAJTGgQmBIXAhFARmBAyAhNAYEqDwISgEJgQKgITQkZgAghMaRCYEBQCE0JFYELICEwAgSkNAhOCQmBCqAhMCBmBCSAwpUFgQlAITAgVgQkhIzABBKY0CEwICoEJoSIwIWQEJoDAlAaBCUEhMCFUBCaEjMAEEJjSIDAhKAQmhIrAhJARmAACUxoEJgSFwIRQEZgQMgITQGBKg8CEoBCYECoCE0JGYAIITGkQmBAUAhNCRWBCyAhMAIEpDQITgkJgQqgITAgZgQkgMKVBYEJQCEwIFYEJISMwAQSmNAhMCAqBCaEiMCFkBCaAwJQGgQlBITAhVAQmhIzABBCY0iAwISgEJoSKwISQEZgAAlMaBCYEhcCEUBGYEDICE0BgSoPAhKAQmBAqAhNCRmACCExpEJgQFAITQkVgQsgITACBKQ0CE4JCYEKoCEwIGYEJIDClQWBCUAhMCBWBCSEjMAEEpjQITAgKgQmhIjAhZAQmgMCUBoEJQSEwIVQEJoSMwAQQmNIgMCEoBCaEisCEkBGYAAJTGgQmBIXAhFARmBAyAhNAYEqDwISgEJgQKgITQkZgAghMaRCYEBQCE0JFYELICEwAgSkNAhOCQmBCqAhMCBmBCSAwpUFgQlAITAgVgQkhIzABBKY0CEwICoEJoSIwIWQEJoDAlAaBCUEhMCFUBCaEjMAEEJjSIDAhKAQmhIrAhJARmAACUxoEJgSFwIRQEZgQMgITQGBKg8CEoBCYECoCE0JGYAIITGkQmBAUAhNCRWBCyAhMAIEpDQITgkJgQqgITAgZgQkgMKVBYEJQCEwIFYEJISMwAQSmNAhMCAqBCaEiMCFkBCaAwJQGgQlBITAhVAQmhIzABBCY0iAwISgEJoSKwISQEZgAAlMaBCYEhcCEUBGYEDICE0BgSoPAhKAQmBAqAhNCRmACCExpEJgQFAITQkVgQsgITACBKQ0CE4JCYEKoCEwIGYEJIDClQWBCUAhMCBWBCSEjMAEEpjQITAgKgQmhIjAhZAQmgMCUBoEJQSEwIVQEJoSMwAQQmNIgMCEoBCaEisCEkBGYAAJTGgQmBIXAhFARmBAyAhNAYEqDwISgEJgQKgITQkZgAghMaRCYEBQCE0JFYELICEwAgSkNAhOCQmBCqAhMCBmBCSAwpUFgQlAITAgVgQkhIzABBKY0CEwICoEJoSIwIWQEJoDAlAaBCUEhMCFUBCaEjMAEEJjSIDAhKAQmhIrAhJARmAACUxoEJgSFwIRQEZgQMgITQGBKg8CEoBCYECoCE0JGYAIITGkQmBAUAhNCRWBCyAhMAIEpDQITgkJgQqgITAgZgQkgMKVBYEJQCEwIFYEJISMwAQSmNAhMCAqBCaEiMCFkBCaAwJQGgQlBITAhVAQmhIzABBCY0iAwISgEJoSKwISQEZgAAlMaBCYEhcCEUBGYEDICE0BgSoPAhKAQmBAqAhNCRmACCExpEJgQFAITQkVgQsgITACBKQ0CE4JCYEKoCEwIGYEJIDClQWBCUAhMCBWBCSEjMAEEpjQITAgKgQmhIjAhZAQmgMCUBoEJQSEwIVQEJoSMwAQQmNIgMCEoBCaEisCEkBGYAAJTGgQmBIXAhFARmBAyAhNAYEqDwISgEJgQKgITQkZgAghMaRCYEBQCE0JFYELICEwAgSkNAhOCQmBCqAhMCBmBCSAwpUFgQlAITAgVgQkhIzABBKY0CEwICoEJoSIwIWQEJoDAlAaBCUEhMCFUBCaEjMAEEJjSIDAhKAQmhIrAhJARmAACUxoEJgSFwIRQEZgQMgITQGBKg8CEoBCYECoCE0JGYAIITGkQmBAUAhNCRWBCyAhMAIEpDQITgkJgQqgITAgZgQkgMKVBYEJQCEwIFYEJISMwAQSmNAhMCAqBCaEiMCFkBCaAwJQGgQlBITAhVAQmhIzABBCY0iAwISgEJoSKwISQEZgAAlMaBCYEhcCEUBGYEDICE0BgSoPAhKAQmBAqAhNCRmACCExpEJgQFAITQkVgQsgITACBKQ0CE4JCYEKoCEwIGYEJIDClQWBCUAhMCBWBCSEjMAEEpjQITAgKgQmhIjAhZAQmgMCUBoEJQSEwIVQEJoSMwAQQmNIgMCEoBCaEisCEkBGYAAJTGgQmBIXAhFARmBAyAhNAYEqDwISgEJgQKgITQkZgAghMaRCYEBQCE0JFYELICEwAgSkNAhOCQmBCqAhMCBmBCSAwpUFgQlAITAgVgQkhIzABBKY0CEwICoEJoSIwIWQEJoDAlAaBCUEhMCFUBCaEjMAEEJjSIDAhKAQmhIrAhJARmAACUxoEJgSFwIRQEZgQMgITQGBKg8CEoBCYECoCE0JGYAIITGkQmBAUAhNCRWBCyAhMAIEpDQITgkJgQqgITAgZgQkgMKVBYEJQCEwIFYEJISMwAQSmNAhMCAqBCaEiMCFkBCaAwJQGgQlBITAhVAQmhIzABBCY0iAwISgEJoSKwISQEZgAAlMaBCYEhcCEUBGYEDICE0BgSoPAhKAQmBAqAhNCRmACCExpEJgQFAITQkVgQsgITACBKQ0CE4JCYEKoCEwIGYEJIDClQWBCUAhMCBWBCSEjMAEEpjQITAgKgQmhIjAhZAQmgMCUBoEJQSEwIVQEJoSMwAQQmNIgMCEoBCaEisCEkBGYAAJTGgQmBIXAhFARmBAyAhNAYEojV4FpvfXWc4+AZAQmhIrAhJARmAACUxq5CkxqCL169TKff/65q0Xc999/7/4XJgITQqTPfZ8+fWzbIDAhRAQmgMCURu4Ck0q/fv1cLaJ00rT88subH3/80dWEh8CEEF100UX1bYPAhBARmAACUxq5DEyLL764mTNnjtsC7/HHH7fvT8gn0wQmhOaHH34wnTp1qm8bBCaEiMAEEJjSyGVg6tixow1NL7zwgtsKOeyww+z707dvX1cTHgITQqJwtNVWW9l9om8bBCaEiMAEEJjSyGVguummm+y/G264oduKr7/+uv79UZhUr3OICEwISc+ePW17YEgeQkdgAghMaeQyMD377LNm5MiRZskllzQ777yzmTp1qntWmDR3Se+Df39UDj/88CDnMhGY8kkLvbz33nvuEdRBoivJCy20kDnnnHPM66+/Xt82CEwIEYEJIDClkdvA9MYbb5hBgwbV14V8MvWXv/yl/n2IlhB3qgSmfBo6dKjZeOON3aOwKSxpcRe1gxNOOMHuC1V82yAwIUQEJoDAlEauA9OMGTPMOuusY+u03HiIdHXJvy/xEuKKeQSmfNLnW6+bq0zGjBgxor4dTJo0icAE/D8CE0BgSiPXgUnlxRdftL2sCy+8sL3SEtp9iPx8rkJl9OjR7plhIDDlj0JSu3bt7Os+66yzXG2YtBJmhw4dzJZbbmkefvjh+v0ggQmhIzABBKY0ch+YfNl///3tNvW+hiQ+dyleQvvgEJjyR0Px/OtebrnlXG14NFdT74Hej/j+T8W/RwQmhIjABBCY0ggmMD333HO211W9rw888ID7qnzT1TQdHHw58MAD7fujf33d+eefH9SwPL1mvQcEpnw4/fTT61+zL6oLjdpzly5dzGKLLWbGjBnTZP+n4t8fAhNCRGACCExpBBOYfFFo0nM0PC80fmeqf0NFYMoPDcXzrzdeJk+e7J6Vf7pJt+YjKixNmTIlcb+n4t8bAhNCRGACCExpBBeYxo4da1ZaaSX7vBtuuMF9dRgITASmPNF8Jf9640VD87TUeN7p5ty6r5pe8+DBgxP3eb7494bAhBARmAACUxrBBSaV6dOnm6WXXto+N88nD3EEJgJTnigU+debVLTUeN5ttdVW9rUOGDAgcV8XLf59ITAhRAQmgMCURpCBSUVDVzSERUNZdN+SEBCYCEx5oSF3/rUWKnm/lYC/v1r0XkvNFf++EJgQIgITQGBKI9jApKIhLHp+9+7dg1j4YObMmXaHqn9DRWDKB81f0mv0pUePHvZ1P/HEE/V1+ozn1fDhw+3r3W+//Zrs1woV3zYITAhRCG2DwISWqH0QmMoTdGBS0TwmfU3Xrl2Du4lriAhM+XTiiSfm+u8apUUeNG9Jw4p1n7mk/VpS8W2DwIQQEZgAAlMawQcmlT/84Q/26845JxdvBZpBYMqnUALTtGnTbFjSvZZKCUsqvm0QmBAiAhNAYEqDwPT/ZcaMGWabbbaxXxvScsQhIjDlUyiBqVOnTvZ1Pvzww4n7suaKbxsEJoSIwAQQmNIgMLny6quv1i83TmjKLwJTPoUQmEpd5CFefNsgMCFEBCaAwJQGgSlSNJFaK+fpezzyyCPuO+eH35nq31ARmJA1up/Unnvuaf+uPXv2TNx3FVN82yAwIUQEJoDAlAaBKVbuu+8++z00T+CHH35w3z0fCEwEJmSPv3qmRR40fDhpv1VM8W2DwIQQEZgAAlMaBKaEMmnSJLPqqqva+QKvvPKK+wnZR2AiMCE7fvrpJ3PppZeahRde2Bx11FElL/IQL75tEJgQIgITQGBKg8BUoIwcOdJ+r5133tn9hOwjMBGYkB0jRoywf8v9998/cR9VavFtg8CEEBGYAAJTGgSmZsoVV1xhllhiCTt/QDfKzDoCE4Epr6655hqz4YYbmi+++MLVZNvjjz9uOnbsaLbcckvz5JNPJu6fSi2+bRCYECICE0BgSoPA1EIZOHBg/ffNemgiMBGY8ipPf1et0qnXolU7tXpn0n6pnOLbBoEJISIwAQSmNAhMLRTNG9Bka31fLeuLbCMw5VNe/q7qlPF/w0GDBiXuk8ot/vsSmBAiAhNAYEqDwFREUWjSPAJNvr722mvtZGxkE4Epn/Lwd/3+++/NbrvtZl+H7rWkBWeS9kflFt82CEwIEYEJIDClQWAqoSg06ftrMjayicCUT1n/u/7444+ma9eu9jWMGjUqcf+Ttvi2QWBCiAhMAIEpDQJTCeWxxx6zk7A1GVuTspE9BKZ8yvrf9eSTT7a//2mnnZa476lE8W2DwIQQEZgAAlMaBKYyiiZjZ3GnNHXqVPs+6d9QEZjySX9PBQFdqcka7Uf0N9trr70S9zeVKr5tEJgQIgITQGBKg8BURtFkbP+zsrRynt+Z6t9QEZjKN23aNLPddtuZ3XffPXEe37vvvmvOPPPM+nLJJZe4LXVmzZrVaDsntQ2LPFR6Rbyk4tsGgQkhIjABBKY0CExllNdee81Oyl5sscXMDjvsYL7++mv3W9Q2AhOBKY1TTz21/vs///zzrraBPgdXXnll/XMefvhht6XON998Y4455hi7bcEFFwz+oK73S/sP7Uf+9re/Je5rKln834XAhBARmAACUxoEphRl4sSJ9uctv/zydoWrWkdgIjClse6665r27dvb76+bOhey+OKL2xUlk/irsxdeeKGrCdMPP/xgNt54Y/te3HfffYn7l0oX3zYITAgRgQkgMKVBYEpZLrjgAvszjzzyyJqfP0FgIjCV68EHHzRbbLGFGTp0qP3+ze1wV155ZXsFKWnY3vbbb29OOukkM2/ePFdTGd9++639m1b6+1aD9hudOnWy76PaY3yfUq3i2waBCSEiMAEEpjQITBUoGp6nn1vrN7YlMBGYyqHgoxP8s846ywYS3ch5mWWWcVubWm+99ezvEL/qOmbMGLPWWmu5R5Xl/66VDorVsPPOO9vfVfuNpP1JtYpvGwQmhIjABBCY0iAwVaj44TW1vNx4sYHpu+++Mw899JA57rjj7MndIYccYsaPH9/kisGTTz7ZaBJ/S5P8zz33XLel7RCYSvf222/b7zl69Gj7WFdT9fj111+3j+O6dOlit//vf/9zNXX3GVp77bVN3759XU1lZSUwTZ482f6e22yzTdUXeYgX/VwVAhNCRGACCExpEJgqVNR7rpWudLJYqyvnqcdfQaG5+VYKSZp/ouFX1157rbnzzjtN9+7d7fu66qqrmpdeesk905iPPvqo6En+mtz+yiuvuC1th8BUOs1X+uUvf2k+++wz+1h/x/nnn98ceuih9nGcht3pd/j0009dTd3S2VrcoFDISisLgWncuHH2d9x1113NjBkzEvcj1Sy+bRCYECICE0BgSoPAVMEyZcoUe1Ko32HOnDnuN8sWBT4tHR2dj/XVV1/ZOSl6XbqxZlwxk/yfeuopV9O2CEyl0wl+/CTDD7v7/PPPXU2DPfbYw2774IMPXI2xbeq6665zjyqv1gOTVsTT50S/44svvpi4/6h20c9WITAhRAQmgMCUBoGpwuX666+3v4NOjiZNmuR+u+xQL7iGYMXttNNO9nUdffTRrqZBMZP8a2VBDAJTaXRyveKKKzZ5v/yVQ63wFrf//vvbbe+88459PGzYMHuFsZptoJYD04gRI+wcMA1J1D4hab/RGsW3DQJTmPT50wl1LX5GWgOBCSAwpUFgqkIZNWqU/T10kqTlg/Nggw02sK+pf//+rqZBW0zyLxeBqTT6XCXtXG+55Rb7c/r16+dqGhxxxBF2m4ad6Wa38803n7njjjvc1qamT59uevXq5R6Vp1YDk+Y0+r/JyJEjE/cXrVX870FgCs/s2bPr59mqaLh1aAhMAIEpDQJTlcrdd99tOnbsaDbccMOaOUHRUKATTzzR/lsKzVnR+6p5K//4xz9cbYPNN9/cbv/yyy9djTFPP/20WWqppczVV1/tamoDgal4us/YAgssYG644QZX00BXj/Rztt56a1fToHfv3nbbhAkTzCqrrGIXDtF8tji1kWOPPdZ06NDBbLrppq62PFpAQScLSUME24rmMqozQXMbNQ8saT/RmsW3DQJTGHTFX+/HGWecYZZddtn6IaEqGhGgk6YhQ4bYJflDQGACCExpEJiqWK666ir7++y5557ut2xbfmeqf0vxxz/+0X5doZuN+mWSP/74Y/tYB2AtPa1SawdjAlPx1l9/ffu93n//fVfT2JZbbmlDdDyk6Cqkvq5nz55mhRVWsHPgkvTo0cMGKf272Wabudp80JwlvQea06graEn7h9Yuvm0QmMJwzjnn1P/Nu3btavfH/nH0eKnjU15GQjSHwAQQmNIgMFWxaEiSlg/W76TlhNtaOYFJK50tueSS9v0tJD7J/5FHHrGPqznJv1wEpuLo6oi+j0JTIX5BDw01ixo4cKCt1xVGzd8pxN9k9rDDDstdYNI92fQetPa9lpor+n1UCEz5prAePR7utdde9pYA/rGKVkPV0HEfopZffnk7bC/PCEwAgSkNAlOVi0KTvwKje9A0t6R3tZUamDQUb7XVVrP3YWquBzI+yX/fffe1VxlqZaGHKAJTca655hr7fdZYYw17wpVUtPKdnrPRRhuZuXPnuq805qKLLrL1O+64Y+JCIHF5Ckx6vQqJ7dq1s5+LWrm6pOLbBoEpn9TJoc/emmuuaa9sal6ghlDrb6/PmP/7q2i4uPbvOj5pyJ46N1Snr3/zzTfdd8wXAhNAYEqDwNQKRXOG/O+mnue2Umpg0gp3moOVNP8kKj7JX/M2CtEJZVu+BwSm4uhky3+vYkr0Hls+bBXbzvIUmPwiDxqumLQvaMvi/1YEpvzxi7CoaHGHaFDX/D5/u4toiV791HPUweG36epT3hCYAAJTGgSmVipaTlg9zprgrh7oYnreK63YwDRz5kz7gdIB9IsvvnC1hcUn+SetwOQn+OuKhea1tBUCU/Vp8Q+dlEevOjWnEoHJ/13b8nWrh19XZLXIgxbMSNoPtGXxbYPAlB8PPvignYO00EILmd12283OW9J74P/m6sTSFX//t4+X4cOH1z9XX6ev1/fRffV0DNCxNC9CaBsEJrRE7YPAVB4CUysX9Tzrdxw/frz7zVvP1KlT7fukfwvRIg2rr766/R2jVw28Rx991P2vQXySf9KwQz/Bf+zYsQSmKtJrU2nL4FCqPAQmfzKmoU3qrU/67Ld18W2DwJR92n9Fj3lDhw5N/Jtfeuml9c8pVLSfj39ddMEInXzX4vDqUhGYAAJTGgSmVi6aIK/fUfOaapFuRKrfT5OC47RamlZbiitmkr+f4K+rUASm6tFrU8lSYFLQ3mSTTdyj8rRlYNIke02a18+vpUUe4sW3DQJTtmk+qZ8Xq31uoauZuroUXRmvUCl0fzDdTsAP5bvgggvcT88uAhNAYEqDwNQGRauLLbHEErbR1tJ9Y2T33Xe3NxrdddddG03w/9WvfmVXy+vWrZt7ZoNSJvkTmKrLfwayEJh0UD/11FPNMsssY4cUnXzyyfazUY62Ckzqee/evbv92Rpym9RbXyvFtw0CUzY988wztnNB91PSAg367PhFHZKK2qI6wKJF742GUEfrmvse999/v23X+nxq6J/29YVuE1DrCEwAgSkNAlMbFZ0c6nfVjWRrhQ6E/j0sVDS0Lq6USf4Epuryf6csBKZKaqvA5Pc7GvqU9DmvpeLbBoEpWxTK/TL1KrpVRbnHOH19OW31+uuvr//5W221VSbv20RgAghMaRCY2qio9+8Pf/iDnVyrg2FbLjeeVimT/AlM1eU/AwSm6vNXVo8++ujEz3itFd82CEzZoH2UVr/T/D69pgMOOMA8/PDDiX/bYou+T7nhXleiNPx61VVXtVe5zj333EwdtwhMAIEpDQJTGxd/DyPNDar2xFq/My3mSlC1EJiqy38GQgtMrU03otb7rN5+zRVJ+mzXWvFtg8BU+8aNG1f/96rkqov6fmmvhur4us4669jvpbl7WTk5JzABBKY0CExtXLRinV8576STTnKvpjraOjBpcvz5559v529pAYm2WFqdwIQ01KPuh0fpxr21PGcpXnzbIDDVrieffNKezGjkgY4LmqekY0TS37Occvjhh5vRo0cnbiu1XHLJJTbM6f3WPFe9922xTy8WgQkgMKVBYKqR4u/EXs2burZlYNIB1f99fFl00UXd1tZDYEIaQ4YMqX+Pm5ssX4vF/94EptqjIN63b9/6v5GGeyb9DWuxZGU1PQITQGBKg8BUI0X3bvG9dboBZjW0ZWCqFQQmlEsT3Tt16mTf31GjRiV+jmu5+LZBYKo9uvKj31vBI4tt67LLLqtvX1dffXVNLgpBYAIITGkQmGqo3H333faA2aVLFzt8rdIITASmvFKHg9p1tZbpV8jQvW+0nHOh+9bUevFtg8BUG/S7apXU5ZZbzt6y4aijjjJPPPFE4t8uC2XSpElmv/32s++/FoUYPHhwTd3wlsAEEJjSIDDVWJkyZYoNTZpMO2fOHPfqKoPARGDKK/93rdbr7tWrl/3+uk9U0uc2C8W3DQJT21KI0Amt/3vo5rIKG0l/sywW3dspuijEm2++6V552yIwAQSmNAhMNVi0ipFeh3rpXnjhBfcK01MvvA4W+jdUBKZ8qlZg0pXefv362Rt3/vnPfzavv/564me2UuWBBx6wS0m/9tpridvTFN82CExtQ/OUdEKrK5X6HXfbbTc7qqA1V1nUz7z11lsTt1Wy6DWdd955ZqmlljLLLrusnds0e/Zs9060DQITQGBKg8BUo2XAgAH2tWy44YbuFaISCEz5VI3ApBNc9ZDr+2q4VNLnNFoeeeQRe281X3SSmPS85soGG2xgtt1220Z1Ck833nijOf74480OO+xgdtxxR3PmmWeWHN582yAwtb4XX3yx/v1XiNBVmKS/UbWLfn5r32RZIU0/V/P/Kj1qohQEJoDAlAaBqYbLCSecYF9PNVfOCw2BKZ/8iUIlX/eIESPq389ihkw9/fTT9r5Mer7uNXbvvfcmPq9Q0Um1rmRdfvnl9XXjx483m2yyif2eyyyzjNl1111Nhw4d7OMtttjCvt7o92iu+NdCYGpd+p00T8m//2PHjk38+7RG0c8vJTCp3Uc7AVSi7VrLoEe39e7du9HXq6hd+8+Fik7m22JuUy22jUojMKElah8EpvIQmCpYNP+o0sNpDjzwQPuarrnmGvdKkQaBKZ8qHZgef/xxO5RI98Ip5WqA7qWm3+OUU05J3N5cOfTQQ+2iEtH9R/fu3e3Q3Ouuu84OpVWd7v20yy672J9z1lln1T+3peLbBoGp+nQ/It0/yd+YXO3oqquuavP7dul3KSUwTZ8+3V7N9G2nf//+dpi43/7SSy+Z4cOHm0UWWcQssMACzX5vHcPWWmst+31+/etf2/enNe/bRGACCExpEJhciQ+n0XyFpOc1VxRuVl555Sb1Dz30kB1Oo95hDbfRidHDDz/c5HlJRWPB/QTayZMnu1eLchGY8qmSgcmfWOnkLukz2Vw55JBD7Nfq6lTS9kLlmWeesV/Xo0ePRvWaP6V9R7RO5dxzz7XPV6CKbytU9HwVAlP1Re+ppBDRmvOUmiv+90na1lzRQkS6+pm0Ta9NgelPf/pT4vZ40bLp/r5Nat+thcAEEJjSIDC5op40fzVHRb1mSc8rVDQ0QQcUhSFfN2bMGDsnQcNzdDDRUJtzzjnHrLLKKuYXv/iFvVN69HsUKhrSoB5K9TQr2JVLQ4b0QdG/oSIw5ZOWE9dr/vbbb11NebTIg5b11wnd6NGjEz+PzRU/9EidG0nbC5ULL7zQfp2uJCVtjxdNqNfzo/ublopvGwSm6nj//fdtANC8U92UW/dWUmdZ0t+irYrem3ICk45huoKUNG/u2GOPNZ07dy5pZIU6DHXM1vu01VZb2fl+n3zyiXsnq4PABBCY0iAwRYqfM6Sdf9L25sr5559vv1aTs33d0KFDbZ1ObqLP1cnUfPPNZ+aff347pCG6rVDRWHJ9L02cLfemgH5nqn9DRWBCIQpLWuRBYUnDa5M+hy0VzTPSDaiTtjVX9txzT/Pzn//cvPzyy4nb4+WII46wf+eLL744cXtS8W2DwFR52qerQ0s/W8uEt9WiDi0VhaWJEycmbmuu+Bs2q2MxWj9kyBBbX04IU7nzzjvt16soaFbj/oMegQkgMKVBYIoUP5xGPWZJ25sr/mv/8Y9/1NfdfvvtdmL2hAkTGj1XRfMj9PxSblSooQz6mq5du5YVmghMBCYU5hd50LyTpM9fS0VXgtUR0q1bt8TtzZVVV13V7LPPPonbkoqugqnHP7q/aan4tkFgqizNW/Xv7WGHHdYkVOShrLfeevb1RTsSNBRvtdVWMwsuuKAdUhp9filFAc4PO1ep1r6LwAQQmNIgMEWKH06joXRJ2wsVDUXQ3KWDDjoocXtS8csVa+Jr0vZCpU+fPvbrNIyh1BMfAhOBCckee+wxu/qchr4+99xziZ+9loqG2Oq9v/rqqxO3FyoahqerS/odkrZHixZ+UIeOrmKoAyXpOYWKbxsEpvQ0fOyiiy6y91TSUGwtna2T1KT3PQ9ls802s++rhoT7Ol1VUrvVSIroc8st+vxo3qA+hxraqCGOlURgAghMaRCYIqXc4TQ6QVIv2/PPP5+4PV50YqTfc7vttkvc3lLxwa7URk9gIjDllYbyKAjo3kml0udX79nGG2+c+HkrtmjlLw2zLXZYnYrmhGifo8900vZ48UN/y7nHk28bBKZ09P75IWoqpc53zWLR/b/0WqNLim+66ab2lhfR51WiqONRP0tLsVeyrRKYAAJTGgQmVzQJVV979NFHJ24vVHRypGEJ22+/feL2eNGSrOqt0xWpUobTRIu/i7p6Nnv16lX0RHcCE4Epr3zbLvV168RCX6ebiZZ6ZTlapk2bZiewr7nmmonbCxU/zPa0005L3B4tGjKocKWlxMu5dYFvGwSm8rz55pvmmGOOsd9fi/noClO5nXNtVfT7lrO0+e67725ft4Yf6rGOPzqOVWP1P7VtLcGuYaf6mbqKp+NzWgQmgMCUBoHJFa1ip6+9++67E7cXKrfeeqv9umLvh+J/jg4ISdtLKaXe2Pa9996zO1L9GyoCUz6VE5jmzJljJ+preFu5izz4ouFJ+vk6sUzaXqgcd9xx9utaWk1t0KBB9nn6zCdtL6bo61UITKXRvkLzRv37p79BrSwTXmrR71/OAg377bef/VrdS0krwur/gwcPTnyurpoqTKYdqqf3WHPC/PuupdrLuYLshRCY/PGNQmmuEJjKQ2ByRT2GWuq71J5bXZHSRO/o2O6kooOIDjBanlX3UKnEAVcHAE1QX3jhhc2wYcPa5O7pWUNgyqdSr57qSq/CkiazV+IqgYbj6ef37t27Ub32Jxp6u9FGGyUuybzuuuva4U5J23zRypsa6rf33ns3WVDg0UcfbfS4ueLbBoGpOLNnz7ZDHzWCQCsn6v2/6667Et/brBS9N+UEpp49e9qv1fL3uk+hFjOKr/Cq21WcfPLJdvSEnlup4Xr6fGqJdn1PXdXSZ7yc4BRSYNKcOs13plDiRe2jFgPTxx9/bBeAmTdvnqupPVULTBrXrTuE+6ITeu/LL79stE1Fq8WlkSYwaTiNvm6TTTZJ3N5c0STVX/3qV4nbokUTtfUzyrkhbktFB3J9b/WCEpqaR2DKp1IDk5Yw1vMrsfyzhjhpxTp9P91rLbrt5ptvtvWaxB6tV9HVbG1r6SbW6sxJWlBG+8xi5z6p6GepEJhapvdIc2j0vbQQiBbbSHpPs1b0esoJTOoY1NeefvrpZsUVV7QdDvHnaKU7DRvVVSg9969//WuT56QpOpnSkFR9b5VS93EhBaZy/saUMIraRzGB6d13321ynq55+t6sWbMabUv7udI5suaGxunigkZw6dYbKrrCr+HRbaFqgUn3B/E7NvWgagfrffPNN/YEwm/XDlgnHWmkCUw6adLXlTqcRkFLPb8tDT0YO3as/f5aGa/YhSFKKSNHjqx/7Y8//rh7R5CEwJRPpQQm9XzruWmGt0WLn/+oEl+5zg9l0u8VrVdRCNK+L14fLZpkryvY2l/qpte+aM6TliLXvjXp65KK/x0JTM0bN25c/Xu11157VeQKZK0UvaZyTqZ15VRfq6ttupqa9Bw/N8ovz1/pwKTij9UqOrnSsNpiEZgolOID00cffWR22WWX+s+bjjUffPCB22rMp59+2ug8XvPpyzV37lyzxBJLmO7du7uauiHzClEaQaWRWTqWavi8fpaOfbpZfWurWmDSQgQa8qKDvd7YuJ9++slu32OPPezQh7TSBCb1Cuvr4sNpVDR3QMNpkobQ6Q+4yiqrNDu8TjtpDSPQVaD4Ig/jx4+vWIC6/vrrbe+bDmiF5ihpGIOCQppx4FnXWoFJHQTqEfUl2jMjajPR7erNqQT/GQgtMGlIrK4a6d9CtIP1Q4v02U36HJVadJKok2r/vm+77bb2hFIHGl0Z0v5Pw+7iQ+4UoLRoi/Zb0fpo0XA+fZ79904qpXTy+K8hMDWl45U6vnQioQP0jjvuaG644YbE9zHLRe9NOSfTp556an378Qs/FCrVDEwqut+Z5gDr86Wfc+KJJxa1P2/LwNTc8eC7775rtE2l3OMBgYnSUlH7KHZIno6ZxZ7Hf/XVV662dDoX1u910003uZqGjisNAfb3HVWwuvbaa+3vo1Vt9bg1VXUOk4KClttOojdIabFSLzhNYDr++OPt18WH06hsvvnmzQ6nOfTQQ5tsi5YDDzzQ7tjj9dph6oRJV4fi28otGjbihywkhaZSeuHzqrUCU/QKq0J19AqrRHuxK3GF1fPfM7TAVAzfG6b9ju8Nb6uifaN+F92DKWl7NYpvGwSmxrQkve5r598fLViQ9P7loej1lXMyPXDgQPu16hxI2h4t1Q5MvsQ7K3S7jua0ZWBqrRE3BCZKS0Xto5Q5TK1xHu/nVkUvnkyePNnstNNO5u2333Y1DTp27GifX+l7tbWkqoHpN7/5jX1R8SsamtyliaEaWlIp5QYm9fwqFOnrLrvsMjt8TuVvf/ubbVRqKJorEP0a9fz6JU81ITu6LVruuOMO+xy9Vi2NGi1rrLGG3TZ69OjEry23aO6YJijrZ6h3QDti9cCpqBdAP1P/+jqNPQ1p3lNrBSZ/hVU/S8On4tQzo8vMWoa6EldYPf08lbwHJu1TFPxbKmrbeq/VK6UrB1p1Sz3USZ+d1ir333+//RtpKfNqDNEtVHzbIDDV0efOr1qqIR66ijJp0qTE9y6LRe+F5rhpnq0vvt1F64q5AbK/QhJf6CGptFZg8kW90upt1udbnZ86iUuaON6WgamYETeVOB4QmCgtFbWPUgJTofN4jZKpxHm8PqsaXqvhd8XShQF9lnQD8dZU1cCkMY16oxWQoq644gp7dSVen0Y5gUm9ONFJpEll9dVXb/J1fk6SdoDNTQb2SwY3V1paTric4sd5a86Un0NRqKQZd5pFrRWYxF9F0KqIcZq0qG1XXnmlq6kM/3fNe2ASv3BDoaLt4k/gtKJk0ueltYsf3qTOiqTt1Sr+fQk9MOnAHz1e6CpFW4foahV/n69CRb3DzQ0pL6e0dmDy5ZRTTql/XUknX20ZmKSlnnr9bmmPBwQmSktF7aOUwJR0Hq+OyLXXXrsi5/G6aKDv88UXX7ia5mm4qn4frQTZ2qoamLTEqF5YfHiYVrrQzq2S0gzJK7VoqVn9nB49eiRur4Wik0P9jpp/5d+XpKJx+yFpzcDkl5pOOkCrV1Tb3nrrLVdTGf7vGkJg0hVS/3qTiraLrrbqcSWHv6Yp6rHTAWLq1KmJ26tV/PsScmDSWHidLPj3QkNBkt6rPBWtXudfb7xU48Ra82n1vdXznLS9WkXBb8CAAfWvTecE0V7xtg5M/nigq0lxuvWAtqU9HhCYKC0VtY9SAlPSefwzzzxj6ypxHq/jYefOnd2jlqnDUYutqZOrtVU1MOmeDXpToydvGo6i5bt1ibqSWjMwaaK1hjXoBn5J22uh6HfTcrjt2rWzQxX8exMtWja3LVYaaUutGZj8AgNaSj5KvTP621T66pL4v20IgUnD2fzrTSqa06DOGa2+o5O4pM9JaxcNAdbvpDkhSdurWfz7EmJg0omz5pFon7fkkkvaq/+6Et/c/a/yUjTMcNFFF63/+/uy7777VvTqku5RpQnafuifrvBqIaVihvxVsuj470d36D5rWqRC89TaOjD540H82KNzIp0AVuJ4QGCitFTUPkoJTEnn8bovmubnpz2PV9vX0DrdrqAlmiel5+kWHknTHFpDVQOTvwfJU089ZR9rR7HIIovY+zRUWmsFJg3B08GntYfTlFv8wSupaFJdaFozMPmemZNOOsnV1NEKT5pbUA3+bxtCYJLo5z5aVO8Xc2mLcFKLxb83oQUm9UT6166rLfHVSkMofsSBL5rnmpd7SxUqU6ZMaXT806qH+retAlNrjLghMFFaKmofpQSm+Hm8hsRpYZK0N5jVlVZNeYl+7+b4UTm6UutXzWttVQ1Mmp+jF/jAAw/Yx0qq6vGpxslqawUmnYTp6lIxk19roYwZM8b+vv698aWYRJ9HrRmYfM+M2oynHhWdrKjXtRr83zeUwKS/Y3wukx7rBERXVtXj3dYr4tVK8e9PCIHpjDPOsIt+aPy92oFOnLWoT6Xn62Sl+HlFvmjxk6Tn5a1o2KuCiv7+6qzVa1cHSltojRE3BCZKS0Xto5TAFD2P1zwjTfM477zz3NamFISKuR+oOuz1fZUJ4gtKxE2YMMGGq6uvvrrF51ZTVQOTVtbRG+JPDrUSxjvvvGP/H6fhNZp8q4lcPmCVojUCk4Zv9O/f314hSNpeq0U9bdHQpGEpoWrNwOR7Zn7/+9/bx/qZOmhrRadqrUzo/8ahBCZRAPCvW8XPB6iVRR5qpfj3J4TAFC0Kz0nvR2glOpdJwxGTnpPnctRRRzVqF62tNUbcEJgoLRW1j1ICU/Q8Xqswq81+9tlnbmtjjz76qF1BWguOtUSdWvq+usVKc6ZPn26fV8lVtctV1cA0a9Ys+0K1Q/jjH/9Yf+IY9/TTT5vtt9/eTJs2zSbT9u3b25OeYufX6GdES7XnMGWxaFjK+uuv3+S9CqlIawYm3zOjsevir7AmnbDqDtq33XabXaZe88/K5V+rrmrptYZSll12Wfu6fS+y5oiFOPSqueLbRtKyxnmgeSrR+9n4oqsLlLXqV4TVHICk7XkvfviPL5qHodVKW0trjLjRvlA/g8BEKVTUPkoJTNHzeJ2Xa0XHJLpFg1YE1lV9LZHfEi30oFvcNNd5rCuvygaHHHJIkxvjarRAsSvrVUpVA5PGOOqN1vKD+ldJMU6X73QPjOgkLg0X0/PvvfdeV9M8PTdazjrrLLvDoDQu3bt3b/JehVREPdAKJq1xWdf3zOhKhxS6wqrPiS5za8VC9dDo8xJfKKJY8dccYtH8sKQDRejFvz95pDHt+lz7Em0PFEpS8W1lzpw5rhVVV2uMuCEwUVoqah9+BdliRM/j99lnH1fblJ/TpOFzLQUmXRzR92ypw0K3B9By/HEKShpqXczQv0qqamASv0Kbbg6btJzmyy+/bLdffvnlrsbYoKS6wYMHu5rm6bkUSkultelgqJ/729/+1rZp9ZQk0X3JunXr5h4ZO9dCXxefHFyM6OsNsWh+mIYb6SablMbFv0chiLYJCiWptDZ/PBg2bFizx4NoB5rmiuhriu1A84GJQmmplMKfx2u12ZYUE5i0iqUulDRHo260eqQ6DXTj+Wjxnf9a3rw1VT0wdejQwU7C/s9//uNqGtPOQy9cK2B4utSmOo1xLIYflkOhNFdam4YIqR3r4Kc5ZFp2N06XmX/5y182urmtJirr6zRRu1T6OgqluQKg9fnjgYZoFzoeqFP5oIMOqr+hvIYrqTNNX1fMyaGOc9HPOoVSqJTCn8cXM02mpcA0c+ZMO3Q+uhhWEnUkJ/3e0aILLq2p6oFJ85OaGzN/ySWX2BeuCZGeHzNZ7rAkoFYsvvjiti0XusLqJ6lryVvvww8/tHVttZpT1uhERPPCKC2Xjz76yL1rAFpbSyNu9PnUdkbcUKpdStHSeXxUS4FJC0fo52uFyKypemBqiW4qpzdPl589LQOsugsuuMDVANm0xhpr2AUJCl1h1Y5IbT16NUm9OKqjwwAA8qOlETf+ZtyMuKFUu1RLS4FJc7q1UvOXX37parKjzQOTboKlnYEWavBGjhxp65IuWQNZogPga6+95h415YffaXU8T6smqW7AgAGuBgCQdS311GtlT+37GXGDrNIiJYWWFdfiPO3atTNXXnmlq8mWNg9MonXbdR8lT0sIageh+x4BeeZ7DzVe19MYX9VFh2UAAPItqQNNQ2lVRwcaap2GlGoO3kILLWTn3MWXDB8zZoy9rUFWb21RE4Hprbfesuu7qwdFN4bVMoLRS9JAXuk+A+qN0X3KvEmTJtkD5BNPPOFqAAB59/7779t9f3Q6gu57ozotkAXUKi3RHx/2p1UePc3Z6927t+nTp4+ryZ6aCEyiN1NrxGuIHhCSv//973ae0+zZs+3jI4880t7QDQAQFkbcALWpZgITEDJdqtbN5Pr162cXQGmNG+sCAGoLI26A2kRgApA7Ouk488wz64uWMgWALGDEDVB7CEwAckeTT3/961/boSyrrLKKXa0QAACgHAQmALmkCafxCdRAKMaNG2d22GEHW7p162YefPBBtwUI16uvvmomTpxYXz744AO3BWgegQlALmk1HgUm3UgPCFH79u3tZ+CUU05xNUDYHnroIfuZUNl+++0JTCgagQlALvkheRwQEaKvv/7azD///PYzcPfdd7taIGyaH7bYYouZJZZYwnz++eeuFmgZgSmndIBk0jtCtsIKK5hOnTq5R0BYXnrppfqedJakBup8/PHH9VeXgFIQmHJKq4T9/Oc/tzuGwYMH08uOoLz55ptmvvnms8vyAiEaNWqU3f936NCB2xQAzpNPPmk/F8cdd5yrAYpDYMopXXZeaKGFzEorreRqgHBceOGF9qA4bdo0VwOE5ayzzrKfgZ49e7oaANddd539XFxxxRWuBigOgSmnuOyMkO2zzz5mgQUWoGcdwTryyCPtMeCqq65yNQB8R8I999zjaoDiEJhyisvOCNVnn31m2rVrZ9Zff31XA4Rniy22sJ0G7733nqsB8Lvf/c6eG7322muuBigOgSmnuOyMUN1222227Xfv3t3VAOFRp8E222zjHgGQddZZxyyyyCJm3rx5rgYoDoEpp/r27WtPGh955BFXA4Rh3333tW1/4MCBrqbODz/8YHbbbTez5ZZb2jl+QF498cQT9jNw2WWXuRoAGn2gud0HHHCAqwGKR2DKqa5du9oD5syZM10NkH9z5841Cy64oG37d9xxh6uto7u6q/7iiy92NUA++Zs2Jw3H0xwORh4gRH70wZ133ulqgOIRmHKKy84IkZYT1wFRZfLkya62jp8E/+yzz7oaIJ8233xzs/jii7tHDb777ju7zPjIkSNdDRAOOhKQBoEph7jsjBBpRbwePXrUByZdZdVqeXvvvbfZbLPN7H2ZOnfuzHA85NqcOXPM/PPPb4eexl1++eX2s/HKK6+4GiAMGn2g26ysuOKKrqbB+PHj7X0rH3jgAVcDNEVgyiEuOwNoK8OHDzdnnnlmfXn++efdFmO+/PLLRttUNN8GlXPzzTfb/b8WfBgxYoQtN954ozn22GPtqnnt27en0wDBefDBB+s70qL+9a9/2Q5mbZs1a5arBZoiMOWQJr0vvPDC5vPPP3c1dfyk9+uvv97VAEBl+bliKpdeeqkNSZ56ebUQjXpzNdesf//+5qOPPnJbkZausuqmzWeffXbBcvvtt7tnA2HQ8OzVV1/d7pN0lUkjD1T22msv07FjR1vP6AO0hMCUM37S+7rrrutqGvgTmfjcDgCopOWXX95ezUjy448/2sCkE3sAALKAwJQzPhTtuOOOZvr06bZokvt9991nunTpYk9UvvjiC/dsAKi87bbbzs6jSeqxPe2008zWW2/NgjQAgMwgMOXI119/bVdAUmAqVHQZGgCqyd9NX/ukqBkzZth6zbMEACArCEwAgIrq1auXDUYff/yxq6mjZXs1wTpeDwBALSMwAQAq6vTTT7eB6e2333Y1xnz77bdm4403NuPGjXM1AABkA4EJAFBRupKkwBRdUlwr4nXr1s09AgAgOwhMAICK0tLVCkyPPfaYfTxs2DC7ap6WFAcAIGsITACAipo0aZINTGPHjjUzZ8408803n10IIomuQul+KLpHHHfaBwDUIgITAKCiXnjhBRuYRo0aZYYPH24WWWQR884777itDbS0+EYbbWSGDh1qzjvvPPs1EyZMcFsBAKgNBCYAQEXNmjXLhp9rrrnG3pNp/PjxbksD3aPpoIMOsivqiW5oqzlOe+yxh30MAECtIDABACpKV44UmNZee+2C9357+eWX7XMuv/xyV2PMvffea9q3b+8eAQBQGwhMAICKW2yxxWwgmjhxoqtpTAtBaPtNN93kahpubBu/4S0AAG2JwAQAqLhlllnGHHzwwe5RU5dccokNRzfffLOraRjK99lnn7kaAADaHoEJAFBxTz/9tPn000/do6aGDBliw9GNN97oaoz597//bevmzp3ragAAaHsEJgBAq5syZYoNRxdccIGrMXZxiJVXXtk9AgCgNhCYAABtokuXLo2G7R1yyCHNDuMDAKAtEJgAAG3irbfessuO//nPfzb9+/c3m222mb2HEwAAtYTABABoM7of0xtvvGHeffddVwMAQG0hMAEAAABAAQQmAAAAACiAwAQAAAAABRCYAAAAAKAAAhMAAAAAFEBgAgAAAIACCEwAAAAAUACBCQAAAAAKIDABAAAAQAEEJgAAAAAogMAEAAAAAAUQmAAAAACgAAITAAAAABRAYAIAAACAAghMAAAAAFAAgQkAAAAACiAwAQAAAEABBCYAAAAAKIDABAAAAAAFEJgAAAAAoAACEwAAAAAUQGACAAAAgAIITDnw448/mtdff938+9//djXF+/zzz82MGTPMvHnzXA0AAAAAj8CUA88884z52c9+ZtZbbz1XU7ybbrrJfu1jjz3magAAAAB4BKYcuOKKK2zoufzyy11N8aZPn26/dtCgQa4GAAAAgEdgyoGddtrJdO7c2XzzzTeupngairfddtuZLbfc0tUAAPLiq6++Mu+++657VBwdS1599VXz3XffuRogGx5++GFz4IEHmqlTp7qawt555x0zZMiQRudOf/nLX8yFF17oHgENCEwZ98UXX5gFFljA3Hzzza6mdGPHjrVXmT744ANXAwDIg/32289svvnm7lFxJk6caI8Jw4cPdzVANuy7775mmWWWMd9//72rKWzEiBG2nUfnf+tcql27dnQWoAkCU8adffbZ9sOtXsQ47TBeeOEFM378ePPII48U7GXUjqF9+/bmpJNOcjVAtpXTq+7Ru468uP322818881nzjmntMO8PgNrrLGG2WuvvVwNUPtmzZplFl98cTNq1ChX07ykwDR37lyz8sormz59+rgaoA6BKePWWmsts9FGG7lHDRSSfvGLX9idgS/zzz+/ueCCC9wzGlMPpHplgDyI96rrAKqD4E8//eRqCqN3HXmg1VM7dOhg2/K0adNcbfEUthZccMHEzjigFp122mm287dYSYFJevToYTsaGHWDKAJThn3yySf2w96tWzdX06B3797mhBNOMPfcc495+umn7bhezXXS83VCGNe9e3e77f3333c1QDYl9apfcskltn3/8MMPrqYweteRB9rvq80vvfTS5ttvv3W1xdPnYIkllrCjGIBa97///c8sueSSZtddd3U1Ten85tFHHzWTJ0+27btQYLr00kttPaNuEEVgyrBXXnnFfqh///vfu5rm3Xvvvfb52hnE/eEPf7DbnnvuOVcDZE+hXvVSApPQu46s8yd9hYYWffrpp+bWW2+1vfLXXnutvSdf3I477mhHKhRzZRZoS//85z9te1dHcZzC1O677263+7LzzjvbUQT6fzwwPfDAA7aeUTeIIjBl2LPPPms/1Ao7xdC9lvT88847z9U0OPHEE+22p556ytUA2fPWW2/Zdqzy3//+19WWHph0MqmrVHfccYerAbLlT3/6k23zN9xwg6tp8I9//MPO9fCfFZUtttiiybw9P/Jgzpw5rgaoTX//+99tW/3rX//qahpcf/319e1cIwf22WcfO0VBw7RVFw9MWmHPPz+pIwFhIjBlmMKNPtB9+/Z1NQ00BEOr351++unmsMMOMwcddJDtUdHzzz33XPesBv3797fbJkyY4GqA7PFDLH7zm9+4mjrxwDRjxgzz0EMPmZdfftk+TrLhhhuaLl260LuOTNp7771tm3/jjTdcTZ3Zs2ebVVdd1Q471fLJ6k0fNmyYvb3EjTfe6J5V59RTT7Xfg4401Dp1DKitxtuwbLrppmaxxRYz48aNq9+fayGspZZayn5NPDBp6J7qVV566SVXi9ARmDLMX2E69thjXU2Dk08+2W5be+21zRlnnGEXe9DzVJcUmBS6tE1je4GsKtSr7gOThtgdf/zx9v++9OzZM3FFPN+7rhXzgKzRFSPdciLuqKOOsvXxCe0azqoSpUClz4DmwgK1zO/jNZw6SleIVP/HP/7R1TQoNCRPoxNUr0JnATwCU4ap51Af6IMPPtjV1NHJnybravKjxu56TzzxhH1+UmA68sgj7bbmetyBWleoV90fTDUEQ1eONERDvY1aMEX1m2yyifnyyy/ds+v43nVuYogsWmeddcxyyy3nHtXRFVYdG9Tei3HVVVfZz4Cu3AK1TOc1aqujR492NXX8VISk4dWFFn3QeZPqVRh1A4/AlGFa5UUf6B122MHV1NGQC9XHVze67bbbbH1SYFK40jbdCBfIqkK96j4wHX744a6mzr/+9S9br6KVJKN873q8QwLIgjXXXNN07NjRParje86bW0ksasiQIfb5GrIH1DK/j4/fg0m3WFF9PEhJocCkOayqV2HUDTwCU8atssoqZt1113WP6miMrib0apy6X+VLk3Y1PE87gKTApB5HjecFskxXj5Luw+EPpvHllTUEyY9jj58UDh482NbvsccergbIjg022MCucBflA1PXrl1dTfMuu+wy+3ytpgfUsquvvtq21fjV0ClTptj66667ztU0KBSYNFxV9SrPP/+8q0XoCEwZp0UdFllkEfPxxx+7mjqXX365DU1aFrNTp072pFD3FNAO4Pzzz3fPqvP111/b5yYtxwlkiSayr7TSSu5RAx+YklbJ88vNxofeXXPNNbZ+6623djVAdmyzzTa2/UZHDfghefFOtkJ0LzN9j/vvv9/VALXprrvusm110KBBrqaORuLo/EajD6IdZrqK5EfWxAPT9OnTbb3KrFmzXC1CR2DKuM8++8wuj3nFFVe4mgZz5861Ny/UvCS/MowOnqqPGjlyJDsG5EJSr7o0F5j8vKeLLrrI1dTxvevxFfeALNDKqGq/8TkYfvEfLS0epZPGZ555xj2qc8wxx9jnslIYat0LL7xg22rSbVb8Pn633XazHcSa562RA7rXnurjgWnMmDG2nlE3iCIw5YBuLqie9eh9Z4ql8NS5c2ez1VZbuRogu5J61cUHpni92r/meWjbzTff7Grr+N714447ztUA2XHWWWfZ9qsb00Z99NFHdn6Tet01p+/iiy82/fr1s1dmdQPbKA3dW2ihhbiBM2qe2qiGY8fndItuyK8rTApIWl584YUXtgv+qF732/vPf/7jnllHqwrrs8OoG0QRmHLAT8wdOHCgqymeehT1tTqhBLKuUK+6D0w6aEZvRKgJvapXia8Q6XvXdQUWyBrfS77CCiu4mgavvPJK/ZxWFY1SGDBggNvaQEO6tbw+kAW6rcSiiy7aZHl8Tyuh6srqhx9+6Grq6uL2228/G6QYdYMoAlMO6MPfp08f2yNeKp0w9u7du0kPC5BFhXrVFZj83I2ll17a3qhZc5Y0hE+9jrpvWfwg63vXowdXICu00I/mt+rzoICUREO633333Ua3n/AmTpxoTxp1vz8gC3TDWQ3J1gIQ5dKcJy3Hr3tTAlEEJgC5UahXXQdQDUOaN2+eOe+88+pPJFdccUUzdepU96zG6F1H1vkbOSfNcW2JrsZ26dLFPQKyQfvsdu3aJV45KsaVV15pO9fic70BAhOA3PA3c1aJXxmKzsPQJF/dyDk6PC9KPZX6HvF7egBZMnPmTHuV9IgjjnA1xfH38tPoAyBL/O0gbrnlFldTmk033dQuDgHEEZgA5IaG1e2yyy72gHnnnXe62tJpJTFdfdJqSkCW3XPPPU2WWm7JjBkzzPHHH29efPFFVwNkg1ZCVeAv9wqROtG0kh4QR2ACkCvl9qp79K4DAIAoAhOA3CmnV92jdx0AAEQRmAAAAAAgkTH/B0Kk6NJPEQRfAAAAAElFTkSuQmCC)\n",
        "\n",
        "\n",
        "Dimisalkan sumur potensial tersebut memiliki lebar $L=4 ~a.u$ dengan potensial $V_0=0 ~a.u$ dan $V_1=7 ~a.u$, maka permasalahan tersebut dapat diselesaikan secara analitik dan numerik."
      ],
      "metadata": {
        "id": "fKYoobS7DP9Q"
      }
    },
    {
      "cell_type": "markdown",
      "source": [
        "##Solusi Analitik\n",
        "\n",
        "Berdasarkan gambar di atas, terjadi peningkatan potensial sebesar ΔV. Pada gambar (a), (b) dan (c), peningkatan potensial tersebut dapat diasumsikan sebagai luasan segitiga yang dibentuk pada gambar, sedangkan pada gambar (d) diasumsikan sebagai luasan persegi panjang yang dibentuk pada gambar. \n",
        "\n",
        "Nilai $\\Delta V$ dapat dihitung sebagai berikut:\n",
        "\\begin{align}\n",
        "\\Delta V &= \\frac{1}{2} \\cdot alas \\cdot tinggi \\\\\n",
        "&= \\frac{1}{2} \\cdot \\frac{L}{2} \\cdot {2V_1} \\\\\n",
        "& = \\frac{LV_1}{2}\n",
        "\\end{align}\n",
        "\n",
        "\n",
        "Seluruh gambar memiliki besar $\\Delta V$ yang sama.\n",
        "\n",
        "Energi pada tingkat energi tertentu memenuhi persamaan berikut ini.\n",
        "\\begin{align}\n",
        "E_n = n^2 \\frac{\\pi^2 /2}{L^2} + V_0 + \\bar{\\Delta V}\n",
        "\\end{align}\n",
        "\n",
        "$\\bar{\\Delta V}$ merupakan potensial rata-rata sebagai berikut.\n",
        "\\begin{align}\n",
        "\\bar{\\Delta V} = \\frac{\\Delta V}{L} = \\frac{LV_1}{2L} = \\frac{V_1}{2}\n",
        "\\end{align}\n",
        "\n",
        "Sehingga persamaan energinya menjadi:\n",
        "\\begin{align}\n",
        "E_n = n^2 \\frac{\\pi^2 /2}{L^2} + V_0 + \\frac{1}{2}V_1\n",
        "\\end{align}\n",
        "\n",
        "Persamaan di atas belaku untuk seluruh tingkat energi $n$."
      ],
      "metadata": {
        "id": "j0s54FzPEW-a"
      }
    },
    {
      "cell_type": "markdown",
      "source": [
        "## Solusi Numerik\n",
        "\n",
        "Solusi numerik permasalahan tersebut dapat dihitung dengan menentukan syarat batas potensial di sepanjang sumur potensial, kemudian menyelesaikan persamaan Schrodinger pada setiap tingkat energi. Implementasi permasalah tersebut secara numerik dapat dilihat pada program di bawah ini dengan mengatur nilai potensial sesuai dengan permasalahan."
      ],
      "metadata": {
        "id": "D5HsYU8gHRjA"
      }
    },
    {
      "cell_type": "code",
      "execution_count": null,
      "metadata": {
        "id": "Sc8Ebz7J5jww"
      },
      "outputs": [],
      "source": [
        "#Import necessary library\n",
        "import numpy as np\n",
        "import pandas as pd"
      ]
    },
    {
      "cell_type": "code",
      "source": [
        "def potential(xmin, xmax):\n",
        "  '''\n",
        "  Set the potential within the system in certain interval\n",
        "  Input   : x interval\n",
        "  Return  : potential\n",
        "  '''\n",
        "\n",
        "  # potential_v = 0\n",
        "  v1 = 7\n",
        "  v0 = 0\n",
        "\n",
        "  # Kasus A\n",
        "  if (xmin < 0):\n",
        "    potential_v = v0 + (2*v1)/(xmax) * abs(xmin)\n",
        "  else:\n",
        "    potential_v = 0\n",
        "\n",
        "  # Kasus B\n",
        "  # if (xmin < 0):\n",
        "  #   potential_v = 0\n",
        "  # else:\n",
        "  #   potential_v = v0 + (2*v1)/(xmax) * abs(xmin)\n",
        "\n",
        "  # Kasus C\n",
        "  # if (abs(xmin) < xmax):\n",
        "  #   potential_v = v1/(xmax) * abs(xmin)\n",
        "  # else:\n",
        "  #   potential_v = 0\n",
        "\n",
        "  # Kasus D\n",
        "  # potential_v = v1/2\n",
        "\n",
        "  return potential_v"
      ],
      "metadata": {
        "id": "3LPAljGs5zcJ"
      },
      "execution_count": null,
      "outputs": []
    },
    {
      "cell_type": "code",
      "source": [
        "def normalize(n, h, psi):\n",
        "  '''\n",
        "  Normalize wave function\n",
        "  Input   : initial wave function, number of points, step\n",
        "  Return  : normalized wave function\n",
        "  '''\n",
        "  norm = psi[0]**2+psi[n]**2\n",
        "  for i in range(1,n-3,2):\n",
        "    norm = norm+4*psi[i]**2+2*psi[i+1]**2\n",
        "\n",
        "  norm = norm + 4*psi[n-1]**2\n",
        "  norm = 1/np.sqrt((norm*h/3))\n",
        "\n",
        "  for i in range(0, len(psi)):\n",
        "   psi[i] = psi[i]*norm\n",
        "\n",
        "  return psi"
      ],
      "metadata": {
        "id": "ck3lRMKk6PoJ"
      },
      "execution_count": null,
      "outputs": []
    },
    {
      "cell_type": "code",
      "source": [
        "def numerov(nx, x, e_init, psi):\n",
        "  '''\n",
        "  Integrates the wave function using Numerov's method\n",
        "  Input   : number of points, x inteval, initial energy, wave function\n",
        "  Return  : integrated wave function\n",
        "  '''\n",
        "\n",
        "  #Calculates the steps\n",
        "  h = xmax/nx\n",
        "  h2 = h**2\n",
        "  h12 = h2/12\n",
        "\n",
        "  #Initialize wave function\n",
        "  psi[0] = 0\n",
        "  psi[1] = 0.0001\n",
        "\n",
        "  #Calculates using Numerov's nethod\n",
        "  fn = 2*(potential(-x, x)-e_init)\n",
        "  q0 = psi[0]*(1-h12*fn)\n",
        "  fn = 2*(potential(-x+h, x)-e_init)\n",
        "  q1 = psi[1]*(1-h12*fn)\n",
        "  \n",
        "  for n in range(2, 2*nx+1):\n",
        "    q2 = h2*fn*psi[n-1]+2*q1-q0\n",
        "    fn = 2*(potential(n*h-x, x)-e_init)\n",
        "    psi[n] = q2/(1-h12*fn)\n",
        "    q0 = q1\n",
        "    q1 = q2\n",
        "\n",
        "  psi = normalize(2*nx, h, psi)\n",
        "\n",
        "  return psi"
      ],
      "metadata": {
        "id": "7AT8_n4h7Jx4"
      },
      "execution_count": null,
      "outputs": []
    },
    {
      "cell_type": "code",
      "source": [
        "def calculates(nx, x, e_init, de, eps, psi):\n",
        "  '''\n",
        "  Starting course search and approximate energy level using bisection method\n",
        "  Input   : number of points, x inteval, initial energy,\n",
        "            eps, lists to store energy and deviation\n",
        "  Return  : Energy approximation, wave function\n",
        "  '''\n",
        "  #Starting course search\n",
        "  psi = numerov(nx, x, e_init, psi)\n",
        "  dev1 = psi[2*nx]\n",
        "\n",
        "  while True:\n",
        "    #Update energy with de step\n",
        "    e2 = e_init + de\n",
        " \n",
        "    psi = numerov(nx, x, e2, psi)\n",
        "    dev2 = psi[2*nx]\n",
        "\n",
        "    #Check if deviation is zero\n",
        "    if dev1*dev2 < 0:\n",
        "      break\n",
        "\n",
        "    #Update energy and deviation value for next iteration  \n",
        "    e_init = e2\n",
        "    dev1 = dev2\n",
        "\n",
        "  #Starting bisection\n",
        "  while abs(e_init-e2) > eps:\n",
        "    e3 = (e_init+e2)/2\n",
        "    psi = numerov(nx,x,e3,psi)\n",
        "    dev3 = psi[2*nx]\n",
        "\n",
        "    if dev3*dev1 <= 0.000000 :\n",
        "      e2 = e3\n",
        "      dev2 = dev3\n",
        "    else:\n",
        "      e_init = e3\n",
        "      dev2 = dev3\n",
        "\n",
        "  return e3, psi"
      ],
      "metadata": {
        "id": "Kfuv66Bk8V7V"
      },
      "execution_count": null,
      "outputs": []
    },
    {
      "cell_type": "code",
      "source": [
        "def schrod(nx, xmax, e0, de, filename, n):\n",
        "  '''\n",
        "  A function to calculates energy and wave function\n",
        "  Input   : number of points, x interval, initial energy, delta e, filename, energy level\n",
        "  Return  : approximated energy, psi .date file\n",
        "  '''\n",
        "  #Initialize Parameters\n",
        "  eps = 10e-6\n",
        "  dx = xmax/nx\n",
        "\n",
        "  #Initialize wave function\n",
        "  psi = np.zeros(2*nx+1)\n",
        "\n",
        "  #Calculates energy and deviation\n",
        "  energy, psi = calculates(nx, xmax, e0, de, eps, psi)\n",
        "\n",
        "  #Save output as dat file\n",
        "  filename = filename + str(n) + '.dat'\n",
        "  x = np.zeros(2*nx+1)\n",
        "  for i in range(1, 2*nx+2):\n",
        "    x[i-1] = (i-1)*dx-xmax\n",
        "    \n",
        "  with open(filename, 'w') as out_file:\n",
        "    for item in range(len(psi)):\n",
        "      # out_file.write(str(x[item]) + '      ' + (psi[item]) + '\\n')\n",
        "      out_file.write(\"{}      {}      \\n\".format(x[item], psi[item]))\n",
        "\n",
        "  return energy"
      ],
      "metadata": {
        "id": "tzIAojNe_9Nb"
      },
      "execution_count": null,
      "outputs": []
    },
    {
      "cell_type": "markdown",
      "source": [
        "### Input parameter yang diinginkan"
      ],
      "metadata": {
        "id": "i_l9SVK9H6hX"
      }
    },
    {
      "cell_type": "code",
      "source": [
        "#Initialize Parameters\n",
        "nx = 100 #Number of points\n",
        "xmax = 2 #L = 4 a.u\n",
        "e0 = 0 #Guessed energy\n",
        "de = 0.001 #Energy step\n",
        "\n",
        "energy_level = [i for i in range(1, 11)]\n",
        "energy_value = []\n",
        "filename = 'psi-outd' #Change name according to the case\n",
        "\n",
        "for i in energy_level:\n",
        "  energy = schrod(nx, xmax, e0, de, filename, i)\n",
        "  energy_value.append(energy)\n",
        "\n",
        "  #Update for the next energy level\n",
        "  e0 = energy + 0.005"
      ],
      "metadata": {
        "id": "TMF58vcJ6QAg"
      },
      "execution_count": null,
      "outputs": []
    },
    {
      "cell_type": "code",
      "source": [
        "#Make dataframe to store energy\n",
        "\n",
        "output = pd.DataFrame(columns=['Energy Level', 'Energy (a.u.)'])\n",
        "\n",
        "for i in range(len(energy_level)):\n",
        "  output.loc[i] = [energy_level[i], energy_value[i]]\n",
        "\n",
        "output"
      ],
      "metadata": {
        "id": "3czvpYynBSWs",
        "colab": {
          "base_uri": "https://localhost:8080/",
          "height": 363
        },
        "outputId": "a1ce928f-89bd-40f4-b6a3-513e0002336e"
      },
      "execution_count": null,
      "outputs": [
        {
          "output_type": "execute_result",
          "data": {
            "text/plain": [
              "   Energy Level  Energy (a.u.)\n",
              "0           1.0       0.738555\n",
              "1           2.0       2.829078\n",
              "2           3.0       5.757383\n",
              "3           4.0       8.685375\n",
              "4           5.0      11.731336\n",
              "5           6.0      15.046687\n",
              "6           7.0      18.971195\n",
              "7           8.0      23.499672\n",
              "8           9.0      28.693695\n",
              "9          10.0      34.507625"
            ],
            "text/html": [
              "\n",
              "  <div id=\"df-66f3803f-7242-489c-a040-599fcffcf64d\">\n",
              "    <div class=\"colab-df-container\">\n",
              "      <div>\n",
              "<style scoped>\n",
              "    .dataframe tbody tr th:only-of-type {\n",
              "        vertical-align: middle;\n",
              "    }\n",
              "\n",
              "    .dataframe tbody tr th {\n",
              "        vertical-align: top;\n",
              "    }\n",
              "\n",
              "    .dataframe thead th {\n",
              "        text-align: right;\n",
              "    }\n",
              "</style>\n",
              "<table border=\"1\" class=\"dataframe\">\n",
              "  <thead>\n",
              "    <tr style=\"text-align: right;\">\n",
              "      <th></th>\n",
              "      <th>Energy Level</th>\n",
              "      <th>Energy (a.u.)</th>\n",
              "    </tr>\n",
              "  </thead>\n",
              "  <tbody>\n",
              "    <tr>\n",
              "      <th>0</th>\n",
              "      <td>1.0</td>\n",
              "      <td>0.738555</td>\n",
              "    </tr>\n",
              "    <tr>\n",
              "      <th>1</th>\n",
              "      <td>2.0</td>\n",
              "      <td>2.829078</td>\n",
              "    </tr>\n",
              "    <tr>\n",
              "      <th>2</th>\n",
              "      <td>3.0</td>\n",
              "      <td>5.757383</td>\n",
              "    </tr>\n",
              "    <tr>\n",
              "      <th>3</th>\n",
              "      <td>4.0</td>\n",
              "      <td>8.685375</td>\n",
              "    </tr>\n",
              "    <tr>\n",
              "      <th>4</th>\n",
              "      <td>5.0</td>\n",
              "      <td>11.731336</td>\n",
              "    </tr>\n",
              "    <tr>\n",
              "      <th>5</th>\n",
              "      <td>6.0</td>\n",
              "      <td>15.046687</td>\n",
              "    </tr>\n",
              "    <tr>\n",
              "      <th>6</th>\n",
              "      <td>7.0</td>\n",
              "      <td>18.971195</td>\n",
              "    </tr>\n",
              "    <tr>\n",
              "      <th>7</th>\n",
              "      <td>8.0</td>\n",
              "      <td>23.499672</td>\n",
              "    </tr>\n",
              "    <tr>\n",
              "      <th>8</th>\n",
              "      <td>9.0</td>\n",
              "      <td>28.693695</td>\n",
              "    </tr>\n",
              "    <tr>\n",
              "      <th>9</th>\n",
              "      <td>10.0</td>\n",
              "      <td>34.507625</td>\n",
              "    </tr>\n",
              "  </tbody>\n",
              "</table>\n",
              "</div>\n",
              "      <button class=\"colab-df-convert\" onclick=\"convertToInteractive('df-66f3803f-7242-489c-a040-599fcffcf64d')\"\n",
              "              title=\"Convert this dataframe to an interactive table.\"\n",
              "              style=\"display:none;\">\n",
              "        \n",
              "  <svg xmlns=\"http://www.w3.org/2000/svg\" height=\"24px\"viewBox=\"0 0 24 24\"\n",
              "       width=\"24px\">\n",
              "    <path d=\"M0 0h24v24H0V0z\" fill=\"none\"/>\n",
              "    <path d=\"M18.56 5.44l.94 2.06.94-2.06 2.06-.94-2.06-.94-.94-2.06-.94 2.06-2.06.94zm-11 1L8.5 8.5l.94-2.06 2.06-.94-2.06-.94L8.5 2.5l-.94 2.06-2.06.94zm10 10l.94 2.06.94-2.06 2.06-.94-2.06-.94-.94-2.06-.94 2.06-2.06.94z\"/><path d=\"M17.41 7.96l-1.37-1.37c-.4-.4-.92-.59-1.43-.59-.52 0-1.04.2-1.43.59L10.3 9.45l-7.72 7.72c-.78.78-.78 2.05 0 2.83L4 21.41c.39.39.9.59 1.41.59.51 0 1.02-.2 1.41-.59l7.78-7.78 2.81-2.81c.8-.78.8-2.07 0-2.86zM5.41 20L4 18.59l7.72-7.72 1.47 1.35L5.41 20z\"/>\n",
              "  </svg>\n",
              "      </button>\n",
              "      \n",
              "  <style>\n",
              "    .colab-df-container {\n",
              "      display:flex;\n",
              "      flex-wrap:wrap;\n",
              "      gap: 12px;\n",
              "    }\n",
              "\n",
              "    .colab-df-convert {\n",
              "      background-color: #E8F0FE;\n",
              "      border: none;\n",
              "      border-radius: 50%;\n",
              "      cursor: pointer;\n",
              "      display: none;\n",
              "      fill: #1967D2;\n",
              "      height: 32px;\n",
              "      padding: 0 0 0 0;\n",
              "      width: 32px;\n",
              "    }\n",
              "\n",
              "    .colab-df-convert:hover {\n",
              "      background-color: #E2EBFA;\n",
              "      box-shadow: 0px 1px 2px rgba(60, 64, 67, 0.3), 0px 1px 3px 1px rgba(60, 64, 67, 0.15);\n",
              "      fill: #174EA6;\n",
              "    }\n",
              "\n",
              "    [theme=dark] .colab-df-convert {\n",
              "      background-color: #3B4455;\n",
              "      fill: #D2E3FC;\n",
              "    }\n",
              "\n",
              "    [theme=dark] .colab-df-convert:hover {\n",
              "      background-color: #434B5C;\n",
              "      box-shadow: 0px 1px 3px 1px rgba(0, 0, 0, 0.15);\n",
              "      filter: drop-shadow(0px 1px 2px rgba(0, 0, 0, 0.3));\n",
              "      fill: #FFFFFF;\n",
              "    }\n",
              "  </style>\n",
              "\n",
              "      <script>\n",
              "        const buttonEl =\n",
              "          document.querySelector('#df-66f3803f-7242-489c-a040-599fcffcf64d button.colab-df-convert');\n",
              "        buttonEl.style.display =\n",
              "          google.colab.kernel.accessAllowed ? 'block' : 'none';\n",
              "\n",
              "        async function convertToInteractive(key) {\n",
              "          const element = document.querySelector('#df-66f3803f-7242-489c-a040-599fcffcf64d');\n",
              "          const dataTable =\n",
              "            await google.colab.kernel.invokeFunction('convertToInteractive',\n",
              "                                                     [key], {});\n",
              "          if (!dataTable) return;\n",
              "\n",
              "          const docLinkHtml = 'Like what you see? Visit the ' +\n",
              "            '<a target=\"_blank\" href=https://colab.research.google.com/notebooks/data_table.ipynb>data table notebook</a>'\n",
              "            + ' to learn more about interactive tables.';\n",
              "          element.innerHTML = '';\n",
              "          dataTable['output_type'] = 'display_data';\n",
              "          await google.colab.output.renderOutput(dataTable, element);\n",
              "          const docLink = document.createElement('div');\n",
              "          docLink.innerHTML = docLinkHtml;\n",
              "          element.appendChild(docLink);\n",
              "        }\n",
              "      </script>\n",
              "    </div>\n",
              "  </div>\n",
              "  "
            ]
          },
          "metadata": {},
          "execution_count": 16
        }
      ]
    },
    {
      "cell_type": "code",
      "source": [
        "#Plot wave function\n",
        "import matplotlib.pyplot as plt\n",
        "\n",
        "fig, ax = plt.subplots(2, 5, figsize=(20, 10))\n",
        "\n",
        "for n in range(1, 11):\n",
        "  data = np.loadtxt(filename+str(n)+'.dat', unpack=True)\n",
        "  x_pos = data[0]\n",
        "  psii = data[1]\n",
        "\n",
        "  if n < 6:\n",
        "    ax[0, n-1].plot(x_pos, psii)\n",
        "    ax[0, n-1].set_title('n='+ str(n))\n",
        "  else:\n",
        "    ax[1, n-6].plot(x_pos, psii)\n",
        "    ax[1, n-6].set_title('n='+ str(n))\n",
        "\n",
        "for axis in ax.flat:\n",
        "  axis.set(xlabel='Position', ylabel='Psi')\n",
        "\n",
        "for axis in ax.flat:\n",
        "    axis.label_outer()\n",
        "\n",
        "plt.show()"
      ],
      "metadata": {
        "colab": {
          "base_uri": "https://localhost:8080/",
          "height": 621
        },
        "id": "Xsc5lXM1_Twv",
        "outputId": "ae865337-f35d-428b-c899-a030681d6dfa"
      },
      "execution_count": null,
      "outputs": [
        {
          "output_type": "display_data",
          "data": {
            "text/plain": [
              "<Figure size 1440x720 with 10 Axes>"
            ],
            "image/png": "[encoded data removed]"
          },
          "metadata": {
            "needs_background": "light"
          }
        }
      ]
    },
    {
      "cell_type": "markdown",
      "source": [
        "### Perhitungan analitik"
      ],
      "metadata": {
        "id": "kzlgwwxWIHqr"
      }
    },
    {
      "cell_type": "code",
      "source": [
        "#analytical solution\n",
        "energy_level = [n for n in range(1, 11)]\n",
        "L = 4\n",
        "v0 = 0\n",
        "v1 = 7\n",
        "energy_analytic = []\n",
        "analytic = pd.DataFrame(columns=['Energy Level', 'Energy (a.u.)'])\n",
        "\n",
        "for i in range(len(energy_level)):\n",
        "  e = (energy_level[i]**2 * (((np.pi**2)/2)/L**2)) + v0 + (v1/2)\n",
        "  analytic.loc[i] = [energy_level[i], e]\n",
        "\n",
        "analytic"
      ],
      "metadata": {
        "colab": {
          "base_uri": "https://localhost:8080/",
          "height": 363
        },
        "id": "Cc4N-L0AKFCW",
        "outputId": "d882630d-1b50-494d-c1a8-5cf14eecda20"
      },
      "execution_count": null,
      "outputs": [
        {
          "output_type": "execute_result",
          "data": {
            "text/plain": [
              "   Energy Level  Energy (a.u.)\n",
              "0           1.0       3.808425\n",
              "1           2.0       4.733701\n",
              "2           3.0       6.275826\n",
              "3           4.0       8.434802\n",
              "4           5.0      11.210628\n",
              "5           6.0      14.603305\n",
              "6           7.0      18.612832\n",
              "7           8.0      23.239209\n",
              "8           9.0      28.482436\n",
              "9          10.0      34.342514"
            ],
            "text/html": [
              "\n",
              "  <div id=\"df-81fe634b-b7d0-48a5-ae6d-79de2ddaf78b\">\n",
              "    <div class=\"colab-df-container\">\n",
              "      <div>\n",
              "<style scoped>\n",
              "    .dataframe tbody tr th:only-of-type {\n",
              "        vertical-align: middle;\n",
              "    }\n",
              "\n",
              "    .dataframe tbody tr th {\n",
              "        vertical-align: top;\n",
              "    }\n",
              "\n",
              "    .dataframe thead th {\n",
              "        text-align: right;\n",
              "    }\n",
              "</style>\n",
              "<table border=\"1\" class=\"dataframe\">\n",
              "  <thead>\n",
              "    <tr style=\"text-align: right;\">\n",
              "      <th></th>\n",
              "      <th>Energy Level</th>\n",
              "      <th>Energy (a.u.)</th>\n",
              "    </tr>\n",
              "  </thead>\n",
              "  <tbody>\n",
              "    <tr>\n",
              "      <th>0</th>\n",
              "      <td>1.0</td>\n",
              "      <td>3.808425</td>\n",
              "    </tr>\n",
              "    <tr>\n",
              "      <th>1</th>\n",
              "      <td>2.0</td>\n",
              "      <td>4.733701</td>\n",
              "    </tr>\n",
              "    <tr>\n",
              "      <th>2</th>\n",
              "      <td>3.0</td>\n",
              "      <td>6.275826</td>\n",
              "    </tr>\n",
              "    <tr>\n",
              "      <th>3</th>\n",
              "      <td>4.0</td>\n",
              "      <td>8.434802</td>\n",
              "    </tr>\n",
              "    <tr>\n",
              "      <th>4</th>\n",
              "      <td>5.0</td>\n",
              "      <td>11.210628</td>\n",
              "    </tr>\n",
              "    <tr>\n",
              "      <th>5</th>\n",
              "      <td>6.0</td>\n",
              "      <td>14.603305</td>\n",
              "    </tr>\n",
              "    <tr>\n",
              "      <th>6</th>\n",
              "      <td>7.0</td>\n",
              "      <td>18.612832</td>\n",
              "    </tr>\n",
              "    <tr>\n",
              "      <th>7</th>\n",
              "      <td>8.0</td>\n",
              "      <td>23.239209</td>\n",
              "    </tr>\n",
              "    <tr>\n",
              "      <th>8</th>\n",
              "      <td>9.0</td>\n",
              "      <td>28.482436</td>\n",
              "    </tr>\n",
              "    <tr>\n",
              "      <th>9</th>\n",
              "      <td>10.0</td>\n",
              "      <td>34.342514</td>\n",
              "    </tr>\n",
              "  </tbody>\n",
              "</table>\n",
              "</div>\n",
              "      <button class=\"colab-df-convert\" onclick=\"convertToInteractive('df-81fe634b-b7d0-48a5-ae6d-79de2ddaf78b')\"\n",
              "              title=\"Convert this dataframe to an interactive table.\"\n",
              "              style=\"display:none;\">\n",
              "        \n",
              "  <svg xmlns=\"http://www.w3.org/2000/svg\" height=\"24px\"viewBox=\"0 0 24 24\"\n",
              "       width=\"24px\">\n",
              "    <path d=\"M0 0h24v24H0V0z\" fill=\"none\"/>\n",
              "    <path d=\"M18.56 5.44l.94 2.06.94-2.06 2.06-.94-2.06-.94-.94-2.06-.94 2.06-2.06.94zm-11 1L8.5 8.5l.94-2.06 2.06-.94-2.06-.94L8.5 2.5l-.94 2.06-2.06.94zm10 10l.94 2.06.94-2.06 2.06-.94-2.06-.94-.94-2.06-.94 2.06-2.06.94z\"/><path d=\"M17.41 7.96l-1.37-1.37c-.4-.4-.92-.59-1.43-.59-.52 0-1.04.2-1.43.59L10.3 9.45l-7.72 7.72c-.78.78-.78 2.05 0 2.83L4 21.41c.39.39.9.59 1.41.59.51 0 1.02-.2 1.41-.59l7.78-7.78 2.81-2.81c.8-.78.8-2.07 0-2.86zM5.41 20L4 18.59l7.72-7.72 1.47 1.35L5.41 20z\"/>\n",
              "  </svg>\n",
              "      </button>\n",
              "      \n",
              "  <style>\n",
              "    .colab-df-container {\n",
              "      display:flex;\n",
              "      flex-wrap:wrap;\n",
              "      gap: 12px;\n",
              "    }\n",
              "\n",
              "    .colab-df-convert {\n",
              "      background-color: #E8F0FE;\n",
              "      border: none;\n",
              "      border-radius: 50%;\n",
              "      cursor: pointer;\n",
              "      display: none;\n",
              "      fill: #1967D2;\n",
              "      height: 32px;\n",
              "      padding: 0 0 0 0;\n",
              "      width: 32px;\n",
              "    }\n",
              "\n",
              "    .colab-df-convert:hover {\n",
              "      background-color: #E2EBFA;\n",
              "      box-shadow: 0px 1px 2px rgba(60, 64, 67, 0.3), 0px 1px 3px 1px rgba(60, 64, 67, 0.15);\n",
              "      fill: #174EA6;\n",
              "    }\n",
              "\n",
              "    [theme=dark] .colab-df-convert {\n",
              "      background-color: #3B4455;\n",
              "      fill: #D2E3FC;\n",
              "    }\n",
              "\n",
              "    [theme=dark] .colab-df-convert:hover {\n",
              "      background-color: #434B5C;\n",
              "      box-shadow: 0px 1px 3px 1px rgba(0, 0, 0, 0.15);\n",
              "      filter: drop-shadow(0px 1px 2px rgba(0, 0, 0, 0.3));\n",
              "      fill: #FFFFFF;\n",
              "    }\n",
              "  </style>\n",
              "\n",
              "      <script>\n",
              "        const buttonEl =\n",
              "          document.querySelector('#df-81fe634b-b7d0-48a5-ae6d-79de2ddaf78b button.colab-df-convert');\n",
              "        buttonEl.style.display =\n",
              "          google.colab.kernel.accessAllowed ? 'block' : 'none';\n",
              "\n",
              "        async function convertToInteractive(key) {\n",
              "          const element = document.querySelector('#df-81fe634b-b7d0-48a5-ae6d-79de2ddaf78b');\n",
              "          const dataTable =\n",
              "            await google.colab.kernel.invokeFunction('convertToInteractive',\n",
              "                                                     [key], {});\n",
              "          if (!dataTable) return;\n",
              "\n",
              "          const docLinkHtml = 'Like what you see? Visit the ' +\n",
              "            '<a target=\"_blank\" href=https://colab.research.google.com/notebooks/data_table.ipynb>data table notebook</a>'\n",
              "            + ' to learn more about interactive tables.';\n",
              "          element.innerHTML = '';\n",
              "          dataTable['output_type'] = 'display_data';\n",
              "          await google.colab.output.renderOutput(dataTable, element);\n",
              "          const docLink = document.createElement('div');\n",
              "          docLink.innerHTML = docLinkHtml;\n",
              "          element.appendChild(docLink);\n",
              "        }\n",
              "      </script>\n",
              "    </div>\n",
              "  </div>\n",
              "  "
            ]
          },
          "metadata": {},
          "execution_count": 18
        }
      ]
    },
    {
      "cell_type": "markdown",
      "source": [
        "### **Download Output Files**"
      ],
      "metadata": {
        "id": "BU0daBAlCgcJ"
      }
    },
    {
      "cell_type": "code",
      "source": [
        "# !rm * #Delete all files"
      ],
      "metadata": {
        "id": "id6ew1GShicZ"
      },
      "execution_count": null,
      "outputs": []
    },
    {
      "cell_type": "code",
      "source": [
        "from google.colab import files\n",
        "\n",
        "file_name = 'psi-out'\n",
        "case_name = ['a', 'b', 'c', 'd']\n",
        "\n",
        "for case in case_name:\n",
        "  for n in energy_level:\n",
        "    files.download('/content/psi-out'+case+str(n)+'.dat')"
      ],
      "metadata": {
        "colab": {
          "base_uri": "https://localhost:8080/",
          "height": 17
        },
        "id": "WHUfN0wnCfNm",
        "outputId": "4221f6bc-a0c1-4fe1-f4e7-d2e3b052319f"
      },
      "execution_count": null,
      "outputs": [
        {
          "output_type": "display_data",
          "data": {
            "text/plain": [
              "<IPython.core.display.Javascript object>"
            ],
            "application/javascript": [
              "\n",
              "    async function download(id, filename, size) {\n",
              "      if (!google.colab.kernel.accessAllowed) {\n",
              "        return;\n",
              "      }\n",
              "      const div = document.createElement('div');\n",
              "      const label = document.createElement('label');\n",
              "      label.textContent = `Downloading \"${filename}\": `;\n",
              "      div.appendChild(label);\n",
              "      const progress = document.createElement('progress');\n",
              "      progress.max = size;\n",
              "      div.appendChild(progress);\n",
              "      document.body.appendChild(div);\n",
              "\n",
              "      const buffers = [];\n",
              "      let downloaded = 0;\n",
              "\n",
              "      const channel = await google.colab.kernel.comms.open(id);\n",
              "      // Send a message to notify the kernel that we're ready.\n",
              "      channel.send({})\n",
              "\n",
              "      for await (const message of channel.messages) {\n",
              "        // Send a message to notify the kernel that we're ready.\n",
              "        channel.send({})\n",
              "        if (message.buffers) {\n",
              "          for (const buffer of message.buffers) {\n",
              "            buffers.push(buffer);\n",
              "            downloaded += buffer.byteLength;\n",
              "            progress.value = downloaded;\n",
              "          }\n",
              "        }\n",
              "      }\n",
              "      const blob = new Blob(buffers, {type: 'application/binary'});\n",
              "      const a = document.createElement('a');\n",
              "      a.href = window.URL.createObjectURL(blob);\n",
              "      a.download = filename;\n",
              "      div.appendChild(a);\n",
              "      a.click();\n",
              "      div.remove();\n",
              "    }\n",
              "  "
            ]
          },
          "metadata": {}
        },
        {
          "output_type": "display_data",
          "data": {
            "text/plain": [
              "<IPython.core.display.Javascript object>"
            ],
            "application/javascript": [
              "download(\"download_b58bf7c4-6e1f-46a0-8891-36b6d8ac7b37\", \"psi-outc1.dat\", 8723)"
            ]
          },
          "metadata": {}
        },
        {
          "output_type": "display_data",
          "data": {
            "text/plain": [
              "<IPython.core.display.Javascript object>"
            ],
            "application/javascript": [
              "\n",
              "    async function download(id, filename, size) {\n",
              "      if (!google.colab.kernel.accessAllowed) {\n",
              "        return;\n",
              "      }\n",
              "      const div = document.createElement('div');\n",
              "      const label = document.createElement('label');\n",
              "      label.textContent = `Downloading \"${filename}\": `;\n",
              "      div.appendChild(label);\n",
              "      const progress = document.createElement('progress');\n",
              "      progress.max = size;\n",
              "      div.appendChild(progress);\n",
              "      document.body.appendChild(div);\n",
              "\n",
              "      const buffers = [];\n",
              "      let downloaded = 0;\n",
              "\n",
              "      const channel = await google.colab.kernel.comms.open(id);\n",
              "      // Send a message to notify the kernel that we're ready.\n",
              "      channel.send({})\n",
              "\n",
              "      for await (const message of channel.messages) {\n",
              "        // Send a message to notify the kernel that we're ready.\n",
              "        channel.send({})\n",
              "        if (message.buffers) {\n",
              "          for (const buffer of message.buffers) {\n",
              "            buffers.push(buffer);\n",
              "            downloaded += buffer.byteLength;\n",
              "            progress.value = downloaded;\n",
              "          }\n",
              "        }\n",
              "      }\n",
              "      const blob = new Blob(buffers, {type: 'application/binary'});\n",
              "      const a = document.createElement('a');\n",
              "      a.href = window.URL.createObjectURL(blob);\n",
              "      a.download = filename;\n",
              "      div.appendChild(a);\n",
              "      a.click();\n",
              "      div.remove();\n",
              "    }\n",
              "  "
            ]
          },
          "metadata": {}
        },
        {
          "output_type": "display_data",
          "data": {
            "text/plain": [
              "<IPython.core.display.Javascript object>"
            ],
            "application/javascript": [
              "download(\"download_97029885-52e1-4b57-b2ea-3935ab380bf1\", \"psi-outc2.dat\", 8767)"
            ]
          },
          "metadata": {}
        },
        {
          "output_type": "display_data",
          "data": {
            "text/plain": [
              "<IPython.core.display.Javascript object>"
            ],
            "application/javascript": [
              "\n",
              "    async function download(id, filename, size) {\n",
              "      if (!google.colab.kernel.accessAllowed) {\n",
              "        return;\n",
              "      }\n",
              "      const div = document.createElement('div');\n",
              "      const label = document.createElement('label');\n",
              "      label.textContent = `Downloading \"${filename}\": `;\n",
              "      div.appendChild(label);\n",
              "      const progress = document.createElement('progress');\n",
              "      progress.max = size;\n",
              "      div.appendChild(progress);\n",
              "      document.body.appendChild(div);\n",
              "\n",
              "      const buffers = [];\n",
              "      let downloaded = 0;\n",
              "\n",
              "      const channel = await google.colab.kernel.comms.open(id);\n",
              "      // Send a message to notify the kernel that we're ready.\n",
              "      channel.send({})\n",
              "\n",
              "      for await (const message of channel.messages) {\n",
              "        // Send a message to notify the kernel that we're ready.\n",
              "        channel.send({})\n",
              "        if (message.buffers) {\n",
              "          for (const buffer of message.buffers) {\n",
              "            buffers.push(buffer);\n",
              "            downloaded += buffer.byteLength;\n",
              "            progress.value = downloaded;\n",
              "          }\n",
              "        }\n",
              "      }\n",
              "      const blob = new Blob(buffers, {type: 'application/binary'});\n",
              "      const a = document.createElement('a');\n",
              "      a.href = window.URL.createObjectURL(blob);\n",
              "      a.download = filename;\n",
              "      div.appendChild(a);\n",
              "      a.click();\n",
              "      div.remove();\n",
              "    }\n",
              "  "
            ]
          },
          "metadata": {}
        },
        {
          "output_type": "display_data",
          "data": {
            "text/plain": [
              "<IPython.core.display.Javascript object>"
            ],
            "application/javascript": [
              "download(\"download_de94e4c7-751c-48f2-8cda-a20f39c8d233\", \"psi-outc3.dat\", 8705)"
            ]
          },
          "metadata": {}
        },
        {
          "output_type": "display_data",
          "data": {
            "text/plain": [
              "<IPython.core.display.Javascript object>"
            ],
            "application/javascript": [
              "\n",
              "    async function download(id, filename, size) {\n",
              "      if (!google.colab.kernel.accessAllowed) {\n",
              "        return;\n",
              "      }\n",
              "      const div = document.createElement('div');\n",
              "      const label = document.createElement('label');\n",
              "      label.textContent = `Downloading \"${filename}\": `;\n",
              "      div.appendChild(label);\n",
              "      const progress = document.createElement('progress');\n",
              "      progress.max = size;\n",
              "      div.appendChild(progress);\n",
              "      document.body.appendChild(div);\n",
              "\n",
              "      const buffers = [];\n",
              "      let downloaded = 0;\n",
              "\n",
              "      const channel = await google.colab.kernel.comms.open(id);\n",
              "      // Send a message to notify the kernel that we're ready.\n",
              "      channel.send({})\n",
              "\n",
              "      for await (const message of channel.messages) {\n",
              "        // Send a message to notify the kernel that we're ready.\n",
              "        channel.send({})\n",
              "        if (message.buffers) {\n",
              "          for (const buffer of message.buffers) {\n",
              "            buffers.push(buffer);\n",
              "            downloaded += buffer.byteLength;\n",
              "            progress.value = downloaded;\n",
              "          }\n",
              "        }\n",
              "      }\n",
              "      const blob = new Blob(buffers, {type: 'application/binary'});\n",
              "      const a = document.createElement('a');\n",
              "      a.href = window.URL.createObjectURL(blob);\n",
              "      a.download = filename;\n",
              "      div.appendChild(a);\n",
              "      a.click();\n",
              "      div.remove();\n",
              "    }\n",
              "  "
            ]
          },
          "metadata": {}
        },
        {
          "output_type": "display_data",
          "data": {
            "text/plain": [
              "<IPython.core.display.Javascript object>"
            ],
            "application/javascript": [
              "download(\"download_67fd1cbe-01e7-489f-b4a1-95d0c6693edf\", \"psi-outc4.dat\", 8766)"
            ]
          },
          "metadata": {}
        },
        {
          "output_type": "display_data",
          "data": {
            "text/plain": [
              "<IPython.core.display.Javascript object>"
            ],
            "application/javascript": [
              "\n",
              "    async function download(id, filename, size) {\n",
              "      if (!google.colab.kernel.accessAllowed) {\n",
              "        return;\n",
              "      }\n",
              "      const div = document.createElement('div');\n",
              "      const label = document.createElement('label');\n",
              "      label.textContent = `Downloading \"${filename}\": `;\n",
              "      div.appendChild(label);\n",
              "      const progress = document.createElement('progress');\n",
              "      progress.max = size;\n",
              "      div.appendChild(progress);\n",
              "      document.body.appendChild(div);\n",
              "\n",
              "      const buffers = [];\n",
              "      let downloaded = 0;\n",
              "\n",
              "      const channel = await google.colab.kernel.comms.open(id);\n",
              "      // Send a message to notify the kernel that we're ready.\n",
              "      channel.send({})\n",
              "\n",
              "      for await (const message of channel.messages) {\n",
              "        // Send a message to notify the kernel that we're ready.\n",
              "        channel.send({})\n",
              "        if (message.buffers) {\n",
              "          for (const buffer of message.buffers) {\n",
              "            buffers.push(buffer);\n",
              "            downloaded += buffer.byteLength;\n",
              "            progress.value = downloaded;\n",
              "          }\n",
              "        }\n",
              "      }\n",
              "      const blob = new Blob(buffers, {type: 'application/binary'});\n",
              "      const a = document.createElement('a');\n",
              "      a.href = window.URL.createObjectURL(blob);\n",
              "      a.download = filename;\n",
              "      div.appendChild(a);\n",
              "      a.click();\n",
              "      div.remove();\n",
              "    }\n",
              "  "
            ]
          },
          "metadata": {}
        },
        {
          "output_type": "display_data",
          "data": {
            "text/plain": [
              "<IPython.core.display.Javascript object>"
            ],
            "application/javascript": [
              "download(\"download_bb790afa-8a15-4fb7-b31a-f5417b8a6212\", \"psi-outc5.dat\", 8739)"
            ]
          },
          "metadata": {}
        },
        {
          "output_type": "display_data",
          "data": {
            "text/plain": [
              "<IPython.core.display.Javascript object>"
            ],
            "application/javascript": [
              "\n",
              "    async function download(id, filename, size) {\n",
              "      if (!google.colab.kernel.accessAllowed) {\n",
              "        return;\n",
              "      }\n",
              "      const div = document.createElement('div');\n",
              "      const label = document.createElement('label');\n",
              "      label.textContent = `Downloading \"${filename}\": `;\n",
              "      div.appendChild(label);\n",
              "      const progress = document.createElement('progress');\n",
              "      progress.max = size;\n",
              "      div.appendChild(progress);\n",
              "      document.body.appendChild(div);\n",
              "\n",
              "      const buffers = [];\n",
              "      let downloaded = 0;\n",
              "\n",
              "      const channel = await google.colab.kernel.comms.open(id);\n",
              "      // Send a message to notify the kernel that we're ready.\n",
              "      channel.send({})\n",
              "\n",
              "      for await (const message of channel.messages) {\n",
              "        // Send a message to notify the kernel that we're ready.\n",
              "        channel.send({})\n",
              "        if (message.buffers) {\n",
              "          for (const buffer of message.buffers) {\n",
              "            buffers.push(buffer);\n",
              "            downloaded += buffer.byteLength;\n",
              "            progress.value = downloaded;\n",
              "          }\n",
              "        }\n",
              "      }\n",
              "      const blob = new Blob(buffers, {type: 'application/binary'});\n",
              "      const a = document.createElement('a');\n",
              "      a.href = window.URL.createObjectURL(blob);\n",
              "      a.download = filename;\n",
              "      div.appendChild(a);\n",
              "      a.click();\n",
              "      div.remove();\n",
              "    }\n",
              "  "
            ]
          },
          "metadata": {}
        },
        {
          "output_type": "display_data",
          "data": {
            "text/plain": [
              "<IPython.core.display.Javascript object>"
            ],
            "application/javascript": [
              "download(\"download_1beec8e8-c4d2-4f50-8af1-d77dc624f78e\", \"psi-outc6.dat\", 8775)"
            ]
          },
          "metadata": {}
        },
        {
          "output_type": "display_data",
          "data": {
            "text/plain": [
              "<IPython.core.display.Javascript object>"
            ],
            "application/javascript": [
              "\n",
              "    async function download(id, filename, size) {\n",
              "      if (!google.colab.kernel.accessAllowed) {\n",
              "        return;\n",
              "      }\n",
              "      const div = document.createElement('div');\n",
              "      const label = document.createElement('label');\n",
              "      label.textContent = `Downloading \"${filename}\": `;\n",
              "      div.appendChild(label);\n",
              "      const progress = document.createElement('progress');\n",
              "      progress.max = size;\n",
              "      div.appendChild(progress);\n",
              "      document.body.appendChild(div);\n",
              "\n",
              "      const buffers = [];\n",
              "      let downloaded = 0;\n",
              "\n",
              "      const channel = await google.colab.kernel.comms.open(id);\n",
              "      // Send a message to notify the kernel that we're ready.\n",
              "      channel.send({})\n",
              "\n",
              "      for await (const message of channel.messages) {\n",
              "        // Send a message to notify the kernel that we're ready.\n",
              "        channel.send({})\n",
              "        if (message.buffers) {\n",
              "          for (const buffer of message.buffers) {\n",
              "            buffers.push(buffer);\n",
              "            downloaded += buffer.byteLength;\n",
              "            progress.value = downloaded;\n",
              "          }\n",
              "        }\n",
              "      }\n",
              "      const blob = new Blob(buffers, {type: 'application/binary'});\n",
              "      const a = document.createElement('a');\n",
              "      a.href = window.URL.createObjectURL(blob);\n",
              "      a.download = filename;\n",
              "      div.appendChild(a);\n",
              "      a.click();\n",
              "      div.remove();\n",
              "    }\n",
              "  "
            ]
          },
          "metadata": {}
        },
        {
          "output_type": "display_data",
          "data": {
            "text/plain": [
              "<IPython.core.display.Javascript object>"
            ],
            "application/javascript": [
              "download(\"download_817ee307-a42e-430e-bfb8-b0fe0e208e61\", \"psi-outc7.dat\", 8743)"
            ]
          },
          "metadata": {}
        },
        {
          "output_type": "display_data",
          "data": {
            "text/plain": [
              "<IPython.core.display.Javascript object>"
            ],
            "application/javascript": [
              "\n",
              "    async function download(id, filename, size) {\n",
              "      if (!google.colab.kernel.accessAllowed) {\n",
              "        return;\n",
              "      }\n",
              "      const div = document.createElement('div');\n",
              "      const label = document.createElement('label');\n",
              "      label.textContent = `Downloading \"${filename}\": `;\n",
              "      div.appendChild(label);\n",
              "      const progress = document.createElement('progress');\n",
              "      progress.max = size;\n",
              "      div.appendChild(progress);\n",
              "      document.body.appendChild(div);\n",
              "\n",
              "      const buffers = [];\n",
              "      let downloaded = 0;\n",
              "\n",
              "      const channel = await google.colab.kernel.comms.open(id);\n",
              "      // Send a message to notify the kernel that we're ready.\n",
              "      channel.send({})\n",
              "\n",
              "      for await (const message of channel.messages) {\n",
              "        // Send a message to notify the kernel that we're ready.\n",
              "        channel.send({})\n",
              "        if (message.buffers) {\n",
              "          for (const buffer of message.buffers) {\n",
              "            buffers.push(buffer);\n",
              "            downloaded += buffer.byteLength;\n",
              "            progress.value = downloaded;\n",
              "          }\n",
              "        }\n",
              "      }\n",
              "      const blob = new Blob(buffers, {type: 'application/binary'});\n",
              "      const a = document.createElement('a');\n",
              "      a.href = window.URL.createObjectURL(blob);\n",
              "      a.download = filename;\n",
              "      div.appendChild(a);\n",
              "      a.click();\n",
              "      div.remove();\n",
              "    }\n",
              "  "
            ]
          },
          "metadata": {}
        },
        {
          "output_type": "display_data",
          "data": {
            "text/plain": [
              "<IPython.core.display.Javascript object>"
            ],
            "application/javascript": [
              "download(\"download_5c3f6e21-948b-458e-a521-1a355420aedf\", \"psi-outc8.dat\", 8776)"
            ]
          },
          "metadata": {}
        },
        {
          "output_type": "display_data",
          "data": {
            "text/plain": [
              "<IPython.core.display.Javascript object>"
            ],
            "application/javascript": [
              "\n",
              "    async function download(id, filename, size) {\n",
              "      if (!google.colab.kernel.accessAllowed) {\n",
              "        return;\n",
              "      }\n",
              "      const div = document.createElement('div');\n",
              "      const label = document.createElement('label');\n",
              "      label.textContent = `Downloading \"${filename}\": `;\n",
              "      div.appendChild(label);\n",
              "      const progress = document.createElement('progress');\n",
              "      progress.max = size;\n",
              "      div.appendChild(progress);\n",
              "      document.body.appendChild(div);\n",
              "\n",
              "      const buffers = [];\n",
              "      let downloaded = 0;\n",
              "\n",
              "      const channel = await google.colab.kernel.comms.open(id);\n",
              "      // Send a message to notify the kernel that we're ready.\n",
              "      channel.send({})\n",
              "\n",
              "      for await (const message of channel.messages) {\n",
              "        // Send a message to notify the kernel that we're ready.\n",
              "        channel.send({})\n",
              "        if (message.buffers) {\n",
              "          for (const buffer of message.buffers) {\n",
              "            buffers.push(buffer);\n",
              "            downloaded += buffer.byteLength;\n",
              "            progress.value = downloaded;\n",
              "          }\n",
              "        }\n",
              "      }\n",
              "      const blob = new Blob(buffers, {type: 'application/binary'});\n",
              "      const a = document.createElement('a');\n",
              "      a.href = window.URL.createObjectURL(blob);\n",
              "      a.download = filename;\n",
              "      div.appendChild(a);\n",
              "      a.click();\n",
              "      div.remove();\n",
              "    }\n",
              "  "
            ]
          },
          "metadata": {}
        },
        {
          "output_type": "display_data",
          "data": {
            "text/plain": [
              "<IPython.core.display.Javascript object>"
            ],
            "application/javascript": [
              "download(\"download_d2c22e1e-b591-4155-9a24-b47534280ce5\", \"psi-outc9.dat\", 8752)"
            ]
          },
          "metadata": {}
        },
        {
          "output_type": "display_data",
          "data": {
            "text/plain": [
              "<IPython.core.display.Javascript object>"
            ],
            "application/javascript": [
              "\n",
              "    async function download(id, filename, size) {\n",
              "      if (!google.colab.kernel.accessAllowed) {\n",
              "        return;\n",
              "      }\n",
              "      const div = document.createElement('div');\n",
              "      const label = document.createElement('label');\n",
              "      label.textContent = `Downloading \"${filename}\": `;\n",
              "      div.appendChild(label);\n",
              "      const progress = document.createElement('progress');\n",
              "      progress.max = size;\n",
              "      div.appendChild(progress);\n",
              "      document.body.appendChild(div);\n",
              "\n",
              "      const buffers = [];\n",
              "      let downloaded = 0;\n",
              "\n",
              "      const channel = await google.colab.kernel.comms.open(id);\n",
              "      // Send a message to notify the kernel that we're ready.\n",
              "      channel.send({})\n",
              "\n",
              "      for await (const message of channel.messages) {\n",
              "        // Send a message to notify the kernel that we're ready.\n",
              "        channel.send({})\n",
              "        if (message.buffers) {\n",
              "          for (const buffer of message.buffers) {\n",
              "            buffers.push(buffer);\n",
              "            downloaded += buffer.byteLength;\n",
              "            progress.value = downloaded;\n",
              "          }\n",
              "        }\n",
              "      }\n",
              "      const blob = new Blob(buffers, {type: 'application/binary'});\n",
              "      const a = document.createElement('a');\n",
              "      a.href = window.URL.createObjectURL(blob);\n",
              "      a.download = filename;\n",
              "      div.appendChild(a);\n",
              "      a.click();\n",
              "      div.remove();\n",
              "    }\n",
              "  "
            ]
          },
          "metadata": {}
        },
        {
          "output_type": "display_data",
          "data": {
            "text/plain": [
              "<IPython.core.display.Javascript object>"
            ],
            "application/javascript": [
              "download(\"download_2ad2ef3c-d8b0-4bbe-9771-5324a0d63a80\", \"psi-outc10.dat\", 8756)"
            ]
          },
          "metadata": {}
        },
        {
          "output_type": "display_data",
          "data": {
            "text/plain": [
              "<IPython.core.display.Javascript object>"
            ],
            "application/javascript": [
              "\n",
              "    async function download(id, filename, size) {\n",
              "      if (!google.colab.kernel.accessAllowed) {\n",
              "        return;\n",
              "      }\n",
              "      const div = document.createElement('div');\n",
              "      const label = document.createElement('label');\n",
              "      label.textContent = `Downloading \"${filename}\": `;\n",
              "      div.appendChild(label);\n",
              "      const progress = document.createElement('progress');\n",
              "      progress.max = size;\n",
              "      div.appendChild(progress);\n",
              "      document.body.appendChild(div);\n",
              "\n",
              "      const buffers = [];\n",
              "      let downloaded = 0;\n",
              "\n",
              "      const channel = await google.colab.kernel.comms.open(id);\n",
              "      // Send a message to notify the kernel that we're ready.\n",
              "      channel.send({})\n",
              "\n",
              "      for await (const message of channel.messages) {\n",
              "        // Send a message to notify the kernel that we're ready.\n",
              "        channel.send({})\n",
              "        if (message.buffers) {\n",
              "          for (const buffer of message.buffers) {\n",
              "            buffers.push(buffer);\n",
              "            downloaded += buffer.byteLength;\n",
              "            progress.value = downloaded;\n",
              "          }\n",
              "        }\n",
              "      }\n",
              "      const blob = new Blob(buffers, {type: 'application/binary'});\n",
              "      const a = document.createElement('a');\n",
              "      a.href = window.URL.createObjectURL(blob);\n",
              "      a.download = filename;\n",
              "      div.appendChild(a);\n",
              "      a.click();\n",
              "      div.remove();\n",
              "    }\n",
              "  "
            ]
          },
          "metadata": {}
        },
        {
          "output_type": "display_data",
          "data": {
            "text/plain": [
              "<IPython.core.display.Javascript object>"
            ],
            "application/javascript": [
              "download(\"download_ee2c662b-ec0b-44ac-8b98-ff6d5c6cc40f\", \"psi-outd1.dat\", 8654)"
            ]
          },
          "metadata": {}
        },
        {
          "output_type": "display_data",
          "data": {
            "text/plain": [
              "<IPython.core.display.Javascript object>"
            ],
            "application/javascript": [
              "\n",
              "    async function download(id, filename, size) {\n",
              "      if (!google.colab.kernel.accessAllowed) {\n",
              "        return;\n",
              "      }\n",
              "      const div = document.createElement('div');\n",
              "      const label = document.createElement('label');\n",
              "      label.textContent = `Downloading \"${filename}\": `;\n",
              "      div.appendChild(label);\n",
              "      const progress = document.createElement('progress');\n",
              "      progress.max = size;\n",
              "      div.appendChild(progress);\n",
              "      document.body.appendChild(div);\n",
              "\n",
              "      const buffers = [];\n",
              "      let downloaded = 0;\n",
              "\n",
              "      const channel = await google.colab.kernel.comms.open(id);\n",
              "      // Send a message to notify the kernel that we're ready.\n",
              "      channel.send({})\n",
              "\n",
              "      for await (const message of channel.messages) {\n",
              "        // Send a message to notify the kernel that we're ready.\n",
              "        channel.send({})\n",
              "        if (message.buffers) {\n",
              "          for (const buffer of message.buffers) {\n",
              "            buffers.push(buffer);\n",
              "            downloaded += buffer.byteLength;\n",
              "            progress.value = downloaded;\n",
              "          }\n",
              "        }\n",
              "      }\n",
              "      const blob = new Blob(buffers, {type: 'application/binary'});\n",
              "      const a = document.createElement('a');\n",
              "      a.href = window.URL.createObjectURL(blob);\n",
              "      a.download = filename;\n",
              "      div.appendChild(a);\n",
              "      a.click();\n",
              "      div.remove();\n",
              "    }\n",
              "  "
            ]
          },
          "metadata": {}
        },
        {
          "output_type": "display_data",
          "data": {
            "text/plain": [
              "<IPython.core.display.Javascript object>"
            ],
            "application/javascript": [
              "download(\"download_e0029455-e14c-41dd-a90b-3035c0de096b\", \"psi-outd2.dat\", 8748)"
            ]
          },
          "metadata": {}
        },
        {
          "output_type": "display_data",
          "data": {
            "text/plain": [
              "<IPython.core.display.Javascript object>"
            ],
            "application/javascript": [
              "\n",
              "    async function download(id, filename, size) {\n",
              "      if (!google.colab.kernel.accessAllowed) {\n",
              "        return;\n",
              "      }\n",
              "      const div = document.createElement('div');\n",
              "      const label = document.createElement('label');\n",
              "      label.textContent = `Downloading \"${filename}\": `;\n",
              "      div.appendChild(label);\n",
              "      const progress = document.createElement('progress');\n",
              "      progress.max = size;\n",
              "      div.appendChild(progress);\n",
              "      document.body.appendChild(div);\n",
              "\n",
              "      const buffers = [];\n",
              "      let downloaded = 0;\n",
              "\n",
              "      const channel = await google.colab.kernel.comms.open(id);\n",
              "      // Send a message to notify the kernel that we're ready.\n",
              "      channel.send({})\n",
              "\n",
              "      for await (const message of channel.messages) {\n",
              "        // Send a message to notify the kernel that we're ready.\n",
              "        channel.send({})\n",
              "        if (message.buffers) {\n",
              "          for (const buffer of message.buffers) {\n",
              "            buffers.push(buffer);\n",
              "            downloaded += buffer.byteLength;\n",
              "            progress.value = downloaded;\n",
              "          }\n",
              "        }\n",
              "      }\n",
              "      const blob = new Blob(buffers, {type: 'application/binary'});\n",
              "      const a = document.createElement('a');\n",
              "      a.href = window.URL.createObjectURL(blob);\n",
              "      a.download = filename;\n",
              "      div.appendChild(a);\n",
              "      a.click();\n",
              "      div.remove();\n",
              "    }\n",
              "  "
            ]
          },
          "metadata": {}
        },
        {
          "output_type": "display_data",
          "data": {
            "text/plain": [
              "<IPython.core.display.Javascript object>"
            ],
            "application/javascript": [
              "download(\"download_aa76ab5e-ee94-432d-8b4b-21eb4b6046c2\", \"psi-outd3.dat\", 8730)"
            ]
          },
          "metadata": {}
        },
        {
          "output_type": "display_data",
          "data": {
            "text/plain": [
              "<IPython.core.display.Javascript object>"
            ],
            "application/javascript": [
              "\n",
              "    async function download(id, filename, size) {\n",
              "      if (!google.colab.kernel.accessAllowed) {\n",
              "        return;\n",
              "      }\n",
              "      const div = document.createElement('div');\n",
              "      const label = document.createElement('label');\n",
              "      label.textContent = `Downloading \"${filename}\": `;\n",
              "      div.appendChild(label);\n",
              "      const progress = document.createElement('progress');\n",
              "      progress.max = size;\n",
              "      div.appendChild(progress);\n",
              "      document.body.appendChild(div);\n",
              "\n",
              "      const buffers = [];\n",
              "      let downloaded = 0;\n",
              "\n",
              "      const channel = await google.colab.kernel.comms.open(id);\n",
              "      // Send a message to notify the kernel that we're ready.\n",
              "      channel.send({})\n",
              "\n",
              "      for await (const message of channel.messages) {\n",
              "        // Send a message to notify the kernel that we're ready.\n",
              "        channel.send({})\n",
              "        if (message.buffers) {\n",
              "          for (const buffer of message.buffers) {\n",
              "            buffers.push(buffer);\n",
              "            downloaded += buffer.byteLength;\n",
              "            progress.value = downloaded;\n",
              "          }\n",
              "        }\n",
              "      }\n",
              "      const blob = new Blob(buffers, {type: 'application/binary'});\n",
              "      const a = document.createElement('a');\n",
              "      a.href = window.URL.createObjectURL(blob);\n",
              "      a.download = filename;\n",
              "      div.appendChild(a);\n",
              "      a.click();\n",
              "      div.remove();\n",
              "    }\n",
              "  "
            ]
          },
          "metadata": {}
        },
        {
          "output_type": "display_data",
          "data": {
            "text/plain": [
              "<IPython.core.display.Javascript object>"
            ],
            "application/javascript": [
              "download(\"download_3190006b-2836-4ea8-bd63-8b04d24205d0\", \"psi-outd4.dat\", 8759)"
            ]
          },
          "metadata": {}
        },
        {
          "output_type": "display_data",
          "data": {
            "text/plain": [
              "<IPython.core.display.Javascript object>"
            ],
            "application/javascript": [
              "\n",
              "    async function download(id, filename, size) {\n",
              "      if (!google.colab.kernel.accessAllowed) {\n",
              "        return;\n",
              "      }\n",
              "      const div = document.createElement('div');\n",
              "      const label = document.createElement('label');\n",
              "      label.textContent = `Downloading \"${filename}\": `;\n",
              "      div.appendChild(label);\n",
              "      const progress = document.createElement('progress');\n",
              "      progress.max = size;\n",
              "      div.appendChild(progress);\n",
              "      document.body.appendChild(div);\n",
              "\n",
              "      const buffers = [];\n",
              "      let downloaded = 0;\n",
              "\n",
              "      const channel = await google.colab.kernel.comms.open(id);\n",
              "      // Send a message to notify the kernel that we're ready.\n",
              "      channel.send({})\n",
              "\n",
              "      for await (const message of channel.messages) {\n",
              "        // Send a message to notify the kernel that we're ready.\n",
              "        channel.send({})\n",
              "        if (message.buffers) {\n",
              "          for (const buffer of message.buffers) {\n",
              "            buffers.push(buffer);\n",
              "            downloaded += buffer.byteLength;\n",
              "            progress.value = downloaded;\n",
              "          }\n",
              "        }\n",
              "      }\n",
              "      const blob = new Blob(buffers, {type: 'application/binary'});\n",
              "      const a = document.createElement('a');\n",
              "      a.href = window.URL.createObjectURL(blob);\n",
              "      a.download = filename;\n",
              "      div.appendChild(a);\n",
              "      a.click();\n",
              "      div.remove();\n",
              "    }\n",
              "  "
            ]
          },
          "metadata": {}
        },
        {
          "output_type": "display_data",
          "data": {
            "text/plain": [
              "<IPython.core.display.Javascript object>"
            ],
            "application/javascript": [
              "download(\"download_7c7e055f-c3f1-46ba-83b9-9955209f5620\", \"psi-outd5.dat\", 8758)"
            ]
          },
          "metadata": {}
        },
        {
          "output_type": "display_data",
          "data": {
            "text/plain": [
              "<IPython.core.display.Javascript object>"
            ],
            "application/javascript": [
              "\n",
              "    async function download(id, filename, size) {\n",
              "      if (!google.colab.kernel.accessAllowed) {\n",
              "        return;\n",
              "      }\n",
              "      const div = document.createElement('div');\n",
              "      const label = document.createElement('label');\n",
              "      label.textContent = `Downloading \"${filename}\": `;\n",
              "      div.appendChild(label);\n",
              "      const progress = document.createElement('progress');\n",
              "      progress.max = size;\n",
              "      div.appendChild(progress);\n",
              "      document.body.appendChild(div);\n",
              "\n",
              "      const buffers = [];\n",
              "      let downloaded = 0;\n",
              "\n",
              "      const channel = await google.colab.kernel.comms.open(id);\n",
              "      // Send a message to notify the kernel that we're ready.\n",
              "      channel.send({})\n",
              "\n",
              "      for await (const message of channel.messages) {\n",
              "        // Send a message to notify the kernel that we're ready.\n",
              "        channel.send({})\n",
              "        if (message.buffers) {\n",
              "          for (const buffer of message.buffers) {\n",
              "            buffers.push(buffer);\n",
              "            downloaded += buffer.byteLength;\n",
              "            progress.value = downloaded;\n",
              "          }\n",
              "        }\n",
              "      }\n",
              "      const blob = new Blob(buffers, {type: 'application/binary'});\n",
              "      const a = document.createElement('a');\n",
              "      a.href = window.URL.createObjectURL(blob);\n",
              "      a.download = filename;\n",
              "      div.appendChild(a);\n",
              "      a.click();\n",
              "      div.remove();\n",
              "    }\n",
              "  "
            ]
          },
          "metadata": {}
        },
        {
          "output_type": "display_data",
          "data": {
            "text/plain": [
              "<IPython.core.display.Javascript object>"
            ],
            "application/javascript": [
              "download(\"download_3ca5aa5e-bf20-4fdb-94ab-57b43a762137\", \"psi-outd6.dat\", 8763)"
            ]
          },
          "metadata": {}
        },
        {
          "output_type": "display_data",
          "data": {
            "text/plain": [
              "<IPython.core.display.Javascript object>"
            ],
            "application/javascript": [
              "\n",
              "    async function download(id, filename, size) {\n",
              "      if (!google.colab.kernel.accessAllowed) {\n",
              "        return;\n",
              "      }\n",
              "      const div = document.createElement('div');\n",
              "      const label = document.createElement('label');\n",
              "      label.textContent = `Downloading \"${filename}\": `;\n",
              "      div.appendChild(label);\n",
              "      const progress = document.createElement('progress');\n",
              "      progress.max = size;\n",
              "      div.appendChild(progress);\n",
              "      document.body.appendChild(div);\n",
              "\n",
              "      const buffers = [];\n",
              "      let downloaded = 0;\n",
              "\n",
              "      const channel = await google.colab.kernel.comms.open(id);\n",
              "      // Send a message to notify the kernel that we're ready.\n",
              "      channel.send({})\n",
              "\n",
              "      for await (const message of channel.messages) {\n",
              "        // Send a message to notify the kernel that we're ready.\n",
              "        channel.send({})\n",
              "        if (message.buffers) {\n",
              "          for (const buffer of message.buffers) {\n",
              "            buffers.push(buffer);\n",
              "            downloaded += buffer.byteLength;\n",
              "            progress.value = downloaded;\n",
              "          }\n",
              "        }\n",
              "      }\n",
              "      const blob = new Blob(buffers, {type: 'application/binary'});\n",
              "      const a = document.createElement('a');\n",
              "      a.href = window.URL.createObjectURL(blob);\n",
              "      a.download = filename;\n",
              "      div.appendChild(a);\n",
              "      a.click();\n",
              "      div.remove();\n",
              "    }\n",
              "  "
            ]
          },
          "metadata": {}
        },
        {
          "output_type": "display_data",
          "data": {
            "text/plain": [
              "<IPython.core.display.Javascript object>"
            ],
            "application/javascript": [
              "download(\"download_f3ca7020-ff62-4e75-adf5-ca9727f8c6fe\", \"psi-outd7.dat\", 8754)"
            ]
          },
          "metadata": {}
        },
        {
          "output_type": "display_data",
          "data": {
            "text/plain": [
              "<IPython.core.display.Javascript object>"
            ],
            "application/javascript": [
              "\n",
              "    async function download(id, filename, size) {\n",
              "      if (!google.colab.kernel.accessAllowed) {\n",
              "        return;\n",
              "      }\n",
              "      const div = document.createElement('div');\n",
              "      const label = document.createElement('label');\n",
              "      label.textContent = `Downloading \"${filename}\": `;\n",
              "      div.appendChild(label);\n",
              "      const progress = document.createElement('progress');\n",
              "      progress.max = size;\n",
              "      div.appendChild(progress);\n",
              "      document.body.appendChild(div);\n",
              "\n",
              "      const buffers = [];\n",
              "      let downloaded = 0;\n",
              "\n",
              "      const channel = await google.colab.kernel.comms.open(id);\n",
              "      // Send a message to notify the kernel that we're ready.\n",
              "      channel.send({})\n",
              "\n",
              "      for await (const message of channel.messages) {\n",
              "        // Send a message to notify the kernel that we're ready.\n",
              "        channel.send({})\n",
              "        if (message.buffers) {\n",
              "          for (const buffer of message.buffers) {\n",
              "            buffers.push(buffer);\n",
              "            downloaded += buffer.byteLength;\n",
              "            progress.value = downloaded;\n",
              "          }\n",
              "        }\n",
              "      }\n",
              "      const blob = new Blob(buffers, {type: 'application/binary'});\n",
              "      const a = document.createElement('a');\n",
              "      a.href = window.URL.createObjectURL(blob);\n",
              "      a.download = filename;\n",
              "      div.appendChild(a);\n",
              "      a.click();\n",
              "      div.remove();\n",
              "    }\n",
              "  "
            ]
          },
          "metadata": {}
        },
        {
          "output_type": "display_data",
          "data": {
            "text/plain": [
              "<IPython.core.display.Javascript object>"
            ],
            "application/javascript": [
              "download(\"download_44ced7bf-e43b-4375-b542-d9eaa02776d6\", \"psi-outd8.dat\", 8769)"
            ]
          },
          "metadata": {}
        },
        {
          "output_type": "display_data",
          "data": {
            "text/plain": [
              "<IPython.core.display.Javascript object>"
            ],
            "application/javascript": [
              "\n",
              "    async function download(id, filename, size) {\n",
              "      if (!google.colab.kernel.accessAllowed) {\n",
              "        return;\n",
              "      }\n",
              "      const div = document.createElement('div');\n",
              "      const label = document.createElement('label');\n",
              "      label.textContent = `Downloading \"${filename}\": `;\n",
              "      div.appendChild(label);\n",
              "      const progress = document.createElement('progress');\n",
              "      progress.max = size;\n",
              "      div.appendChild(progress);\n",
              "      document.body.appendChild(div);\n",
              "\n",
              "      const buffers = [];\n",
              "      let downloaded = 0;\n",
              "\n",
              "      const channel = await google.colab.kernel.comms.open(id);\n",
              "      // Send a message to notify the kernel that we're ready.\n",
              "      channel.send({})\n",
              "\n",
              "      for await (const message of channel.messages) {\n",
              "        // Send a message to notify the kernel that we're ready.\n",
              "        channel.send({})\n",
              "        if (message.buffers) {\n",
              "          for (const buffer of message.buffers) {\n",
              "            buffers.push(buffer);\n",
              "            downloaded += buffer.byteLength;\n",
              "            progress.value = downloaded;\n",
              "          }\n",
              "        }\n",
              "      }\n",
              "      const blob = new Blob(buffers, {type: 'application/binary'});\n",
              "      const a = document.createElement('a');\n",
              "      a.href = window.URL.createObjectURL(blob);\n",
              "      a.download = filename;\n",
              "      div.appendChild(a);\n",
              "      a.click();\n",
              "      div.remove();\n",
              "    }\n",
              "  "
            ]
          },
          "metadata": {}
        },
        {
          "output_type": "display_data",
          "data": {
            "text/plain": [
              "<IPython.core.display.Javascript object>"
            ],
            "application/javascript": [
              "download(\"download_385f38c4-170a-48cf-9bf6-41b8709ca20d\", \"psi-outd9.dat\", 8742)"
            ]
          },
          "metadata": {}
        },
        {
          "output_type": "display_data",
          "data": {
            "text/plain": [
              "<IPython.core.display.Javascript object>"
            ],
            "application/javascript": [
              "\n",
              "    async function download(id, filename, size) {\n",
              "      if (!google.colab.kernel.accessAllowed) {\n",
              "        return;\n",
              "      }\n",
              "      const div = document.createElement('div');\n",
              "      const label = document.createElement('label');\n",
              "      label.textContent = `Downloading \"${filename}\": `;\n",
              "      div.appendChild(label);\n",
              "      const progress = document.createElement('progress');\n",
              "      progress.max = size;\n",
              "      div.appendChild(progress);\n",
              "      document.body.appendChild(div);\n",
              "\n",
              "      const buffers = [];\n",
              "      let downloaded = 0;\n",
              "\n",
              "      const channel = await google.colab.kernel.comms.open(id);\n",
              "      // Send a message to notify the kernel that we're ready.\n",
              "      channel.send({})\n",
              "\n",
              "      for await (const message of channel.messages) {\n",
              "        // Send a message to notify the kernel that we're ready.\n",
              "        channel.send({})\n",
              "        if (message.buffers) {\n",
              "          for (const buffer of message.buffers) {\n",
              "            buffers.push(buffer);\n",
              "            downloaded += buffer.byteLength;\n",
              "            progress.value = downloaded;\n",
              "          }\n",
              "        }\n",
              "      }\n",
              "      const blob = new Blob(buffers, {type: 'application/binary'});\n",
              "      const a = document.createElement('a');\n",
              "      a.href = window.URL.createObjectURL(blob);\n",
              "      a.download = filename;\n",
              "      div.appendChild(a);\n",
              "      a.click();\n",
              "      div.remove();\n",
              "    }\n",
              "  "
            ]
          },
          "metadata": {}
        },
        {
          "output_type": "display_data",
          "data": {
            "text/plain": [
              "<IPython.core.display.Javascript object>"
            ],
            "application/javascript": [
              "download(\"download_ee51523b-455e-4ae1-95e1-c2acb0c68d2f\", \"psi-outd10.dat\", 8761)"
            ]
          },
          "metadata": {}
        }
      ]
    }
  ]
}