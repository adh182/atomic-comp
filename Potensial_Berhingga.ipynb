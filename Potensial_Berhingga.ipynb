{
  "nbformat": 4,
  "nbformat_minor": 0,
  "metadata": {
    "colab": {
      "name": "Potensial Berhingga.ipynb",
      "provenance": [],
      "collapsed_sections": []
    },
    "kernelspec": {
      "name": "python3",
      "display_name": "Python 3"
    },
    "language_info": {
      "name": "python"
    }
  },
  "cells": [
    {
      "cell_type": "markdown",
      "source": [
        "# **SUMUR POTENSIAL BERHINGGA SATU DIMENSI**\n",
        "Islamuddin Alimurrijal"
      ],
      "metadata": {
        "id": "OxlbAl97Crrh"
      }
    },
    {
      "cell_type": "markdown",
      "source": [
        "Suatu partikel berada pada sumur potensial berhingga satu dimensi ditunjukkan pada gambar di bawah ini.\n",
        "\n",
        "![pothingga.png](data:image/png;base64,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)\n",
        "\n",
        "\n",
        "Dimisalkan sumur potensial tersebut memiliki lebar $L=4 ~a.u$ dengan potensial $V_0=0 ~a.u$ dan $V_1=7 ~a.u$, maka permasalahan tersebut dapat diselesaikan secara analitik dan numerik."
      ],
      "metadata": {
        "id": "fKYoobS7DP9Q"
      }
    },
    {
      "cell_type": "markdown",
      "source": [
        "##Solusi Analitik\n",
        "\n",
        "Berdasarkan gambar di atas, terdapat potensial di luar sumur sebesar $V_1$ sehingga ada kemungkinan partikel untuk menembus potensial dan keluar dari sumur tersebut. \n",
        "\n",
        "Solusi dari sumur potensial berhingga dengan lebar L dan kedalaman V memenuhi persamaan berikut.\n",
        "\\begin{align}\n",
        "\\frac{2\\sqrt{(V-E)E}}{(2E-V)} = \\tan{(2EL^2)}\n",
        "\\end{align}\n",
        "\n",
        "Persamaan di atas dapat diselesaikan dengan memilih nilai $E$ yang memenuhi persamaan tersebut, yaitu nilai $E$ yang menyebabkan kedua ruas persamaan benilai sama."
      ],
      "metadata": {
        "id": "j0s54FzPEW-a"
      }
    },
    {
      "cell_type": "markdown",
      "source": [
        "## Solusi Numerik\n",
        "\n",
        "Solusi numerik permasalahan tersebut dapat dihitung dengan menentukan syarat batas potensial di sepanjang sumur potensial, kemudian menyelesaikan persamaan Schrodinger pada setiap tingkat energi. Implementasi permasalah tersebut secara numerik dapat dilihat pada program di bawah ini dengan mengatur nilai potensial sesuai dengan permasalahan."
      ],
      "metadata": {
        "id": "D5HsYU8gHRjA"
      }
    },
    {
      "cell_type": "code",
      "execution_count": null,
      "metadata": {
        "id": "Sc8Ebz7J5jww"
      },
      "outputs": [],
      "source": [
        "#Import necessary library\n",
        "import numpy as np\n",
        "import pandas as pd"
      ]
    },
    {
      "cell_type": "code",
      "source": [
        "def potential(xmin, xmax):\n",
        "  '''\n",
        "  Set the potential within the system in certain interval\n",
        "  Input   : x interval, xfar\n",
        "  Return  : potential\n",
        "  '''\n",
        "\n",
        "  # potential_v = 0\n",
        "  v1 = 10\n",
        "  v0 = 7/2\n",
        "  xbound = 2 #X boundary\n",
        "\n",
        "  if (abs(xmin) < xbound):\n",
        "    potential_v = v0\n",
        "  else:\n",
        "    potential_v = v1\n",
        "\n",
        "  return potential_v"
      ],
      "metadata": {
        "id": "3LPAljGs5zcJ"
      },
      "execution_count": null,
      "outputs": []
    },
    {
      "cell_type": "code",
      "source": [
        "def normalize(n, h, psi):\n",
        "  '''\n",
        "  Normalize wave function\n",
        "  Input   : initial wave function, number of points, step\n",
        "  Return  : normalized wave function\n",
        "  '''\n",
        "  norm = psi[0]**2+psi[n]**2\n",
        "  for i in range(1,n-3,2):\n",
        "    norm = norm+4*psi[i]**2+2*psi[i+1]**2\n",
        "\n",
        "  norm = norm + 4*psi[n-1]**2\n",
        "  norm = 1/np.sqrt((norm*h/3))\n",
        "\n",
        "  for i in range(0, len(psi)):\n",
        "   psi[i] = psi[i]*norm\n",
        "\n",
        "  return psi"
      ],
      "metadata": {
        "id": "ck3lRMKk6PoJ"
      },
      "execution_count": null,
      "outputs": []
    },
    {
      "cell_type": "code",
      "source": [
        "def numerov(nx, x, e_init, psi):\n",
        "  '''\n",
        "  Integrates the wave function using Numerov's method\n",
        "  Input   : number of points, x inteval, initial energy, wave function\n",
        "  Return  : integrated wave function\n",
        "  '''\n",
        "\n",
        "  #Calculates the steps\n",
        "  h = xmax/nx\n",
        "  h2 = h**2\n",
        "  h12 = h2/12\n",
        "\n",
        "  #Initialize wave function\n",
        "  psi[0] = 0\n",
        "  psi[1] = 0.0001\n",
        "\n",
        "  #Calculates using Numerov's nethod\n",
        "  fn = 2*(potential(-x, x)-e_init)\n",
        "  q0 = psi[0]*(1-h12*fn)\n",
        "  fn = 2*(potential(-x+h, x)-e_init)\n",
        "  q1 = psi[1]*(1-h12*fn)\n",
        "  \n",
        "  for n in range(2, 2*nx+1):\n",
        "    q2 = h2*fn*psi[n-1]+2*q1-q0\n",
        "    fn = 2*(potential(n*h-x, x)-e_init)\n",
        "    psi[n] = q2/(1-h12*fn)\n",
        "    q0 = q1\n",
        "    q1 = q2\n",
        "\n",
        "  psi = normalize(2*nx, h, psi)\n",
        "\n",
        "  return psi"
      ],
      "metadata": {
        "id": "7AT8_n4h7Jx4"
      },
      "execution_count": null,
      "outputs": []
    },
    {
      "cell_type": "code",
      "source": [
        "def calculates(nx, x, e_init, de, eps, psi):\n",
        "  '''\n",
        "  Starting course search and approximate energy level using bisection method\n",
        "  Input   : number of points, x inteval, initial energy,\n",
        "            eps, lists to store energy and deviation\n",
        "  Return  : Energy approximation, wave function\n",
        "  '''\n",
        "  #Starting course search\n",
        "  psi = numerov(nx, x, e_init, psi)\n",
        "  dev1 = psi[2*nx]\n",
        "\n",
        "  while True:\n",
        "    #Update energy with de step\n",
        "    e2 = e_init + de\n",
        " \n",
        "    psi = numerov(nx, x, e2, psi)\n",
        "    dev2 = psi[2*nx]\n",
        "\n",
        "    #Check if deviation is zero\n",
        "    if dev1*dev2 < 0:\n",
        "      break\n",
        "\n",
        "    #Update energy and deviation value for next iteration  \n",
        "    e_init = e2\n",
        "    dev1 = dev2\n",
        "\n",
        "  #Starting bisection\n",
        "  while abs(e_init-e2) > eps:\n",
        "    e3 = (e_init+e2)/2\n",
        "    psi = numerov(nx,x,e3,psi)\n",
        "    dev3 = psi[2*nx]\n",
        "\n",
        "    if dev3*dev1 <= 0.000000 :\n",
        "      e2 = e3\n",
        "      dev2 = dev3\n",
        "    else:\n",
        "      e_init = e3\n",
        "      dev2 = dev3\n",
        "\n",
        "  return e3, psi"
      ],
      "metadata": {
        "id": "Kfuv66Bk8V7V"
      },
      "execution_count": null,
      "outputs": []
    },
    {
      "cell_type": "code",
      "source": [
        "def schrod(nx, xmax, e0, de, filename, n):\n",
        "  '''\n",
        "  A function to calculates energy and wave function\n",
        "  Input   : number of points, x interval, initial energy, delta e, filename, energy level\n",
        "  Return  : approximated energy, psi .date file\n",
        "  '''\n",
        "  #Initialize Parameters\n",
        "  eps = 10e-6\n",
        "  dx = xmax/nx\n",
        "\n",
        "  #Initialize wave function\n",
        "  psi = np.zeros(2*nx+1)\n",
        "\n",
        "  #Calculates energy and deviation\n",
        "  energy, psi = calculates(nx, xmax, e0, de, eps, psi)\n",
        "\n",
        "  #Save output as dat file\n",
        "  filename = filename + str(n) + '.dat'\n",
        "  x = np.zeros(2*nx+1)\n",
        "  for i in range(1, 2*nx+2):\n",
        "    x[i-1] = (i-1)*dx-xmax\n",
        "    \n",
        "  with open(filename, 'w') as out_file:\n",
        "    for item in range(len(psi)):\n",
        "      # out_file.write(str(x[item]) + '      ' + (psi[item]) + '\\n')\n",
        "      out_file.write(\"{}      {}      \\n\".format(x[item], psi[item]))\n",
        "\n",
        "  return energy"
      ],
      "metadata": {
        "id": "tzIAojNe_9Nb"
      },
      "execution_count": null,
      "outputs": []
    },
    {
      "cell_type": "markdown",
      "source": [
        "### Input parameter yang diinginkan"
      ],
      "metadata": {
        "id": "i_l9SVK9H6hX"
      }
    },
    {
      "cell_type": "code",
      "source": [
        "#Initialize Parameters\n",
        "nx = 100 #Number of points\n",
        "xbound = 2\n",
        "xmax = 4 #Choose xmax at least 2*(L/2) greater than xbound\n",
        "e0 = 0 #Guessed energy\n",
        "de = 0.001 #Energy step\n",
        "\n",
        "energy_level = [i for i in range(1, 11)]\n",
        "energy_value = []\n",
        "filename = 'psi-outfinite' #Change name according to the case\n",
        "\n",
        "for i in energy_level:\n",
        "  energy = schrod(nx, xmax, e0, de, filename, i)\n",
        "  energy_value.append(energy)\n",
        "\n",
        "  #Update for the next energy level\n",
        "  e0 = energy + 0.005"
      ],
      "metadata": {
        "id": "TMF58vcJ6QAg"
      },
      "execution_count": null,
      "outputs": []
    },
    {
      "cell_type": "code",
      "source": [
        "#Make dataframe to store energy\n",
        "\n",
        "output = pd.DataFrame(columns=['Energy Level', 'Energy (a.u.)'])\n",
        "\n",
        "for i in range(len(energy_level)):\n",
        "  output.loc[i] = [energy_level[i], energy_value[i]]\n",
        "\n",
        "output"
      ],
      "metadata": {
        "id": "3czvpYynBSWs",
        "colab": {
          "base_uri": "https://localhost:8080/",
          "height": 363
        },
        "outputId": "3ae8daee-ddd6-479a-e13b-d8a06b04134b"
      },
      "execution_count": null,
      "outputs": [
        {
          "output_type": "execute_result",
          "data": {
            "text/plain": [
              "   Energy Level  Energy (a.u.)\n",
              "0           1.0       3.741633\n",
              "1           2.0       4.461797\n",
              "2           3.0       5.643758\n",
              "3           4.0       7.246953\n",
              "4           5.0       9.150273\n",
              "5           6.0      10.710719\n",
              "6           7.0      11.230523\n",
              "7           8.0      12.053203\n",
              "8           9.0      13.649102\n",
              "9          10.0      14.834953"
            ],
            "text/html": [
              "\n",
              "  <div id=\"df-0a8caa11-bc55-42ac-b046-c896b52696e5\">\n",
              "    <div class=\"colab-df-container\">\n",
              "      <div>\n",
              "<style scoped>\n",
              "    .dataframe tbody tr th:only-of-type {\n",
              "        vertical-align: middle;\n",
              "    }\n",
              "\n",
              "    .dataframe tbody tr th {\n",
              "        vertical-align: top;\n",
              "    }\n",
              "\n",
              "    .dataframe thead th {\n",
              "        text-align: right;\n",
              "    }\n",
              "</style>\n",
              "<table border=\"1\" class=\"dataframe\">\n",
              "  <thead>\n",
              "    <tr style=\"text-align: right;\">\n",
              "      <th></th>\n",
              "      <th>Energy Level</th>\n",
              "      <th>Energy (a.u.)</th>\n",
              "    </tr>\n",
              "  </thead>\n",
              "  <tbody>\n",
              "    <tr>\n",
              "      <th>0</th>\n",
              "      <td>1.0</td>\n",
              "      <td>3.741633</td>\n",
              "    </tr>\n",
              "    <tr>\n",
              "      <th>1</th>\n",
              "      <td>2.0</td>\n",
              "      <td>4.461797</td>\n",
              "    </tr>\n",
              "    <tr>\n",
              "      <th>2</th>\n",
              "      <td>3.0</td>\n",
              "      <td>5.643758</td>\n",
              "    </tr>\n",
              "    <tr>\n",
              "      <th>3</th>\n",
              "      <td>4.0</td>\n",
              "      <td>7.246953</td>\n",
              "    </tr>\n",
              "    <tr>\n",
              "      <th>4</th>\n",
              "      <td>5.0</td>\n",
              "      <td>9.150273</td>\n",
              "    </tr>\n",
              "    <tr>\n",
              "      <th>5</th>\n",
              "      <td>6.0</td>\n",
              "      <td>10.710719</td>\n",
              "    </tr>\n",
              "    <tr>\n",
              "      <th>6</th>\n",
              "      <td>7.0</td>\n",
              "      <td>11.230523</td>\n",
              "    </tr>\n",
              "    <tr>\n",
              "      <th>7</th>\n",
              "      <td>8.0</td>\n",
              "      <td>12.053203</td>\n",
              "    </tr>\n",
              "    <tr>\n",
              "      <th>8</th>\n",
              "      <td>9.0</td>\n",
              "      <td>13.649102</td>\n",
              "    </tr>\n",
              "    <tr>\n",
              "      <th>9</th>\n",
              "      <td>10.0</td>\n",
              "      <td>14.834953</td>\n",
              "    </tr>\n",
              "  </tbody>\n",
              "</table>\n",
              "</div>\n",
              "      <button class=\"colab-df-convert\" onclick=\"convertToInteractive('df-0a8caa11-bc55-42ac-b046-c896b52696e5')\"\n",
              "              title=\"Convert this dataframe to an interactive table.\"\n",
              "              style=\"display:none;\">\n",
              "        \n",
              "  <svg xmlns=\"http://www.w3.org/2000/svg\" height=\"24px\"viewBox=\"0 0 24 24\"\n",
              "       width=\"24px\">\n",
              "    <path d=\"M0 0h24v24H0V0z\" fill=\"none\"/>\n",
              "    <path d=\"M18.56 5.44l.94 2.06.94-2.06 2.06-.94-2.06-.94-.94-2.06-.94 2.06-2.06.94zm-11 1L8.5 8.5l.94-2.06 2.06-.94-2.06-.94L8.5 2.5l-.94 2.06-2.06.94zm10 10l.94 2.06.94-2.06 2.06-.94-2.06-.94-.94-2.06-.94 2.06-2.06.94z\"/><path d=\"M17.41 7.96l-1.37-1.37c-.4-.4-.92-.59-1.43-.59-.52 0-1.04.2-1.43.59L10.3 9.45l-7.72 7.72c-.78.78-.78 2.05 0 2.83L4 21.41c.39.39.9.59 1.41.59.51 0 1.02-.2 1.41-.59l7.78-7.78 2.81-2.81c.8-.78.8-2.07 0-2.86zM5.41 20L4 18.59l7.72-7.72 1.47 1.35L5.41 20z\"/>\n",
              "  </svg>\n",
              "      </button>\n",
              "      \n",
              "  <style>\n",
              "    .colab-df-container {\n",
              "      display:flex;\n",
              "      flex-wrap:wrap;\n",
              "      gap: 12px;\n",
              "    }\n",
              "\n",
              "    .colab-df-convert {\n",
              "      background-color: #E8F0FE;\n",
              "      border: none;\n",
              "      border-radius: 50%;\n",
              "      cursor: pointer;\n",
              "      display: none;\n",
              "      fill: #1967D2;\n",
              "      height: 32px;\n",
              "      padding: 0 0 0 0;\n",
              "      width: 32px;\n",
              "    }\n",
              "\n",
              "    .colab-df-convert:hover {\n",
              "      background-color: #E2EBFA;\n",
              "      box-shadow: 0px 1px 2px rgba(60, 64, 67, 0.3), 0px 1px 3px 1px rgba(60, 64, 67, 0.15);\n",
              "      fill: #174EA6;\n",
              "    }\n",
              "\n",
              "    [theme=dark] .colab-df-convert {\n",
              "      background-color: #3B4455;\n",
              "      fill: #D2E3FC;\n",
              "    }\n",
              "\n",
              "    [theme=dark] .colab-df-convert:hover {\n",
              "      background-color: #434B5C;\n",
              "      box-shadow: 0px 1px 3px 1px rgba(0, 0, 0, 0.15);\n",
              "      filter: drop-shadow(0px 1px 2px rgba(0, 0, 0, 0.3));\n",
              "      fill: #FFFFFF;\n",
              "    }\n",
              "  </style>\n",
              "\n",
              "      <script>\n",
              "        const buttonEl =\n",
              "          document.querySelector('#df-0a8caa11-bc55-42ac-b046-c896b52696e5 button.colab-df-convert');\n",
              "        buttonEl.style.display =\n",
              "          google.colab.kernel.accessAllowed ? 'block' : 'none';\n",
              "\n",
              "        async function convertToInteractive(key) {\n",
              "          const element = document.querySelector('#df-0a8caa11-bc55-42ac-b046-c896b52696e5');\n",
              "          const dataTable =\n",
              "            await google.colab.kernel.invokeFunction('convertToInteractive',\n",
              "                                                     [key], {});\n",
              "          if (!dataTable) return;\n",
              "\n",
              "          const docLinkHtml = 'Like what you see? Visit the ' +\n",
              "            '<a target=\"_blank\" href=https://colab.research.google.com/notebooks/data_table.ipynb>data table notebook</a>'\n",
              "            + ' to learn more about interactive tables.';\n",
              "          element.innerHTML = '';\n",
              "          dataTable['output_type'] = 'display_data';\n",
              "          await google.colab.output.renderOutput(dataTable, element);\n",
              "          const docLink = document.createElement('div');\n",
              "          docLink.innerHTML = docLinkHtml;\n",
              "          element.appendChild(docLink);\n",
              "        }\n",
              "      </script>\n",
              "    </div>\n",
              "  </div>\n",
              "  "
            ]
          },
          "metadata": {},
          "execution_count": 37
        }
      ]
    },
    {
      "cell_type": "code",
      "source": [
        "#Plot wave function\n",
        "import matplotlib.pyplot as plt\n",
        "\n",
        "fig, ax = plt.subplots(2, 5, figsize=(20, 10))\n",
        "x_bound1 = np.ones(2*nx+1)\n",
        "x_bound2 = np.ones(2*nx+1)\n",
        "x_bound1 = x_bound1 * -xbound\n",
        "x_bound2 = x_bound2 * xbound\n",
        "\n",
        "for n in range(1, 11):\n",
        "  data = np.loadtxt(filename+str(n)+'.dat', unpack=True)\n",
        "  x_pos = data[0]\n",
        "  psii = data[1]\n",
        "\n",
        "  if n < 6:\n",
        "    ax[0, n-1].plot(x_pos, psii)\n",
        "    ax[0, n-1].plot(x_bound1, psii, color='red')\n",
        "    ax[0, n-1].plot(x_bound2, psii, color='red')\n",
        "    ax[0, n-1].set_title('n='+ str(n))\n",
        "  else:\n",
        "    ax[1, n-6].plot(x_pos, psii)\n",
        "    ax[1, n-6].plot(x_bound1, psii, color='red')\n",
        "    ax[1, n-6].plot(x_bound2, psii, color='red')\n",
        "    ax[1, n-6].set_title('n='+ str(n))\n",
        "\n",
        "for axis in ax.flat:\n",
        "  axis.set(xlabel='Position', ylabel='Psi')\n",
        "\n",
        "for axis in ax.flat:\n",
        "    axis.label_outer()\n",
        "\n",
        "plt.show()"
      ],
      "metadata": {
        "colab": {
          "base_uri": "https://localhost:8080/",
          "height": 340
        },
        "id": "Xsc5lXM1_Twv",
        "outputId": "9f98380a-383f-4088-a2d5-5a76b16b9cee"
      },
      "execution_count": null,
      "outputs": [
        {
          "output_type": "display_data",
          "data": {
            "text/plain": [
              "<Figure size 1440x720 with 10 Axes>"
            ],
            "image/png": "[encoded data removed]"
          },
          "metadata": {
            "needs_background": "light"
          }
        }
      ]
    },
    {
      "cell_type": "markdown",
      "source": [
        "### Perhitungan analitik"
      ],
      "metadata": {
        "id": "kzlgwwxWIHqr"
      }
    },
    {
      "cell_type": "markdown",
      "source": [
        "Permasalahan partikel dalam potensial berhingga secara analitik dapat diselesaikan dengan memilih nilai E yang memenuhi persamaan di bawah ini.\n",
        "\\begin{align}\n",
        "\\frac{2\\sqrt{(V-E)E}}{(2E-V)} = \\tan{(2EL^2)}\n",
        "\\end{align}\n",
        "\n",
        "Persamaan di atas dapat diselesaikan dengan menghitung persamaan ruas kanan (RHS) dan persamaan ruas kiri (LHS) kemudian menentukan selisih keduanya. Jika selisihnya sangat mendekati nol, maka nilai energi E yang dipilih memenuhi persamaan tersebut.\n",
        "\n",
        "Dibawah ini adalah program untuk menentukan nilai E secara analitik yang didasarkan pada pengecekan nilai E yang memenuhi:\n",
        "\\begin{align}\n",
        "\\big|\\frac{2\\sqrt{(V-E)E}}{(2E-V)}\\big| - \\big| \\tan{(2EL^2)} \\big| \\le error\n",
        "\\end{align}\n",
        "\n",
        "Nilai $error$ dipilih nilai yang sangat mendekati nol.\n"
      ],
      "metadata": {
        "id": "VLb99xhIPFyb"
      }
    },
    {
      "cell_type": "code",
      "source": [
        "def LHS(E, V):\n",
        "  '''\n",
        "  Left handside equation\n",
        "  Input   : energy, potential\n",
        "  Return  : lhs\n",
        "  '''\n",
        "  lhs = 2*(np.sqrt((V-E)*E))/(2*E-V)\n",
        "  return lhs\n",
        "\n",
        "def RHS(E, L):\n",
        "  '''\n",
        "  Right handside equation\n",
        "  Input   : energy, well's width\n",
        "  Return  : rhs\n",
        "  '''\n",
        "  rhs =  np.tan((2*E*L**2))\n",
        "  return rhs\n"
      ],
      "metadata": {
        "id": "Ao3kic6dRfzq"
      },
      "execution_count": null,
      "outputs": []
    },
    {
      "cell_type": "code",
      "source": [
        "#Initialize parameters\n",
        "v1 = 10\n",
        "v0 = 7/2\n",
        "V = v1-v0\n",
        "L = 8\n",
        "error = 0.01\n",
        "e0 = 0.01\n",
        "de = 0.01 #energi step\n",
        "n = 0\n",
        "possible_energy = pd.DataFrame(columns=['Energy Level', 'Energy (a.u.)'])\n",
        "\n",
        "while True:\n",
        "  diff = abs(LHS(e0, V)) - abs(RHS(e0, L))\n",
        "\n",
        "  if abs(diff) < error:\n",
        "    possible_energy.loc[n] = [n+1, e0]\n",
        "    n += 1\n",
        "\n",
        "  e0 = e0+de\n",
        "\n",
        "  if e0 >= V:\n",
        "    break\n",
        "\n",
        "possible_energy"
      ],
      "metadata": {
        "colab": {
          "base_uri": "https://localhost:8080/",
          "height": 143
        },
        "id": "1aw4TJliSWCa",
        "outputId": "8eb78a3c-f232-461d-b681-9f354adcf259"
      },
      "execution_count": null,
      "outputs": [
        {
          "output_type": "execute_result",
          "data": {
            "text/plain": [
              "   Energy Level  Energy (a.u.)\n",
              "0           1.0           0.34\n",
              "1           2.0           1.00\n",
              "2           3.0           5.59"
            ],
            "text/html": [
              "\n",
              "  <div id=\"df-4ed5e876-eb3b-4031-81d4-b1b418c9e0d2\">\n",
              "    <div class=\"colab-df-container\">\n",
              "      <div>\n",
              "<style scoped>\n",
              "    .dataframe tbody tr th:only-of-type {\n",
              "        vertical-align: middle;\n",
              "    }\n",
              "\n",
              "    .dataframe tbody tr th {\n",
              "        vertical-align: top;\n",
              "    }\n",
              "\n",
              "    .dataframe thead th {\n",
              "        text-align: right;\n",
              "    }\n",
              "</style>\n",
              "<table border=\"1\" class=\"dataframe\">\n",
              "  <thead>\n",
              "    <tr style=\"text-align: right;\">\n",
              "      <th></th>\n",
              "      <th>Energy Level</th>\n",
              "      <th>Energy (a.u.)</th>\n",
              "    </tr>\n",
              "  </thead>\n",
              "  <tbody>\n",
              "    <tr>\n",
              "      <th>0</th>\n",
              "      <td>1.0</td>\n",
              "      <td>0.34</td>\n",
              "    </tr>\n",
              "    <tr>\n",
              "      <th>1</th>\n",
              "      <td>2.0</td>\n",
              "      <td>1.00</td>\n",
              "    </tr>\n",
              "    <tr>\n",
              "      <th>2</th>\n",
              "      <td>3.0</td>\n",
              "      <td>5.59</td>\n",
              "    </tr>\n",
              "  </tbody>\n",
              "</table>\n",
              "</div>\n",
              "      <button class=\"colab-df-convert\" onclick=\"convertToInteractive('df-4ed5e876-eb3b-4031-81d4-b1b418c9e0d2')\"\n",
              "              title=\"Convert this dataframe to an interactive table.\"\n",
              "              style=\"display:none;\">\n",
              "        \n",
              "  <svg xmlns=\"http://www.w3.org/2000/svg\" height=\"24px\"viewBox=\"0 0 24 24\"\n",
              "       width=\"24px\">\n",
              "    <path d=\"M0 0h24v24H0V0z\" fill=\"none\"/>\n",
              "    <path d=\"M18.56 5.44l.94 2.06.94-2.06 2.06-.94-2.06-.94-.94-2.06-.94 2.06-2.06.94zm-11 1L8.5 8.5l.94-2.06 2.06-.94-2.06-.94L8.5 2.5l-.94 2.06-2.06.94zm10 10l.94 2.06.94-2.06 2.06-.94-2.06-.94-.94-2.06-.94 2.06-2.06.94z\"/><path d=\"M17.41 7.96l-1.37-1.37c-.4-.4-.92-.59-1.43-.59-.52 0-1.04.2-1.43.59L10.3 9.45l-7.72 7.72c-.78.78-.78 2.05 0 2.83L4 21.41c.39.39.9.59 1.41.59.51 0 1.02-.2 1.41-.59l7.78-7.78 2.81-2.81c.8-.78.8-2.07 0-2.86zM5.41 20L4 18.59l7.72-7.72 1.47 1.35L5.41 20z\"/>\n",
              "  </svg>\n",
              "      </button>\n",
              "      \n",
              "  <style>\n",
              "    .colab-df-container {\n",
              "      display:flex;\n",
              "      flex-wrap:wrap;\n",
              "      gap: 12px;\n",
              "    }\n",
              "\n",
              "    .colab-df-convert {\n",
              "      background-color: #E8F0FE;\n",
              "      border: none;\n",
              "      border-radius: 50%;\n",
              "      cursor: pointer;\n",
              "      display: none;\n",
              "      fill: #1967D2;\n",
              "      height: 32px;\n",
              "      padding: 0 0 0 0;\n",
              "      width: 32px;\n",
              "    }\n",
              "\n",
              "    .colab-df-convert:hover {\n",
              "      background-color: #E2EBFA;\n",
              "      box-shadow: 0px 1px 2px rgba(60, 64, 67, 0.3), 0px 1px 3px 1px rgba(60, 64, 67, 0.15);\n",
              "      fill: #174EA6;\n",
              "    }\n",
              "\n",
              "    [theme=dark] .colab-df-convert {\n",
              "      background-color: #3B4455;\n",
              "      fill: #D2E3FC;\n",
              "    }\n",
              "\n",
              "    [theme=dark] .colab-df-convert:hover {\n",
              "      background-color: #434B5C;\n",
              "      box-shadow: 0px 1px 3px 1px rgba(0, 0, 0, 0.15);\n",
              "      filter: drop-shadow(0px 1px 2px rgba(0, 0, 0, 0.3));\n",
              "      fill: #FFFFFF;\n",
              "    }\n",
              "  </style>\n",
              "\n",
              "      <script>\n",
              "        const buttonEl =\n",
              "          document.querySelector('#df-4ed5e876-eb3b-4031-81d4-b1b418c9e0d2 button.colab-df-convert');\n",
              "        buttonEl.style.display =\n",
              "          google.colab.kernel.accessAllowed ? 'block' : 'none';\n",
              "\n",
              "        async function convertToInteractive(key) {\n",
              "          const element = document.querySelector('#df-4ed5e876-eb3b-4031-81d4-b1b418c9e0d2');\n",
              "          const dataTable =\n",
              "            await google.colab.kernel.invokeFunction('convertToInteractive',\n",
              "                                                     [key], {});\n",
              "          if (!dataTable) return;\n",
              "\n",
              "          const docLinkHtml = 'Like what you see? Visit the ' +\n",
              "            '<a target=\"_blank\" href=https://colab.research.google.com/notebooks/data_table.ipynb>data table notebook</a>'\n",
              "            + ' to learn more about interactive tables.';\n",
              "          element.innerHTML = '';\n",
              "          dataTable['output_type'] = 'display_data';\n",
              "          await google.colab.output.renderOutput(dataTable, element);\n",
              "          const docLink = document.createElement('div');\n",
              "          docLink.innerHTML = docLinkHtml;\n",
              "          element.appendChild(docLink);\n",
              "        }\n",
              "      </script>\n",
              "    </div>\n",
              "  </div>\n",
              "  "
            ]
          },
          "metadata": {},
          "execution_count": 13
        }
      ]
    },
    {
      "cell_type": "markdown",
      "source": [
        "### **Download Output Files**"
      ],
      "metadata": {
        "id": "BU0daBAlCgcJ"
      }
    },
    {
      "cell_type": "code",
      "source": [
        "# !rm * #Delete all files"
      ],
      "metadata": {
        "id": "id6ew1GShicZ"
      },
      "execution_count": null,
      "outputs": []
    },
    {
      "cell_type": "code",
      "source": [
        "from google.colab import files\n",
        "\n",
        "file_name = 'psi-out'\n",
        "case_name = ['a', 'b', 'c', 'd']\n",
        "\n",
        "for case in case_name:\n",
        "  for n in energy_level:\n",
        "    files.download('/content/psi-out'+case+str(n)+'.dat')"
      ],
      "metadata": {
        "colab": {
          "base_uri": "https://localhost:8080/",
          "height": 17
        },
        "id": "WHUfN0wnCfNm",
        "outputId": "4221f6bc-a0c1-4fe1-f4e7-d2e3b052319f"
      },
      "execution_count": null,
      "outputs": [
        {
          "output_type": "display_data",
          "data": {
            "text/plain": [
              "<IPython.core.display.Javascript object>"
            ],
            "application/javascript": [
              "\n",
              "    async function download(id, filename, size) {\n",
              "      if (!google.colab.kernel.accessAllowed) {\n",
              "        return;\n",
              "      }\n",
              "      const div = document.createElement('div');\n",
              "      const label = document.createElement('label');\n",
              "      label.textContent = `Downloading \"${filename}\": `;\n",
              "      div.appendChild(label);\n",
              "      const progress = document.createElement('progress');\n",
              "      progress.max = size;\n",
              "      div.appendChild(progress);\n",
              "      document.body.appendChild(div);\n",
              "\n",
              "      const buffers = [];\n",
              "      let downloaded = 0;\n",
              "\n",
              "      const channel = await google.colab.kernel.comms.open(id);\n",
              "      // Send a message to notify the kernel that we're ready.\n",
              "      channel.send({})\n",
              "\n",
              "      for await (const message of channel.messages) {\n",
              "        // Send a message to notify the kernel that we're ready.\n",
              "        channel.send({})\n",
              "        if (message.buffers) {\n",
              "          for (const buffer of message.buffers) {\n",
              "            buffers.push(buffer);\n",
              "            downloaded += buffer.byteLength;\n",
              "            progress.value = downloaded;\n",
              "          }\n",
              "        }\n",
              "      }\n",
              "      const blob = new Blob(buffers, {type: 'application/binary'});\n",
              "      const a = document.createElement('a');\n",
              "      a.href = window.URL.createObjectURL(blob);\n",
              "      a.download = filename;\n",
              "      div.appendChild(a);\n",
              "      a.click();\n",
              "      div.remove();\n",
              "    }\n",
              "  "
            ]
          },
          "metadata": {}
        },
        {
          "output_type": "display_data",
          "data": {
            "text/plain": [
              "<IPython.core.display.Javascript object>"
            ],
            "application/javascript": [
              "download(\"download_b58bf7c4-6e1f-46a0-8891-36b6d8ac7b37\", \"psi-outc1.dat\", 8723)"
            ]
          },
          "metadata": {}
        },
        {
          "output_type": "display_data",
          "data": {
            "text/plain": [
              "<IPython.core.display.Javascript object>"
            ],
            "application/javascript": [
              "\n",
              "    async function download(id, filename, size) {\n",
              "      if (!google.colab.kernel.accessAllowed) {\n",
              "        return;\n",
              "      }\n",
              "      const div = document.createElement('div');\n",
              "      const label = document.createElement('label');\n",
              "      label.textContent = `Downloading \"${filename}\": `;\n",
              "      div.appendChild(label);\n",
              "      const progress = document.createElement('progress');\n",
              "      progress.max = size;\n",
              "      div.appendChild(progress);\n",
              "      document.body.appendChild(div);\n",
              "\n",
              "      const buffers = [];\n",
              "      let downloaded = 0;\n",
              "\n",
              "      const channel = await google.colab.kernel.comms.open(id);\n",
              "      // Send a message to notify the kernel that we're ready.\n",
              "      channel.send({})\n",
              "\n",
              "      for await (const message of channel.messages) {\n",
              "        // Send a message to notify the kernel that we're ready.\n",
              "        channel.send({})\n",
              "        if (message.buffers) {\n",
              "          for (const buffer of message.buffers) {\n",
              "            buffers.push(buffer);\n",
              "            downloaded += buffer.byteLength;\n",
              "            progress.value = downloaded;\n",
              "          }\n",
              "        }\n",
              "      }\n",
              "      const blob = new Blob(buffers, {type: 'application/binary'});\n",
              "      const a = document.createElement('a');\n",
              "      a.href = window.URL.createObjectURL(blob);\n",
              "      a.download = filename;\n",
              "      div.appendChild(a);\n",
              "      a.click();\n",
              "      div.remove();\n",
              "    }\n",
              "  "
            ]
          },
          "metadata": {}
        },
        {
          "output_type": "display_data",
          "data": {
            "text/plain": [
              "<IPython.core.display.Javascript object>"
            ],
            "application/javascript": [
              "download(\"download_97029885-52e1-4b57-b2ea-3935ab380bf1\", \"psi-outc2.dat\", 8767)"
            ]
          },
          "metadata": {}
        },
        {
          "output_type": "display_data",
          "data": {
            "text/plain": [
              "<IPython.core.display.Javascript object>"
            ],
            "application/javascript": [
              "\n",
              "    async function download(id, filename, size) {\n",
              "      if (!google.colab.kernel.accessAllowed) {\n",
              "        return;\n",
              "      }\n",
              "      const div = document.createElement('div');\n",
              "      const label = document.createElement('label');\n",
              "      label.textContent = `Downloading \"${filename}\": `;\n",
              "      div.appendChild(label);\n",
              "      const progress = document.createElement('progress');\n",
              "      progress.max = size;\n",
              "      div.appendChild(progress);\n",
              "      document.body.appendChild(div);\n",
              "\n",
              "      const buffers = [];\n",
              "      let downloaded = 0;\n",
              "\n",
              "      const channel = await google.colab.kernel.comms.open(id);\n",
              "      // Send a message to notify the kernel that we're ready.\n",
              "      channel.send({})\n",
              "\n",
              "      for await (const message of channel.messages) {\n",
              "        // Send a message to notify the kernel that we're ready.\n",
              "        channel.send({})\n",
              "        if (message.buffers) {\n",
              "          for (const buffer of message.buffers) {\n",
              "            buffers.push(buffer);\n",
              "            downloaded += buffer.byteLength;\n",
              "            progress.value = downloaded;\n",
              "          }\n",
              "        }\n",
              "      }\n",
              "      const blob = new Blob(buffers, {type: 'application/binary'});\n",
              "      const a = document.createElement('a');\n",
              "      a.href = window.URL.createObjectURL(blob);\n",
              "      a.download = filename;\n",
              "      div.appendChild(a);\n",
              "      a.click();\n",
              "      div.remove();\n",
              "    }\n",
              "  "
            ]
          },
          "metadata": {}
        },
        {
          "output_type": "display_data",
          "data": {
            "text/plain": [
              "<IPython.core.display.Javascript object>"
            ],
            "application/javascript": [
              "download(\"download_de94e4c7-751c-48f2-8cda-a20f39c8d233\", \"psi-outc3.dat\", 8705)"
            ]
          },
          "metadata": {}
        },
        {
          "output_type": "display_data",
          "data": {
            "text/plain": [
              "<IPython.core.display.Javascript object>"
            ],
            "application/javascript": [
              "\n",
              "    async function download(id, filename, size) {\n",
              "      if (!google.colab.kernel.accessAllowed) {\n",
              "        return;\n",
              "      }\n",
              "      const div = document.createElement('div');\n",
              "      const label = document.createElement('label');\n",
              "      label.textContent = `Downloading \"${filename}\": `;\n",
              "      div.appendChild(label);\n",
              "      const progress = document.createElement('progress');\n",
              "      progress.max = size;\n",
              "      div.appendChild(progress);\n",
              "      document.body.appendChild(div);\n",
              "\n",
              "      const buffers = [];\n",
              "      let downloaded = 0;\n",
              "\n",
              "      const channel = await google.colab.kernel.comms.open(id);\n",
              "      // Send a message to notify the kernel that we're ready.\n",
              "      channel.send({})\n",
              "\n",
              "      for await (const message of channel.messages) {\n",
              "        // Send a message to notify the kernel that we're ready.\n",
              "        channel.send({})\n",
              "        if (message.buffers) {\n",
              "          for (const buffer of message.buffers) {\n",
              "            buffers.push(buffer);\n",
              "            downloaded += buffer.byteLength;\n",
              "            progress.value = downloaded;\n",
              "          }\n",
              "        }\n",
              "      }\n",
              "      const blob = new Blob(buffers, {type: 'application/binary'});\n",
              "      const a = document.createElement('a');\n",
              "      a.href = window.URL.createObjectURL(blob);\n",
              "      a.download = filename;\n",
              "      div.appendChild(a);\n",
              "      a.click();\n",
              "      div.remove();\n",
              "    }\n",
              "  "
            ]
          },
          "metadata": {}
        },
        {
          "output_type": "display_data",
          "data": {
            "text/plain": [
              "<IPython.core.display.Javascript object>"
            ],
            "application/javascript": [
              "download(\"download_67fd1cbe-01e7-489f-b4a1-95d0c6693edf\", \"psi-outc4.dat\", 8766)"
            ]
          },
          "metadata": {}
        },
        {
          "output_type": "display_data",
          "data": {
            "text/plain": [
              "<IPython.core.display.Javascript object>"
            ],
            "application/javascript": [
              "\n",
              "    async function download(id, filename, size) {\n",
              "      if (!google.colab.kernel.accessAllowed) {\n",
              "        return;\n",
              "      }\n",
              "      const div = document.createElement('div');\n",
              "      const label = document.createElement('label');\n",
              "      label.textContent = `Downloading \"${filename}\": `;\n",
              "      div.appendChild(label);\n",
              "      const progress = document.createElement('progress');\n",
              "      progress.max = size;\n",
              "      div.appendChild(progress);\n",
              "      document.body.appendChild(div);\n",
              "\n",
              "      const buffers = [];\n",
              "      let downloaded = 0;\n",
              "\n",
              "      const channel = await google.colab.kernel.comms.open(id);\n",
              "      // Send a message to notify the kernel that we're ready.\n",
              "      channel.send({})\n",
              "\n",
              "      for await (const message of channel.messages) {\n",
              "        // Send a message to notify the kernel that we're ready.\n",
              "        channel.send({})\n",
              "        if (message.buffers) {\n",
              "          for (const buffer of message.buffers) {\n",
              "            buffers.push(buffer);\n",
              "            downloaded += buffer.byteLength;\n",
              "            progress.value = downloaded;\n",
              "          }\n",
              "        }\n",
              "      }\n",
              "      const blob = new Blob(buffers, {type: 'application/binary'});\n",
              "      const a = document.createElement('a');\n",
              "      a.href = window.URL.createObjectURL(blob);\n",
              "      a.download = filename;\n",
              "      div.appendChild(a);\n",
              "      a.click();\n",
              "      div.remove();\n",
              "    }\n",
              "  "
            ]
          },
          "metadata": {}
        },
        {
          "output_type": "display_data",
          "data": {
            "text/plain": [
              "<IPython.core.display.Javascript object>"
            ],
            "application/javascript": [
              "download(\"download_bb790afa-8a15-4fb7-b31a-f5417b8a6212\", \"psi-outc5.dat\", 8739)"
            ]
          },
          "metadata": {}
        },
        {
          "output_type": "display_data",
          "data": {
            "text/plain": [
              "<IPython.core.display.Javascript object>"
            ],
            "application/javascript": [
              "\n",
              "    async function download(id, filename, size) {\n",
              "      if (!google.colab.kernel.accessAllowed) {\n",
              "        return;\n",
              "      }\n",
              "      const div = document.createElement('div');\n",
              "      const label = document.createElement('label');\n",
              "      label.textContent = `Downloading \"${filename}\": `;\n",
              "      div.appendChild(label);\n",
              "      const progress = document.createElement('progress');\n",
              "      progress.max = size;\n",
              "      div.appendChild(progress);\n",
              "      document.body.appendChild(div);\n",
              "\n",
              "      const buffers = [];\n",
              "      let downloaded = 0;\n",
              "\n",
              "      const channel = await google.colab.kernel.comms.open(id);\n",
              "      // Send a message to notify the kernel that we're ready.\n",
              "      channel.send({})\n",
              "\n",
              "      for await (const message of channel.messages) {\n",
              "        // Send a message to notify the kernel that we're ready.\n",
              "        channel.send({})\n",
              "        if (message.buffers) {\n",
              "          for (const buffer of message.buffers) {\n",
              "            buffers.push(buffer);\n",
              "            downloaded += buffer.byteLength;\n",
              "            progress.value = downloaded;\n",
              "          }\n",
              "        }\n",
              "      }\n",
              "      const blob = new Blob(buffers, {type: 'application/binary'});\n",
              "      const a = document.createElement('a');\n",
              "      a.href = window.URL.createObjectURL(blob);\n",
              "      a.download = filename;\n",
              "      div.appendChild(a);\n",
              "      a.click();\n",
              "      div.remove();\n",
              "    }\n",
              "  "
            ]
          },
          "metadata": {}
        },
        {
          "output_type": "display_data",
          "data": {
            "text/plain": [
              "<IPython.core.display.Javascript object>"
            ],
            "application/javascript": [
              "download(\"download_1beec8e8-c4d2-4f50-8af1-d77dc624f78e\", \"psi-outc6.dat\", 8775)"
            ]
          },
          "metadata": {}
        },
        {
          "output_type": "display_data",
          "data": {
            "text/plain": [
              "<IPython.core.display.Javascript object>"
            ],
            "application/javascript": [
              "\n",
              "    async function download(id, filename, size) {\n",
              "      if (!google.colab.kernel.accessAllowed) {\n",
              "        return;\n",
              "      }\n",
              "      const div = document.createElement('div');\n",
              "      const label = document.createElement('label');\n",
              "      label.textContent = `Downloading \"${filename}\": `;\n",
              "      div.appendChild(label);\n",
              "      const progress = document.createElement('progress');\n",
              "      progress.max = size;\n",
              "      div.appendChild(progress);\n",
              "      document.body.appendChild(div);\n",
              "\n",
              "      const buffers = [];\n",
              "      let downloaded = 0;\n",
              "\n",
              "      const channel = await google.colab.kernel.comms.open(id);\n",
              "      // Send a message to notify the kernel that we're ready.\n",
              "      channel.send({})\n",
              "\n",
              "      for await (const message of channel.messages) {\n",
              "        // Send a message to notify the kernel that we're ready.\n",
              "        channel.send({})\n",
              "        if (message.buffers) {\n",
              "          for (const buffer of message.buffers) {\n",
              "            buffers.push(buffer);\n",
              "            downloaded += buffer.byteLength;\n",
              "            progress.value = downloaded;\n",
              "          }\n",
              "        }\n",
              "      }\n",
              "      const blob = new Blob(buffers, {type: 'application/binary'});\n",
              "      const a = document.createElement('a');\n",
              "      a.href = window.URL.createObjectURL(blob);\n",
              "      a.download = filename;\n",
              "      div.appendChild(a);\n",
              "      a.click();\n",
              "      div.remove();\n",
              "    }\n",
              "  "
            ]
          },
          "metadata": {}
        },
        {
          "output_type": "display_data",
          "data": {
            "text/plain": [
              "<IPython.core.display.Javascript object>"
            ],
            "application/javascript": [
              "download(\"download_817ee307-a42e-430e-bfb8-b0fe0e208e61\", \"psi-outc7.dat\", 8743)"
            ]
          },
          "metadata": {}
        },
        {
          "output_type": "display_data",
          "data": {
            "text/plain": [
              "<IPython.core.display.Javascript object>"
            ],
            "application/javascript": [
              "\n",
              "    async function download(id, filename, size) {\n",
              "      if (!google.colab.kernel.accessAllowed) {\n",
              "        return;\n",
              "      }\n",
              "      const div = document.createElement('div');\n",
              "      const label = document.createElement('label');\n",
              "      label.textContent = `Downloading \"${filename}\": `;\n",
              "      div.appendChild(label);\n",
              "      const progress = document.createElement('progress');\n",
              "      progress.max = size;\n",
              "      div.appendChild(progress);\n",
              "      document.body.appendChild(div);\n",
              "\n",
              "      const buffers = [];\n",
              "      let downloaded = 0;\n",
              "\n",
              "      const channel = await google.colab.kernel.comms.open(id);\n",
              "      // Send a message to notify the kernel that we're ready.\n",
              "      channel.send({})\n",
              "\n",
              "      for await (const message of channel.messages) {\n",
              "        // Send a message to notify the kernel that we're ready.\n",
              "        channel.send({})\n",
              "        if (message.buffers) {\n",
              "          for (const buffer of message.buffers) {\n",
              "            buffers.push(buffer);\n",
              "            downloaded += buffer.byteLength;\n",
              "            progress.value = downloaded;\n",
              "          }\n",
              "        }\n",
              "      }\n",
              "      const blob = new Blob(buffers, {type: 'application/binary'});\n",
              "      const a = document.createElement('a');\n",
              "      a.href = window.URL.createObjectURL(blob);\n",
              "      a.download = filename;\n",
              "      div.appendChild(a);\n",
              "      a.click();\n",
              "      div.remove();\n",
              "    }\n",
              "  "
            ]
          },
          "metadata": {}
        },
        {
          "output_type": "display_data",
          "data": {
            "text/plain": [
              "<IPython.core.display.Javascript object>"
            ],
            "application/javascript": [
              "download(\"download_5c3f6e21-948b-458e-a521-1a355420aedf\", \"psi-outc8.dat\", 8776)"
            ]
          },
          "metadata": {}
        },
        {
          "output_type": "display_data",
          "data": {
            "text/plain": [
              "<IPython.core.display.Javascript object>"
            ],
            "application/javascript": [
              "\n",
              "    async function download(id, filename, size) {\n",
              "      if (!google.colab.kernel.accessAllowed) {\n",
              "        return;\n",
              "      }\n",
              "      const div = document.createElement('div');\n",
              "      const label = document.createElement('label');\n",
              "      label.textContent = `Downloading \"${filename}\": `;\n",
              "      div.appendChild(label);\n",
              "      const progress = document.createElement('progress');\n",
              "      progress.max = size;\n",
              "      div.appendChild(progress);\n",
              "      document.body.appendChild(div);\n",
              "\n",
              "      const buffers = [];\n",
              "      let downloaded = 0;\n",
              "\n",
              "      const channel = await google.colab.kernel.comms.open(id);\n",
              "      // Send a message to notify the kernel that we're ready.\n",
              "      channel.send({})\n",
              "\n",
              "      for await (const message of channel.messages) {\n",
              "        // Send a message to notify the kernel that we're ready.\n",
              "        channel.send({})\n",
              "        if (message.buffers) {\n",
              "          for (const buffer of message.buffers) {\n",
              "            buffers.push(buffer);\n",
              "            downloaded += buffer.byteLength;\n",
              "            progress.value = downloaded;\n",
              "          }\n",
              "        }\n",
              "      }\n",
              "      const blob = new Blob(buffers, {type: 'application/binary'});\n",
              "      const a = document.createElement('a');\n",
              "      a.href = window.URL.createObjectURL(blob);\n",
              "      a.download = filename;\n",
              "      div.appendChild(a);\n",
              "      a.click();\n",
              "      div.remove();\n",
              "    }\n",
              "  "
            ]
          },
          "metadata": {}
        },
        {
          "output_type": "display_data",
          "data": {
            "text/plain": [
              "<IPython.core.display.Javascript object>"
            ],
            "application/javascript": [
              "download(\"download_d2c22e1e-b591-4155-9a24-b47534280ce5\", \"psi-outc9.dat\", 8752)"
            ]
          },
          "metadata": {}
        },
        {
          "output_type": "display_data",
          "data": {
            "text/plain": [
              "<IPython.core.display.Javascript object>"
            ],
            "application/javascript": [
              "\n",
              "    async function download(id, filename, size) {\n",
              "      if (!google.colab.kernel.accessAllowed) {\n",
              "        return;\n",
              "      }\n",
              "      const div = document.createElement('div');\n",
              "      const label = document.createElement('label');\n",
              "      label.textContent = `Downloading \"${filename}\": `;\n",
              "      div.appendChild(label);\n",
              "      const progress = document.createElement('progress');\n",
              "      progress.max = size;\n",
              "      div.appendChild(progress);\n",
              "      document.body.appendChild(div);\n",
              "\n",
              "      const buffers = [];\n",
              "      let downloaded = 0;\n",
              "\n",
              "      const channel = await google.colab.kernel.comms.open(id);\n",
              "      // Send a message to notify the kernel that we're ready.\n",
              "      channel.send({})\n",
              "\n",
              "      for await (const message of channel.messages) {\n",
              "        // Send a message to notify the kernel that we're ready.\n",
              "        channel.send({})\n",
              "        if (message.buffers) {\n",
              "          for (const buffer of message.buffers) {\n",
              "            buffers.push(buffer);\n",
              "            downloaded += buffer.byteLength;\n",
              "            progress.value = downloaded;\n",
              "          }\n",
              "        }\n",
              "      }\n",
              "      const blob = new Blob(buffers, {type: 'application/binary'});\n",
              "      const a = document.createElement('a');\n",
              "      a.href = window.URL.createObjectURL(blob);\n",
              "      a.download = filename;\n",
              "      div.appendChild(a);\n",
              "      a.click();\n",
              "      div.remove();\n",
              "    }\n",
              "  "
            ]
          },
          "metadata": {}
        },
        {
          "output_type": "display_data",
          "data": {
            "text/plain": [
              "<IPython.core.display.Javascript object>"
            ],
            "application/javascript": [
              "download(\"download_2ad2ef3c-d8b0-4bbe-9771-5324a0d63a80\", \"psi-outc10.dat\", 8756)"
            ]
          },
          "metadata": {}
        },
        {
          "output_type": "display_data",
          "data": {
            "text/plain": [
              "<IPython.core.display.Javascript object>"
            ],
            "application/javascript": [
              "\n",
              "    async function download(id, filename, size) {\n",
              "      if (!google.colab.kernel.accessAllowed) {\n",
              "        return;\n",
              "      }\n",
              "      const div = document.createElement('div');\n",
              "      const label = document.createElement('label');\n",
              "      label.textContent = `Downloading \"${filename}\": `;\n",
              "      div.appendChild(label);\n",
              "      const progress = document.createElement('progress');\n",
              "      progress.max = size;\n",
              "      div.appendChild(progress);\n",
              "      document.body.appendChild(div);\n",
              "\n",
              "      const buffers = [];\n",
              "      let downloaded = 0;\n",
              "\n",
              "      const channel = await google.colab.kernel.comms.open(id);\n",
              "      // Send a message to notify the kernel that we're ready.\n",
              "      channel.send({})\n",
              "\n",
              "      for await (const message of channel.messages) {\n",
              "        // Send a message to notify the kernel that we're ready.\n",
              "        channel.send({})\n",
              "        if (message.buffers) {\n",
              "          for (const buffer of message.buffers) {\n",
              "            buffers.push(buffer);\n",
              "            downloaded += buffer.byteLength;\n",
              "            progress.value = downloaded;\n",
              "          }\n",
              "        }\n",
              "      }\n",
              "      const blob = new Blob(buffers, {type: 'application/binary'});\n",
              "      const a = document.createElement('a');\n",
              "      a.href = window.URL.createObjectURL(blob);\n",
              "      a.download = filename;\n",
              "      div.appendChild(a);\n",
              "      a.click();\n",
              "      div.remove();\n",
              "    }\n",
              "  "
            ]
          },
          "metadata": {}
        },
        {
          "output_type": "display_data",
          "data": {
            "text/plain": [
              "<IPython.core.display.Javascript object>"
            ],
            "application/javascript": [
              "download(\"download_ee2c662b-ec0b-44ac-8b98-ff6d5c6cc40f\", \"psi-outd1.dat\", 8654)"
            ]
          },
          "metadata": {}
        },
        {
          "output_type": "display_data",
          "data": {
            "text/plain": [
              "<IPython.core.display.Javascript object>"
            ],
            "application/javascript": [
              "\n",
              "    async function download(id, filename, size) {\n",
              "      if (!google.colab.kernel.accessAllowed) {\n",
              "        return;\n",
              "      }\n",
              "      const div = document.createElement('div');\n",
              "      const label = document.createElement('label');\n",
              "      label.textContent = `Downloading \"${filename}\": `;\n",
              "      div.appendChild(label);\n",
              "      const progress = document.createElement('progress');\n",
              "      progress.max = size;\n",
              "      div.appendChild(progress);\n",
              "      document.body.appendChild(div);\n",
              "\n",
              "      const buffers = [];\n",
              "      let downloaded = 0;\n",
              "\n",
              "      const channel = await google.colab.kernel.comms.open(id);\n",
              "      // Send a message to notify the kernel that we're ready.\n",
              "      channel.send({})\n",
              "\n",
              "      for await (const message of channel.messages) {\n",
              "        // Send a message to notify the kernel that we're ready.\n",
              "        channel.send({})\n",
              "        if (message.buffers) {\n",
              "          for (const buffer of message.buffers) {\n",
              "            buffers.push(buffer);\n",
              "            downloaded += buffer.byteLength;\n",
              "            progress.value = downloaded;\n",
              "          }\n",
              "        }\n",
              "      }\n",
              "      const blob = new Blob(buffers, {type: 'application/binary'});\n",
              "      const a = document.createElement('a');\n",
              "      a.href = window.URL.createObjectURL(blob);\n",
              "      a.download = filename;\n",
              "      div.appendChild(a);\n",
              "      a.click();\n",
              "      div.remove();\n",
              "    }\n",
              "  "
            ]
          },
          "metadata": {}
        },
        {
          "output_type": "display_data",
          "data": {
            "text/plain": [
              "<IPython.core.display.Javascript object>"
            ],
            "application/javascript": [
              "download(\"download_e0029455-e14c-41dd-a90b-3035c0de096b\", \"psi-outd2.dat\", 8748)"
            ]
          },
          "metadata": {}
        },
        {
          "output_type": "display_data",
          "data": {
            "text/plain": [
              "<IPython.core.display.Javascript object>"
            ],
            "application/javascript": [
              "\n",
              "    async function download(id, filename, size) {\n",
              "      if (!google.colab.kernel.accessAllowed) {\n",
              "        return;\n",
              "      }\n",
              "      const div = document.createElement('div');\n",
              "      const label = document.createElement('label');\n",
              "      label.textContent = `Downloading \"${filename}\": `;\n",
              "      div.appendChild(label);\n",
              "      const progress = document.createElement('progress');\n",
              "      progress.max = size;\n",
              "      div.appendChild(progress);\n",
              "      document.body.appendChild(div);\n",
              "\n",
              "      const buffers = [];\n",
              "      let downloaded = 0;\n",
              "\n",
              "      const channel = await google.colab.kernel.comms.open(id);\n",
              "      // Send a message to notify the kernel that we're ready.\n",
              "      channel.send({})\n",
              "\n",
              "      for await (const message of channel.messages) {\n",
              "        // Send a message to notify the kernel that we're ready.\n",
              "        channel.send({})\n",
              "        if (message.buffers) {\n",
              "          for (const buffer of message.buffers) {\n",
              "            buffers.push(buffer);\n",
              "            downloaded += buffer.byteLength;\n",
              "            progress.value = downloaded;\n",
              "          }\n",
              "        }\n",
              "      }\n",
              "      const blob = new Blob(buffers, {type: 'application/binary'});\n",
              "      const a = document.createElement('a');\n",
              "      a.href = window.URL.createObjectURL(blob);\n",
              "      a.download = filename;\n",
              "      div.appendChild(a);\n",
              "      a.click();\n",
              "      div.remove();\n",
              "    }\n",
              "  "
            ]
          },
          "metadata": {}
        },
        {
          "output_type": "display_data",
          "data": {
            "text/plain": [
              "<IPython.core.display.Javascript object>"
            ],
            "application/javascript": [
              "download(\"download_aa76ab5e-ee94-432d-8b4b-21eb4b6046c2\", \"psi-outd3.dat\", 8730)"
            ]
          },
          "metadata": {}
        },
        {
          "output_type": "display_data",
          "data": {
            "text/plain": [
              "<IPython.core.display.Javascript object>"
            ],
            "application/javascript": [
              "\n",
              "    async function download(id, filename, size) {\n",
              "      if (!google.colab.kernel.accessAllowed) {\n",
              "        return;\n",
              "      }\n",
              "      const div = document.createElement('div');\n",
              "      const label = document.createElement('label');\n",
              "      label.textContent = `Downloading \"${filename}\": `;\n",
              "      div.appendChild(label);\n",
              "      const progress = document.createElement('progress');\n",
              "      progress.max = size;\n",
              "      div.appendChild(progress);\n",
              "      document.body.appendChild(div);\n",
              "\n",
              "      const buffers = [];\n",
              "      let downloaded = 0;\n",
              "\n",
              "      const channel = await google.colab.kernel.comms.open(id);\n",
              "      // Send a message to notify the kernel that we're ready.\n",
              "      channel.send({})\n",
              "\n",
              "      for await (const message of channel.messages) {\n",
              "        // Send a message to notify the kernel that we're ready.\n",
              "        channel.send({})\n",
              "        if (message.buffers) {\n",
              "          for (const buffer of message.buffers) {\n",
              "            buffers.push(buffer);\n",
              "            downloaded += buffer.byteLength;\n",
              "            progress.value = downloaded;\n",
              "          }\n",
              "        }\n",
              "      }\n",
              "      const blob = new Blob(buffers, {type: 'application/binary'});\n",
              "      const a = document.createElement('a');\n",
              "      a.href = window.URL.createObjectURL(blob);\n",
              "      a.download = filename;\n",
              "      div.appendChild(a);\n",
              "      a.click();\n",
              "      div.remove();\n",
              "    }\n",
              "  "
            ]
          },
          "metadata": {}
        },
        {
          "output_type": "display_data",
          "data": {
            "text/plain": [
              "<IPython.core.display.Javascript object>"
            ],
            "application/javascript": [
              "download(\"download_3190006b-2836-4ea8-bd63-8b04d24205d0\", \"psi-outd4.dat\", 8759)"
            ]
          },
          "metadata": {}
        },
        {
          "output_type": "display_data",
          "data": {
            "text/plain": [
              "<IPython.core.display.Javascript object>"
            ],
            "application/javascript": [
              "\n",
              "    async function download(id, filename, size) {\n",
              "      if (!google.colab.kernel.accessAllowed) {\n",
              "        return;\n",
              "      }\n",
              "      const div = document.createElement('div');\n",
              "      const label = document.createElement('label');\n",
              "      label.textContent = `Downloading \"${filename}\": `;\n",
              "      div.appendChild(label);\n",
              "      const progress = document.createElement('progress');\n",
              "      progress.max = size;\n",
              "      div.appendChild(progress);\n",
              "      document.body.appendChild(div);\n",
              "\n",
              "      const buffers = [];\n",
              "      let downloaded = 0;\n",
              "\n",
              "      const channel = await google.colab.kernel.comms.open(id);\n",
              "      // Send a message to notify the kernel that we're ready.\n",
              "      channel.send({})\n",
              "\n",
              "      for await (const message of channel.messages) {\n",
              "        // Send a message to notify the kernel that we're ready.\n",
              "        channel.send({})\n",
              "        if (message.buffers) {\n",
              "          for (const buffer of message.buffers) {\n",
              "            buffers.push(buffer);\n",
              "            downloaded += buffer.byteLength;\n",
              "            progress.value = downloaded;\n",
              "          }\n",
              "        }\n",
              "      }\n",
              "      const blob = new Blob(buffers, {type: 'application/binary'});\n",
              "      const a = document.createElement('a');\n",
              "      a.href = window.URL.createObjectURL(blob);\n",
              "      a.download = filename;\n",
              "      div.appendChild(a);\n",
              "      a.click();\n",
              "      div.remove();\n",
              "    }\n",
              "  "
            ]
          },
          "metadata": {}
        },
        {
          "output_type": "display_data",
          "data": {
            "text/plain": [
              "<IPython.core.display.Javascript object>"
            ],
            "application/javascript": [
              "download(\"download_7c7e055f-c3f1-46ba-83b9-9955209f5620\", \"psi-outd5.dat\", 8758)"
            ]
          },
          "metadata": {}
        },
        {
          "output_type": "display_data",
          "data": {
            "text/plain": [
              "<IPython.core.display.Javascript object>"
            ],
            "application/javascript": [
              "\n",
              "    async function download(id, filename, size) {\n",
              "      if (!google.colab.kernel.accessAllowed) {\n",
              "        return;\n",
              "      }\n",
              "      const div = document.createElement('div');\n",
              "      const label = document.createElement('label');\n",
              "      label.textContent = `Downloading \"${filename}\": `;\n",
              "      div.appendChild(label);\n",
              "      const progress = document.createElement('progress');\n",
              "      progress.max = size;\n",
              "      div.appendChild(progress);\n",
              "      document.body.appendChild(div);\n",
              "\n",
              "      const buffers = [];\n",
              "      let downloaded = 0;\n",
              "\n",
              "      const channel = await google.colab.kernel.comms.open(id);\n",
              "      // Send a message to notify the kernel that we're ready.\n",
              "      channel.send({})\n",
              "\n",
              "      for await (const message of channel.messages) {\n",
              "        // Send a message to notify the kernel that we're ready.\n",
              "        channel.send({})\n",
              "        if (message.buffers) {\n",
              "          for (const buffer of message.buffers) {\n",
              "            buffers.push(buffer);\n",
              "            downloaded += buffer.byteLength;\n",
              "            progress.value = downloaded;\n",
              "          }\n",
              "        }\n",
              "      }\n",
              "      const blob = new Blob(buffers, {type: 'application/binary'});\n",
              "      const a = document.createElement('a');\n",
              "      a.href = window.URL.createObjectURL(blob);\n",
              "      a.download = filename;\n",
              "      div.appendChild(a);\n",
              "      a.click();\n",
              "      div.remove();\n",
              "    }\n",
              "  "
            ]
          },
          "metadata": {}
        },
        {
          "output_type": "display_data",
          "data": {
            "text/plain": [
              "<IPython.core.display.Javascript object>"
            ],
            "application/javascript": [
              "download(\"download_3ca5aa5e-bf20-4fdb-94ab-57b43a762137\", \"psi-outd6.dat\", 8763)"
            ]
          },
          "metadata": {}
        },
        {
          "output_type": "display_data",
          "data": {
            "text/plain": [
              "<IPython.core.display.Javascript object>"
            ],
            "application/javascript": [
              "\n",
              "    async function download(id, filename, size) {\n",
              "      if (!google.colab.kernel.accessAllowed) {\n",
              "        return;\n",
              "      }\n",
              "      const div = document.createElement('div');\n",
              "      const label = document.createElement('label');\n",
              "      label.textContent = `Downloading \"${filename}\": `;\n",
              "      div.appendChild(label);\n",
              "      const progress = document.createElement('progress');\n",
              "      progress.max = size;\n",
              "      div.appendChild(progress);\n",
              "      document.body.appendChild(div);\n",
              "\n",
              "      const buffers = [];\n",
              "      let downloaded = 0;\n",
              "\n",
              "      const channel = await google.colab.kernel.comms.open(id);\n",
              "      // Send a message to notify the kernel that we're ready.\n",
              "      channel.send({})\n",
              "\n",
              "      for await (const message of channel.messages) {\n",
              "        // Send a message to notify the kernel that we're ready.\n",
              "        channel.send({})\n",
              "        if (message.buffers) {\n",
              "          for (const buffer of message.buffers) {\n",
              "            buffers.push(buffer);\n",
              "            downloaded += buffer.byteLength;\n",
              "            progress.value = downloaded;\n",
              "          }\n",
              "        }\n",
              "      }\n",
              "      const blob = new Blob(buffers, {type: 'application/binary'});\n",
              "      const a = document.createElement('a');\n",
              "      a.href = window.URL.createObjectURL(blob);\n",
              "      a.download = filename;\n",
              "      div.appendChild(a);\n",
              "      a.click();\n",
              "      div.remove();\n",
              "    }\n",
              "  "
            ]
          },
          "metadata": {}
        },
        {
          "output_type": "display_data",
          "data": {
            "text/plain": [
              "<IPython.core.display.Javascript object>"
            ],
            "application/javascript": [
              "download(\"download_f3ca7020-ff62-4e75-adf5-ca9727f8c6fe\", \"psi-outd7.dat\", 8754)"
            ]
          },
          "metadata": {}
        },
        {
          "output_type": "display_data",
          "data": {
            "text/plain": [
              "<IPython.core.display.Javascript object>"
            ],
            "application/javascript": [
              "\n",
              "    async function download(id, filename, size) {\n",
              "      if (!google.colab.kernel.accessAllowed) {\n",
              "        return;\n",
              "      }\n",
              "      const div = document.createElement('div');\n",
              "      const label = document.createElement('label');\n",
              "      label.textContent = `Downloading \"${filename}\": `;\n",
              "      div.appendChild(label);\n",
              "      const progress = document.createElement('progress');\n",
              "      progress.max = size;\n",
              "      div.appendChild(progress);\n",
              "      document.body.appendChild(div);\n",
              "\n",
              "      const buffers = [];\n",
              "      let downloaded = 0;\n",
              "\n",
              "      const channel = await google.colab.kernel.comms.open(id);\n",
              "      // Send a message to notify the kernel that we're ready.\n",
              "      channel.send({})\n",
              "\n",
              "      for await (const message of channel.messages) {\n",
              "        // Send a message to notify the kernel that we're ready.\n",
              "        channel.send({})\n",
              "        if (message.buffers) {\n",
              "          for (const buffer of message.buffers) {\n",
              "            buffers.push(buffer);\n",
              "            downloaded += buffer.byteLength;\n",
              "            progress.value = downloaded;\n",
              "          }\n",
              "        }\n",
              "      }\n",
              "      const blob = new Blob(buffers, {type: 'application/binary'});\n",
              "      const a = document.createElement('a');\n",
              "      a.href = window.URL.createObjectURL(blob);\n",
              "      a.download = filename;\n",
              "      div.appendChild(a);\n",
              "      a.click();\n",
              "      div.remove();\n",
              "    }\n",
              "  "
            ]
          },
          "metadata": {}
        },
        {
          "output_type": "display_data",
          "data": {
            "text/plain": [
              "<IPython.core.display.Javascript object>"
            ],
            "application/javascript": [
              "download(\"download_44ced7bf-e43b-4375-b542-d9eaa02776d6\", \"psi-outd8.dat\", 8769)"
            ]
          },
          "metadata": {}
        },
        {
          "output_type": "display_data",
          "data": {
            "text/plain": [
              "<IPython.core.display.Javascript object>"
            ],
            "application/javascript": [
              "\n",
              "    async function download(id, filename, size) {\n",
              "      if (!google.colab.kernel.accessAllowed) {\n",
              "        return;\n",
              "      }\n",
              "      const div = document.createElement('div');\n",
              "      const label = document.createElement('label');\n",
              "      label.textContent = `Downloading \"${filename}\": `;\n",
              "      div.appendChild(label);\n",
              "      const progress = document.createElement('progress');\n",
              "      progress.max = size;\n",
              "      div.appendChild(progress);\n",
              "      document.body.appendChild(div);\n",
              "\n",
              "      const buffers = [];\n",
              "      let downloaded = 0;\n",
              "\n",
              "      const channel = await google.colab.kernel.comms.open(id);\n",
              "      // Send a message to notify the kernel that we're ready.\n",
              "      channel.send({})\n",
              "\n",
              "      for await (const message of channel.messages) {\n",
              "        // Send a message to notify the kernel that we're ready.\n",
              "        channel.send({})\n",
              "        if (message.buffers) {\n",
              "          for (const buffer of message.buffers) {\n",
              "            buffers.push(buffer);\n",
              "            downloaded += buffer.byteLength;\n",
              "            progress.value = downloaded;\n",
              "          }\n",
              "        }\n",
              "      }\n",
              "      const blob = new Blob(buffers, {type: 'application/binary'});\n",
              "      const a = document.createElement('a');\n",
              "      a.href = window.URL.createObjectURL(blob);\n",
              "      a.download = filename;\n",
              "      div.appendChild(a);\n",
              "      a.click();\n",
              "      div.remove();\n",
              "    }\n",
              "  "
            ]
          },
          "metadata": {}
        },
        {
          "output_type": "display_data",
          "data": {
            "text/plain": [
              "<IPython.core.display.Javascript object>"
            ],
            "application/javascript": [
              "download(\"download_385f38c4-170a-48cf-9bf6-41b8709ca20d\", \"psi-outd9.dat\", 8742)"
            ]
          },
          "metadata": {}
        },
        {
          "output_type": "display_data",
          "data": {
            "text/plain": [
              "<IPython.core.display.Javascript object>"
            ],
            "application/javascript": [
              "\n",
              "    async function download(id, filename, size) {\n",
              "      if (!google.colab.kernel.accessAllowed) {\n",
              "        return;\n",
              "      }\n",
              "      const div = document.createElement('div');\n",
              "      const label = document.createElement('label');\n",
              "      label.textContent = `Downloading \"${filename}\": `;\n",
              "      div.appendChild(label);\n",
              "      const progress = document.createElement('progress');\n",
              "      progress.max = size;\n",
              "      div.appendChild(progress);\n",
              "      document.body.appendChild(div);\n",
              "\n",
              "      const buffers = [];\n",
              "      let downloaded = 0;\n",
              "\n",
              "      const channel = await google.colab.kernel.comms.open(id);\n",
              "      // Send a message to notify the kernel that we're ready.\n",
              "      channel.send({})\n",
              "\n",
              "      for await (const message of channel.messages) {\n",
              "        // Send a message to notify the kernel that we're ready.\n",
              "        channel.send({})\n",
              "        if (message.buffers) {\n",
              "          for (const buffer of message.buffers) {\n",
              "            buffers.push(buffer);\n",
              "            downloaded += buffer.byteLength;\n",
              "            progress.value = downloaded;\n",
              "          }\n",
              "        }\n",
              "      }\n",
              "      const blob = new Blob(buffers, {type: 'application/binary'});\n",
              "      const a = document.createElement('a');\n",
              "      a.href = window.URL.createObjectURL(blob);\n",
              "      a.download = filename;\n",
              "      div.appendChild(a);\n",
              "      a.click();\n",
              "      div.remove();\n",
              "    }\n",
              "  "
            ]
          },
          "metadata": {}
        },
        {
          "output_type": "display_data",
          "data": {
            "text/plain": [
              "<IPython.core.display.Javascript object>"
            ],
            "application/javascript": [
              "download(\"download_ee51523b-455e-4ae1-95e1-c2acb0c68d2f\", \"psi-outd10.dat\", 8761)"
            ]
          },
          "metadata": {}
        }
      ]
    }
  ]
}