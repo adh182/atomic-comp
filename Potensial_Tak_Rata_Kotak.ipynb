{
  "nbformat": 4,
  "nbformat_minor": 0,
  "metadata": {
    "colab": {
      "name": "Potensial Tak Rata Kotak.ipynb",
      "provenance": [],
      "collapsed_sections": []
    },
    "kernelspec": {
      "name": "python3",
      "display_name": "Python 3"
    },
    "language_info": {
      "name": "python"
    }
  },
  "cells": [
    {
      "cell_type": "markdown",
      "source": [
        "# **SUMUR POTENSIAL TAK HINGGA SATU DIMENSI DASAR TAK RATA**\n",
        "Islamuddin Alimurrijal"
      ],
      "metadata": {
        "id": "OxlbAl97Crrh"
      }
    },
    {
      "cell_type": "markdown",
      "source": [
        "Suatu partikel berada pada sumur potensial tak hingga dan tak rata satu dimensi ditunjukkan pada gambar di bawah ini.\n",
        "\n",
        "![potrata.png](data:image/png;base64,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)\n",
        "\n",
        "\n",
        "Dimisalkan sumur potensial tersebut memiliki lebar $L=4 ~a.u$ dengan potensial $V_0=0 ~a.u$ dan $V_1=7 ~a.u$, maka permasalahan tersebut dapat diselesaikan secara analitik dan numerik."
      ],
      "metadata": {
        "id": "fKYoobS7DP9Q"
      }
    },
    {
      "cell_type": "markdown",
      "source": [
        "##Solusi Analitik\n",
        "\n",
        "Berdasarkan gambar di atas, terjadi peningkatan potensial sebesar ΔV. Pada gambar a, b, c dan d, peningkatan potensial tersebut dapat diasumsikan sebagai luasan persegi yang dibentuk pada gambar. \n",
        "\n",
        "Nilai $\\Delta V$ dapat dihitung sebagai berikut.\n",
        "\\begin{align}\n",
        "\\Delta V &= p \\cdot l \\\\\n",
        "&= (V_1 - V_0) \\cdot \\frac{L}{2}\n",
        "\\end{align}\n",
        "\n",
        "Energi pada tingkat energi tertentu memenuhi persamaan berikut:\n",
        "\\begin{align}\n",
        "E_n = n^2 \\frac{\\pi^2 /2}{L^2} + V_0 + \\bar{\\Delta V}\n",
        "\\end{align}\n",
        "\n",
        "$\\bar{\\Delta V}$ merupakan potensial rata-rata sebagai berikut.\n",
        "\\begin{align}\n",
        "\\bar{\\Delta V} = \\frac{\\Delta V}{L} = \\frac{(V_1 - V_0)}{L}\\cdot \\frac{L}{2} =\\frac{V_1 - V_0}{2}\n",
        "\\end{align}\n",
        "\n",
        "Sehingga persamaan energinya menjadi:\n",
        "\\begin{align}\n",
        "E_n = n^2 \\frac{\\pi^2 /2}{L^2} + V_0 + \\frac{(V_1-V_0)}{2}\n",
        "\\end{align}\n",
        "\n",
        "Persamaan di atas belaku untuk seluruh tingkat energi $n$."
      ],
      "metadata": {
        "id": "j0s54FzPEW-a"
      }
    },
    {
      "cell_type": "markdown",
      "source": [
        "## Solusi Numerik\n",
        "\n",
        "Solusi numerik permasalahan tersebut dapat dihitung dengan menentukan syarat batas potensial di sepanjang sumur potensial, kemudian menyelesaikan persamaan Schrodinger pada setiap tingkat energi. Implementasi permasalah tersebut secara numerik dapat dilihat pada program di bawah ini dengan mengatur nilai potensial sesuai dengan permasalahan."
      ],
      "metadata": {
        "id": "D5HsYU8gHRjA"
      }
    },
    {
      "cell_type": "code",
      "execution_count": 1,
      "metadata": {
        "id": "Sc8Ebz7J5jww"
      },
      "outputs": [],
      "source": [
        "#Import necessary library\n",
        "import numpy as np\n",
        "import pandas as pd"
      ]
    },
    {
      "cell_type": "code",
      "source": [
        "def potential(xmin, xmax):\n",
        "  '''\n",
        "  Set the potential within the system in certain interval\n",
        "  Input   : x interval\n",
        "  Return  : potential\n",
        "  '''\n",
        "\n",
        "  # potential_v = 0\n",
        "  v1 = 7\n",
        "  v0 = 0\n",
        "\n",
        "  # Kasus A\n",
        "  # if (xmin < 0):\n",
        "  #   potential_v = v0 + v1\n",
        "  # else:\n",
        "  #   potential_v = v0\n",
        "\n",
        "  # Kasus B\n",
        "  # if (xmin < 0):\n",
        "  #   potential_v = v0 \n",
        "  # else:\n",
        "  #   potential_v = v0 + v1\n",
        "\n",
        "  # Kasus C\n",
        "  if (abs(xmin) < xmax/2):\n",
        "    potential_v = v0 + v1\n",
        "  else:\n",
        "    potential_v = 0\n",
        "\n",
        "  # Kasus D\n",
        "  # potential_v = v1/2\n",
        "\n",
        "  return potential_v"
      ],
      "metadata": {
        "id": "3LPAljGs5zcJ"
      },
      "execution_count": 17,
      "outputs": []
    },
    {
      "cell_type": "code",
      "source": [
        "def normalize(n, h, psi):\n",
        "  '''\n",
        "  Normalize wave function\n",
        "  Input   : initial wave function, number of points, step\n",
        "  Return  : normalized wave function\n",
        "  '''\n",
        "  norm = psi[0]**2+psi[n]**2\n",
        "  for i in range(1,n-3,2):\n",
        "    norm = norm+4*psi[i]**2+2*psi[i+1]**2\n",
        "\n",
        "  norm = norm + 4*psi[n-1]**2\n",
        "  norm = 1/np.sqrt((norm*h/3))\n",
        "\n",
        "  for i in range(0, len(psi)):\n",
        "   psi[i] = psi[i]*norm\n",
        "\n",
        "  return psi"
      ],
      "metadata": {
        "id": "ck3lRMKk6PoJ"
      },
      "execution_count": 3,
      "outputs": []
    },
    {
      "cell_type": "code",
      "source": [
        "def numerov(nx, x, e_init, psi):\n",
        "  '''\n",
        "  Integrates the wave function using Numerov's method\n",
        "  Input   : number of points, x inteval, initial energy, wave function\n",
        "  Return  : integrated wave function\n",
        "  '''\n",
        "\n",
        "  #Calculates the steps\n",
        "  h = xmax/nx\n",
        "  h2 = h**2\n",
        "  h12 = h2/12\n",
        "\n",
        "  #Initialize wave function\n",
        "  psi[0] = 0\n",
        "  psi[1] = 0.0001\n",
        "\n",
        "  #Calculates using Numerov's nethod\n",
        "  fn = 2*(potential(-x, x)-e_init)\n",
        "  q0 = psi[0]*(1-h12*fn)\n",
        "  fn = 2*(potential(-x+h, x)-e_init)\n",
        "  q1 = psi[1]*(1-h12*fn)\n",
        "  \n",
        "  for n in range(2, 2*nx+1):\n",
        "    q2 = h2*fn*psi[n-1]+2*q1-q0\n",
        "    fn = 2*(potential(n*h-x, x)-e_init)\n",
        "    psi[n] = q2/(1-h12*fn)\n",
        "    q0 = q1\n",
        "    q1 = q2\n",
        "\n",
        "  psi = normalize(2*nx, h, psi)\n",
        "\n",
        "  return psi"
      ],
      "metadata": {
        "id": "7AT8_n4h7Jx4"
      },
      "execution_count": 4,
      "outputs": []
    },
    {
      "cell_type": "code",
      "source": [
        "def calculates(nx, x, e_init, de, eps, psi):\n",
        "  '''\n",
        "  Starting course search and approximate energy level using bisection method\n",
        "  Input   : number of points, x inteval, initial energy,\n",
        "            eps, lists to store energy and deviation\n",
        "  Return  : Energy approximation, wave function\n",
        "  '''\n",
        "  #Starting course search\n",
        "  psi = numerov(nx, x, e_init, psi)\n",
        "  dev1 = psi[2*nx]\n",
        "\n",
        "  while True:\n",
        "    #Update energy with de step\n",
        "    e2 = e_init + de\n",
        " \n",
        "    psi = numerov(nx, x, e2, psi)\n",
        "    dev2 = psi[2*nx]\n",
        "\n",
        "    #Check if deviation is zero\n",
        "    if dev1*dev2 < 0:\n",
        "      break\n",
        "\n",
        "    #Update energy and deviation value for next iteration  \n",
        "    e_init = e2\n",
        "    dev1 = dev2\n",
        "\n",
        "  #Starting bisection\n",
        "  while abs(e_init-e2) > eps:\n",
        "    e3 = (e_init+e2)/2\n",
        "    psi = numerov(nx,x,e3,psi)\n",
        "    dev3 = psi[2*nx]\n",
        "\n",
        "    if dev3*dev1 <= 0.000000 :\n",
        "      e2 = e3\n",
        "      dev2 = dev3\n",
        "    else:\n",
        "      e_init = e3\n",
        "      dev2 = dev3\n",
        "\n",
        "  return e3, psi"
      ],
      "metadata": {
        "id": "Kfuv66Bk8V7V"
      },
      "execution_count": 5,
      "outputs": []
    },
    {
      "cell_type": "code",
      "source": [
        "def schrod(nx, xmax, e0, de, filename, n):\n",
        "  '''\n",
        "  A function to calculates energy and wave function\n",
        "  Input   : number of points, x interval, initial energy, delta e, filename, energy level\n",
        "  Return  : approximated energy, psi .date file\n",
        "  '''\n",
        "  #Initialize Parameters\n",
        "  eps = 10e-6\n",
        "  dx = xmax/nx\n",
        "\n",
        "  #Initialize wave function\n",
        "  psi = np.zeros(2*nx+1)\n",
        "\n",
        "  #Calculates energy and deviation\n",
        "  energy, psi = calculates(nx, xmax, e0, de, eps, psi)\n",
        "\n",
        "  #Save output as dat file\n",
        "  filename = filename + str(n) + '.dat'\n",
        "  x = np.zeros(2*nx+1)\n",
        "  for i in range(1, 2*nx+2):\n",
        "    x[i-1] = (i-1)*dx-xmax\n",
        "    \n",
        "  with open(filename, 'w') as out_file:\n",
        "    for item in range(len(psi)):\n",
        "      # out_file.write(str(x[item]) + '      ' + (psi[item]) + '\\n')\n",
        "      out_file.write(\"{}      {}      \\n\".format(x[item], psi[item]))\n",
        "\n",
        "  return energy"
      ],
      "metadata": {
        "id": "tzIAojNe_9Nb"
      },
      "execution_count": 6,
      "outputs": []
    },
    {
      "cell_type": "markdown",
      "source": [
        "### Input parameter yang diinginkan"
      ],
      "metadata": {
        "id": "i_l9SVK9H6hX"
      }
    },
    {
      "cell_type": "code",
      "source": [
        "#Initialize Parameters\n",
        "nx = 100 #Number of points\n",
        "xmax = 2 #L = 4 a.u\n",
        "e0 = 0 #Guessed energy\n",
        "de = 0.001 #Energy step\n",
        "\n",
        "energy_level = [i for i in range(1, 11)]\n",
        "energy_value = []\n",
        "filename = 'psi-outd' #Change name according to the case\n",
        "\n",
        "for i in energy_level:\n",
        "  energy = schrod(nx, xmax, e0, de, filename, i)\n",
        "  energy_value.append(energy)\n",
        "\n",
        "  #Update for the next energy level\n",
        "  e0 = energy + 0.005"
      ],
      "metadata": {
        "id": "TMF58vcJ6QAg"
      },
      "execution_count": 18,
      "outputs": []
    },
    {
      "cell_type": "code",
      "source": [
        "#Make dataframe to store energy\n",
        "\n",
        "output = pd.DataFrame(columns=['Energy Level', 'Energy (a.u.)'])\n",
        "\n",
        "for i in range(len(energy_level)):\n",
        "  output.loc[i] = [energy_level[i], energy_value[i]]\n",
        "\n",
        "output"
      ],
      "metadata": {
        "id": "3czvpYynBSWs",
        "colab": {
          "base_uri": "https://localhost:8080/",
          "height": 363
        },
        "outputId": "6a41d25c-e5ea-4ac7-a327-54854f982406"
      },
      "execution_count": 19,
      "outputs": [
        {
          "output_type": "execute_result",
          "data": {
            "text/plain": [
              "   Energy Level  Energy (a.u.)\n",
              "0           1.0       2.911133\n",
              "1           2.0       2.923344\n",
              "2           3.0       7.774117\n",
              "3           4.0       9.402844\n",
              "4           5.0      11.443305\n",
              "5           6.0      14.470328\n",
              "6           7.0      18.723055\n",
              "7           8.0      23.619313\n",
              "8           9.0      28.675320\n",
              "9          10.0      34.212047"
            ],
            "text/html": [
              "\n",
              "  <div id=\"df-c98786e3-d70c-42a9-9b4f-01a38032886e\">\n",
              "    <div class=\"colab-df-container\">\n",
              "      <div>\n",
              "<style scoped>\n",
              "    .dataframe tbody tr th:only-of-type {\n",
              "        vertical-align: middle;\n",
              "    }\n",
              "\n",
              "    .dataframe tbody tr th {\n",
              "        vertical-align: top;\n",
              "    }\n",
              "\n",
              "    .dataframe thead th {\n",
              "        text-align: right;\n",
              "    }\n",
              "</style>\n",
              "<table border=\"1\" class=\"dataframe\">\n",
              "  <thead>\n",
              "    <tr style=\"text-align: right;\">\n",
              "      <th></th>\n",
              "      <th>Energy Level</th>\n",
              "      <th>Energy (a.u.)</th>\n",
              "    </tr>\n",
              "  </thead>\n",
              "  <tbody>\n",
              "    <tr>\n",
              "      <th>0</th>\n",
              "      <td>1.0</td>\n",
              "      <td>2.911133</td>\n",
              "    </tr>\n",
              "    <tr>\n",
              "      <th>1</th>\n",
              "      <td>2.0</td>\n",
              "      <td>2.923344</td>\n",
              "    </tr>\n",
              "    <tr>\n",
              "      <th>2</th>\n",
              "      <td>3.0</td>\n",
              "      <td>7.774117</td>\n",
              "    </tr>\n",
              "    <tr>\n",
              "      <th>3</th>\n",
              "      <td>4.0</td>\n",
              "      <td>9.402844</td>\n",
              "    </tr>\n",
              "    <tr>\n",
              "      <th>4</th>\n",
              "      <td>5.0</td>\n",
              "      <td>11.443305</td>\n",
              "    </tr>\n",
              "    <tr>\n",
              "      <th>5</th>\n",
              "      <td>6.0</td>\n",
              "      <td>14.470328</td>\n",
              "    </tr>\n",
              "    <tr>\n",
              "      <th>6</th>\n",
              "      <td>7.0</td>\n",
              "      <td>18.723055</td>\n",
              "    </tr>\n",
              "    <tr>\n",
              "      <th>7</th>\n",
              "      <td>8.0</td>\n",
              "      <td>23.619313</td>\n",
              "    </tr>\n",
              "    <tr>\n",
              "      <th>8</th>\n",
              "      <td>9.0</td>\n",
              "      <td>28.675320</td>\n",
              "    </tr>\n",
              "    <tr>\n",
              "      <th>9</th>\n",
              "      <td>10.0</td>\n",
              "      <td>34.212047</td>\n",
              "    </tr>\n",
              "  </tbody>\n",
              "</table>\n",
              "</div>\n",
              "      <button class=\"colab-df-convert\" onclick=\"convertToInteractive('df-c98786e3-d70c-42a9-9b4f-01a38032886e')\"\n",
              "              title=\"Convert this dataframe to an interactive table.\"\n",
              "              style=\"display:none;\">\n",
              "        \n",
              "  <svg xmlns=\"http://www.w3.org/2000/svg\" height=\"24px\"viewBox=\"0 0 24 24\"\n",
              "       width=\"24px\">\n",
              "    <path d=\"M0 0h24v24H0V0z\" fill=\"none\"/>\n",
              "    <path d=\"M18.56 5.44l.94 2.06.94-2.06 2.06-.94-2.06-.94-.94-2.06-.94 2.06-2.06.94zm-11 1L8.5 8.5l.94-2.06 2.06-.94-2.06-.94L8.5 2.5l-.94 2.06-2.06.94zm10 10l.94 2.06.94-2.06 2.06-.94-2.06-.94-.94-2.06-.94 2.06-2.06.94z\"/><path d=\"M17.41 7.96l-1.37-1.37c-.4-.4-.92-.59-1.43-.59-.52 0-1.04.2-1.43.59L10.3 9.45l-7.72 7.72c-.78.78-.78 2.05 0 2.83L4 21.41c.39.39.9.59 1.41.59.51 0 1.02-.2 1.41-.59l7.78-7.78 2.81-2.81c.8-.78.8-2.07 0-2.86zM5.41 20L4 18.59l7.72-7.72 1.47 1.35L5.41 20z\"/>\n",
              "  </svg>\n",
              "      </button>\n",
              "      \n",
              "  <style>\n",
              "    .colab-df-container {\n",
              "      display:flex;\n",
              "      flex-wrap:wrap;\n",
              "      gap: 12px;\n",
              "    }\n",
              "\n",
              "    .colab-df-convert {\n",
              "      background-color: #E8F0FE;\n",
              "      border: none;\n",
              "      border-radius: 50%;\n",
              "      cursor: pointer;\n",
              "      display: none;\n",
              "      fill: #1967D2;\n",
              "      height: 32px;\n",
              "      padding: 0 0 0 0;\n",
              "      width: 32px;\n",
              "    }\n",
              "\n",
              "    .colab-df-convert:hover {\n",
              "      background-color: #E2EBFA;\n",
              "      box-shadow: 0px 1px 2px rgba(60, 64, 67, 0.3), 0px 1px 3px 1px rgba(60, 64, 67, 0.15);\n",
              "      fill: #174EA6;\n",
              "    }\n",
              "\n",
              "    [theme=dark] .colab-df-convert {\n",
              "      background-color: #3B4455;\n",
              "      fill: #D2E3FC;\n",
              "    }\n",
              "\n",
              "    [theme=dark] .colab-df-convert:hover {\n",
              "      background-color: #434B5C;\n",
              "      box-shadow: 0px 1px 3px 1px rgba(0, 0, 0, 0.15);\n",
              "      filter: drop-shadow(0px 1px 2px rgba(0, 0, 0, 0.3));\n",
              "      fill: #FFFFFF;\n",
              "    }\n",
              "  </style>\n",
              "\n",
              "      <script>\n",
              "        const buttonEl =\n",
              "          document.querySelector('#df-c98786e3-d70c-42a9-9b4f-01a38032886e button.colab-df-convert');\n",
              "        buttonEl.style.display =\n",
              "          google.colab.kernel.accessAllowed ? 'block' : 'none';\n",
              "\n",
              "        async function convertToInteractive(key) {\n",
              "          const element = document.querySelector('#df-c98786e3-d70c-42a9-9b4f-01a38032886e');\n",
              "          const dataTable =\n",
              "            await google.colab.kernel.invokeFunction('convertToInteractive',\n",
              "                                                     [key], {});\n",
              "          if (!dataTable) return;\n",
              "\n",
              "          const docLinkHtml = 'Like what you see? Visit the ' +\n",
              "            '<a target=\"_blank\" href=https://colab.research.google.com/notebooks/data_table.ipynb>data table notebook</a>'\n",
              "            + ' to learn more about interactive tables.';\n",
              "          element.innerHTML = '';\n",
              "          dataTable['output_type'] = 'display_data';\n",
              "          await google.colab.output.renderOutput(dataTable, element);\n",
              "          const docLink = document.createElement('div');\n",
              "          docLink.innerHTML = docLinkHtml;\n",
              "          element.appendChild(docLink);\n",
              "        }\n",
              "      </script>\n",
              "    </div>\n",
              "  </div>\n",
              "  "
            ]
          },
          "metadata": {},
          "execution_count": 19
        }
      ]
    },
    {
      "cell_type": "code",
      "source": [
        "#Plot wave function\n",
        "import matplotlib.pyplot as plt\n",
        "\n",
        "fig, ax = plt.subplots(2, 5, figsize=(20, 10))\n",
        "\n",
        "for n in range(1, 11):\n",
        "  data = np.loadtxt(filename+str(n)+'.dat', unpack=True)\n",
        "  x_pos = data[0]\n",
        "  psii = data[1]\n",
        "\n",
        "  if n < 6:\n",
        "    ax[0, n-1].plot(x_pos, psii)\n",
        "    ax[0, n-1].set_title('n='+ str(n))\n",
        "  else:\n",
        "    ax[1, n-6].plot(x_pos, psii)\n",
        "    ax[1, n-6].set_title('n='+ str(n))\n",
        "\n",
        "for axis in ax.flat:\n",
        "  axis.set(xlabel='Position', ylabel='Psi')\n",
        "\n",
        "for axis in ax.flat:\n",
        "    axis.label_outer()\n",
        "\n",
        "plt.show()"
      ],
      "metadata": {
        "colab": {
          "base_uri": "https://localhost:8080/",
          "height": 621
        },
        "id": "Xsc5lXM1_Twv",
        "outputId": "09fae8a9-58f5-48a3-8661-2ea33bf2b155"
      },
      "execution_count": 20,
      "outputs": [
        {
          "output_type": "display_data",
          "data": {
            "text/plain": [
              "<Figure size 1440x720 with 10 Axes>"
            ],
            "image/png": "[encoded data removed]"
          },
          "metadata": {
            "needs_background": "light"
          }
        }
      ]
    },
    {
      "cell_type": "markdown",
      "source": [
        "### Perhitungan analitik"
      ],
      "metadata": {
        "id": "kzlgwwxWIHqr"
      }
    },
    {
      "cell_type": "code",
      "source": [
        "#analytical solution\n",
        "energy_level = [n for n in range(1, 11)]\n",
        "L = 4\n",
        "v0 = 0\n",
        "v1 = 7\n",
        "energy_analytic = []\n",
        "analytic = pd.DataFrame(columns=['Energy Level', 'Energy (a.u.)'])\n",
        "\n",
        "for i in range(len(energy_level)):\n",
        "  e = (energy_level[i]**2 * (((np.pi**2)/2)/L**2)) + v0 + (v1/2)\n",
        "  analytic.loc[i] = [energy_level[i], e]\n",
        "\n",
        "analytic"
      ],
      "metadata": {
        "colab": {
          "base_uri": "https://localhost:8080/",
          "height": 363
        },
        "id": "Cc4N-L0AKFCW",
        "outputId": "469d735a-bf8a-47d8-9893-59b23c552261"
      },
      "execution_count": 10,
      "outputs": [
        {
          "output_type": "execute_result",
          "data": {
            "text/plain": [
              "   Energy Level  Energy (a.u.)\n",
              "0           1.0       3.808425\n",
              "1           2.0       4.733701\n",
              "2           3.0       6.275826\n",
              "3           4.0       8.434802\n",
              "4           5.0      11.210628\n",
              "5           6.0      14.603305\n",
              "6           7.0      18.612832\n",
              "7           8.0      23.239209\n",
              "8           9.0      28.482436\n",
              "9          10.0      34.342514"
            ],
            "text/html": [
              "\n",
              "  <div id=\"df-a97f949a-b923-45a7-bad4-38a8e6feb94b\">\n",
              "    <div class=\"colab-df-container\">\n",
              "      <div>\n",
              "<style scoped>\n",
              "    .dataframe tbody tr th:only-of-type {\n",
              "        vertical-align: middle;\n",
              "    }\n",
              "\n",
              "    .dataframe tbody tr th {\n",
              "        vertical-align: top;\n",
              "    }\n",
              "\n",
              "    .dataframe thead th {\n",
              "        text-align: right;\n",
              "    }\n",
              "</style>\n",
              "<table border=\"1\" class=\"dataframe\">\n",
              "  <thead>\n",
              "    <tr style=\"text-align: right;\">\n",
              "      <th></th>\n",
              "      <th>Energy Level</th>\n",
              "      <th>Energy (a.u.)</th>\n",
              "    </tr>\n",
              "  </thead>\n",
              "  <tbody>\n",
              "    <tr>\n",
              "      <th>0</th>\n",
              "      <td>1.0</td>\n",
              "      <td>3.808425</td>\n",
              "    </tr>\n",
              "    <tr>\n",
              "      <th>1</th>\n",
              "      <td>2.0</td>\n",
              "      <td>4.733701</td>\n",
              "    </tr>\n",
              "    <tr>\n",
              "      <th>2</th>\n",
              "      <td>3.0</td>\n",
              "      <td>6.275826</td>\n",
              "    </tr>\n",
              "    <tr>\n",
              "      <th>3</th>\n",
              "      <td>4.0</td>\n",
              "      <td>8.434802</td>\n",
              "    </tr>\n",
              "    <tr>\n",
              "      <th>4</th>\n",
              "      <td>5.0</td>\n",
              "      <td>11.210628</td>\n",
              "    </tr>\n",
              "    <tr>\n",
              "      <th>5</th>\n",
              "      <td>6.0</td>\n",
              "      <td>14.603305</td>\n",
              "    </tr>\n",
              "    <tr>\n",
              "      <th>6</th>\n",
              "      <td>7.0</td>\n",
              "      <td>18.612832</td>\n",
              "    </tr>\n",
              "    <tr>\n",
              "      <th>7</th>\n",
              "      <td>8.0</td>\n",
              "      <td>23.239209</td>\n",
              "    </tr>\n",
              "    <tr>\n",
              "      <th>8</th>\n",
              "      <td>9.0</td>\n",
              "      <td>28.482436</td>\n",
              "    </tr>\n",
              "    <tr>\n",
              "      <th>9</th>\n",
              "      <td>10.0</td>\n",
              "      <td>34.342514</td>\n",
              "    </tr>\n",
              "  </tbody>\n",
              "</table>\n",
              "</div>\n",
              "      <button class=\"colab-df-convert\" onclick=\"convertToInteractive('df-a97f949a-b923-45a7-bad4-38a8e6feb94b')\"\n",
              "              title=\"Convert this dataframe to an interactive table.\"\n",
              "              style=\"display:none;\">\n",
              "        \n",
              "  <svg xmlns=\"http://www.w3.org/2000/svg\" height=\"24px\"viewBox=\"0 0 24 24\"\n",
              "       width=\"24px\">\n",
              "    <path d=\"M0 0h24v24H0V0z\" fill=\"none\"/>\n",
              "    <path d=\"M18.56 5.44l.94 2.06.94-2.06 2.06-.94-2.06-.94-.94-2.06-.94 2.06-2.06.94zm-11 1L8.5 8.5l.94-2.06 2.06-.94-2.06-.94L8.5 2.5l-.94 2.06-2.06.94zm10 10l.94 2.06.94-2.06 2.06-.94-2.06-.94-.94-2.06-.94 2.06-2.06.94z\"/><path d=\"M17.41 7.96l-1.37-1.37c-.4-.4-.92-.59-1.43-.59-.52 0-1.04.2-1.43.59L10.3 9.45l-7.72 7.72c-.78.78-.78 2.05 0 2.83L4 21.41c.39.39.9.59 1.41.59.51 0 1.02-.2 1.41-.59l7.78-7.78 2.81-2.81c.8-.78.8-2.07 0-2.86zM5.41 20L4 18.59l7.72-7.72 1.47 1.35L5.41 20z\"/>\n",
              "  </svg>\n",
              "      </button>\n",
              "      \n",
              "  <style>\n",
              "    .colab-df-container {\n",
              "      display:flex;\n",
              "      flex-wrap:wrap;\n",
              "      gap: 12px;\n",
              "    }\n",
              "\n",
              "    .colab-df-convert {\n",
              "      background-color: #E8F0FE;\n",
              "      border: none;\n",
              "      border-radius: 50%;\n",
              "      cursor: pointer;\n",
              "      display: none;\n",
              "      fill: #1967D2;\n",
              "      height: 32px;\n",
              "      padding: 0 0 0 0;\n",
              "      width: 32px;\n",
              "    }\n",
              "\n",
              "    .colab-df-convert:hover {\n",
              "      background-color: #E2EBFA;\n",
              "      box-shadow: 0px 1px 2px rgba(60, 64, 67, 0.3), 0px 1px 3px 1px rgba(60, 64, 67, 0.15);\n",
              "      fill: #174EA6;\n",
              "    }\n",
              "\n",
              "    [theme=dark] .colab-df-convert {\n",
              "      background-color: #3B4455;\n",
              "      fill: #D2E3FC;\n",
              "    }\n",
              "\n",
              "    [theme=dark] .colab-df-convert:hover {\n",
              "      background-color: #434B5C;\n",
              "      box-shadow: 0px 1px 3px 1px rgba(0, 0, 0, 0.15);\n",
              "      filter: drop-shadow(0px 1px 2px rgba(0, 0, 0, 0.3));\n",
              "      fill: #FFFFFF;\n",
              "    }\n",
              "  </style>\n",
              "\n",
              "      <script>\n",
              "        const buttonEl =\n",
              "          document.querySelector('#df-a97f949a-b923-45a7-bad4-38a8e6feb94b button.colab-df-convert');\n",
              "        buttonEl.style.display =\n",
              "          google.colab.kernel.accessAllowed ? 'block' : 'none';\n",
              "\n",
              "        async function convertToInteractive(key) {\n",
              "          const element = document.querySelector('#df-a97f949a-b923-45a7-bad4-38a8e6feb94b');\n",
              "          const dataTable =\n",
              "            await google.colab.kernel.invokeFunction('convertToInteractive',\n",
              "                                                     [key], {});\n",
              "          if (!dataTable) return;\n",
              "\n",
              "          const docLinkHtml = 'Like what you see? Visit the ' +\n",
              "            '<a target=\"_blank\" href=https://colab.research.google.com/notebooks/data_table.ipynb>data table notebook</a>'\n",
              "            + ' to learn more about interactive tables.';\n",
              "          element.innerHTML = '';\n",
              "          dataTable['output_type'] = 'display_data';\n",
              "          await google.colab.output.renderOutput(dataTable, element);\n",
              "          const docLink = document.createElement('div');\n",
              "          docLink.innerHTML = docLinkHtml;\n",
              "          element.appendChild(docLink);\n",
              "        }\n",
              "      </script>\n",
              "    </div>\n",
              "  </div>\n",
              "  "
            ]
          },
          "metadata": {},
          "execution_count": 10
        }
      ]
    },
    {
      "cell_type": "markdown",
      "source": [
        "### **Download Output Files**"
      ],
      "metadata": {
        "id": "BU0daBAlCgcJ"
      }
    },
    {
      "cell_type": "code",
      "source": [
        "# !rm * #Delete all files"
      ],
      "metadata": {
        "id": "id6ew1GShicZ"
      },
      "execution_count": null,
      "outputs": []
    },
    {
      "cell_type": "code",
      "source": [
        "# from google.colab import files\n",
        "\n",
        "# file_name = 'psi-out'\n",
        "# case_name = ['a', 'b', 'c', 'd']\n",
        "\n",
        "# for case in case_name:\n",
        "#   for n in energy_level:\n",
        "#     files.download('/content/psi-out'+case+str(n)+'.dat')"
      ],
      "metadata": {
        "colab": {
          "base_uri": "https://localhost:8080/",
          "height": 17
        },
        "id": "WHUfN0wnCfNm",
        "outputId": "4221f6bc-a0c1-4fe1-f4e7-d2e3b052319f"
      },
      "execution_count": null,
      "outputs": [
        {
          "output_type": "display_data",
          "data": {
            "text/plain": [
              "<IPython.core.display.Javascript object>"
            ],
            "application/javascript": [
              "\n",
              "    async function download(id, filename, size) {\n",
              "      if (!google.colab.kernel.accessAllowed) {\n",
              "        return;\n",
              "      }\n",
              "      const div = document.createElement('div');\n",
              "      const label = document.createElement('label');\n",
              "      label.textContent = `Downloading \"${filename}\": `;\n",
              "      div.appendChild(label);\n",
              "      const progress = document.createElement('progress');\n",
              "      progress.max = size;\n",
              "      div.appendChild(progress);\n",
              "      document.body.appendChild(div);\n",
              "\n",
              "      const buffers = [];\n",
              "      let downloaded = 0;\n",
              "\n",
              "      const channel = await google.colab.kernel.comms.open(id);\n",
              "      // Send a message to notify the kernel that we're ready.\n",
              "      channel.send({})\n",
              "\n",
              "      for await (const message of channel.messages) {\n",
              "        // Send a message to notify the kernel that we're ready.\n",
              "        channel.send({})\n",
              "        if (message.buffers) {\n",
              "          for (const buffer of message.buffers) {\n",
              "            buffers.push(buffer);\n",
              "            downloaded += buffer.byteLength;\n",
              "            progress.value = downloaded;\n",
              "          }\n",
              "        }\n",
              "      }\n",
              "      const blob = new Blob(buffers, {type: 'application/binary'});\n",
              "      const a = document.createElement('a');\n",
              "      a.href = window.URL.createObjectURL(blob);\n",
              "      a.download = filename;\n",
              "      div.appendChild(a);\n",
              "      a.click();\n",
              "      div.remove();\n",
              "    }\n",
              "  "
            ]
          },
          "metadata": {}
        },
        {
          "output_type": "display_data",
          "data": {
            "text/plain": [
              "<IPython.core.display.Javascript object>"
            ],
            "application/javascript": [
              "download(\"download_b58bf7c4-6e1f-46a0-8891-36b6d8ac7b37\", \"psi-outc1.dat\", 8723)"
            ]
          },
          "metadata": {}
        },
        {
          "output_type": "display_data",
          "data": {
            "text/plain": [
              "<IPython.core.display.Javascript object>"
            ],
            "application/javascript": [
              "\n",
              "    async function download(id, filename, size) {\n",
              "      if (!google.colab.kernel.accessAllowed) {\n",
              "        return;\n",
              "      }\n",
              "      const div = document.createElement('div');\n",
              "      const label = document.createElement('label');\n",
              "      label.textContent = `Downloading \"${filename}\": `;\n",
              "      div.appendChild(label);\n",
              "      const progress = document.createElement('progress');\n",
              "      progress.max = size;\n",
              "      div.appendChild(progress);\n",
              "      document.body.appendChild(div);\n",
              "\n",
              "      const buffers = [];\n",
              "      let downloaded = 0;\n",
              "\n",
              "      const channel = await google.colab.kernel.comms.open(id);\n",
              "      // Send a message to notify the kernel that we're ready.\n",
              "      channel.send({})\n",
              "\n",
              "      for await (const message of channel.messages) {\n",
              "        // Send a message to notify the kernel that we're ready.\n",
              "        channel.send({})\n",
              "        if (message.buffers) {\n",
              "          for (const buffer of message.buffers) {\n",
              "            buffers.push(buffer);\n",
              "            downloaded += buffer.byteLength;\n",
              "            progress.value = downloaded;\n",
              "          }\n",
              "        }\n",
              "      }\n",
              "      const blob = new Blob(buffers, {type: 'application/binary'});\n",
              "      const a = document.createElement('a');\n",
              "      a.href = window.URL.createObjectURL(blob);\n",
              "      a.download = filename;\n",
              "      div.appendChild(a);\n",
              "      a.click();\n",
              "      div.remove();\n",
              "    }\n",
              "  "
            ]
          },
          "metadata": {}
        },
        {
          "output_type": "display_data",
          "data": {
            "text/plain": [
              "<IPython.core.display.Javascript object>"
            ],
            "application/javascript": [
              "download(\"download_97029885-52e1-4b57-b2ea-3935ab380bf1\", \"psi-outc2.dat\", 8767)"
            ]
          },
          "metadata": {}
        },
        {
          "output_type": "display_data",
          "data": {
            "text/plain": [
              "<IPython.core.display.Javascript object>"
            ],
            "application/javascript": [
              "\n",
              "    async function download(id, filename, size) {\n",
              "      if (!google.colab.kernel.accessAllowed) {\n",
              "        return;\n",
              "      }\n",
              "      const div = document.createElement('div');\n",
              "      const label = document.createElement('label');\n",
              "      label.textContent = `Downloading \"${filename}\": `;\n",
              "      div.appendChild(label);\n",
              "      const progress = document.createElement('progress');\n",
              "      progress.max = size;\n",
              "      div.appendChild(progress);\n",
              "      document.body.appendChild(div);\n",
              "\n",
              "      const buffers = [];\n",
              "      let downloaded = 0;\n",
              "\n",
              "      const channel = await google.colab.kernel.comms.open(id);\n",
              "      // Send a message to notify the kernel that we're ready.\n",
              "      channel.send({})\n",
              "\n",
              "      for await (const message of channel.messages) {\n",
              "        // Send a message to notify the kernel that we're ready.\n",
              "        channel.send({})\n",
              "        if (message.buffers) {\n",
              "          for (const buffer of message.buffers) {\n",
              "            buffers.push(buffer);\n",
              "            downloaded += buffer.byteLength;\n",
              "            progress.value = downloaded;\n",
              "          }\n",
              "        }\n",
              "      }\n",
              "      const blob = new Blob(buffers, {type: 'application/binary'});\n",
              "      const a = document.createElement('a');\n",
              "      a.href = window.URL.createObjectURL(blob);\n",
              "      a.download = filename;\n",
              "      div.appendChild(a);\n",
              "      a.click();\n",
              "      div.remove();\n",
              "    }\n",
              "  "
            ]
          },
          "metadata": {}
        },
        {
          "output_type": "display_data",
          "data": {
            "text/plain": [
              "<IPython.core.display.Javascript object>"
            ],
            "application/javascript": [
              "download(\"download_de94e4c7-751c-48f2-8cda-a20f39c8d233\", \"psi-outc3.dat\", 8705)"
            ]
          },
          "metadata": {}
        },
        {
          "output_type": "display_data",
          "data": {
            "text/plain": [
              "<IPython.core.display.Javascript object>"
            ],
            "application/javascript": [
              "\n",
              "    async function download(id, filename, size) {\n",
              "      if (!google.colab.kernel.accessAllowed) {\n",
              "        return;\n",
              "      }\n",
              "      const div = document.createElement('div');\n",
              "      const label = document.createElement('label');\n",
              "      label.textContent = `Downloading \"${filename}\": `;\n",
              "      div.appendChild(label);\n",
              "      const progress = document.createElement('progress');\n",
              "      progress.max = size;\n",
              "      div.appendChild(progress);\n",
              "      document.body.appendChild(div);\n",
              "\n",
              "      const buffers = [];\n",
              "      let downloaded = 0;\n",
              "\n",
              "      const channel = await google.colab.kernel.comms.open(id);\n",
              "      // Send a message to notify the kernel that we're ready.\n",
              "      channel.send({})\n",
              "\n",
              "      for await (const message of channel.messages) {\n",
              "        // Send a message to notify the kernel that we're ready.\n",
              "        channel.send({})\n",
              "        if (message.buffers) {\n",
              "          for (const buffer of message.buffers) {\n",
              "            buffers.push(buffer);\n",
              "            downloaded += buffer.byteLength;\n",
              "            progress.value = downloaded;\n",
              "          }\n",
              "        }\n",
              "      }\n",
              "      const blob = new Blob(buffers, {type: 'application/binary'});\n",
              "      const a = document.createElement('a');\n",
              "      a.href = window.URL.createObjectURL(blob);\n",
              "      a.download = filename;\n",
              "      div.appendChild(a);\n",
              "      a.click();\n",
              "      div.remove();\n",
              "    }\n",
              "  "
            ]
          },
          "metadata": {}
        },
        {
          "output_type": "display_data",
          "data": {
            "text/plain": [
              "<IPython.core.display.Javascript object>"
            ],
            "application/javascript": [
              "download(\"download_67fd1cbe-01e7-489f-b4a1-95d0c6693edf\", \"psi-outc4.dat\", 8766)"
            ]
          },
          "metadata": {}
        },
        {
          "output_type": "display_data",
          "data": {
            "text/plain": [
              "<IPython.core.display.Javascript object>"
            ],
            "application/javascript": [
              "\n",
              "    async function download(id, filename, size) {\n",
              "      if (!google.colab.kernel.accessAllowed) {\n",
              "        return;\n",
              "      }\n",
              "      const div = document.createElement('div');\n",
              "      const label = document.createElement('label');\n",
              "      label.textContent = `Downloading \"${filename}\": `;\n",
              "      div.appendChild(label);\n",
              "      const progress = document.createElement('progress');\n",
              "      progress.max = size;\n",
              "      div.appendChild(progress);\n",
              "      document.body.appendChild(div);\n",
              "\n",
              "      const buffers = [];\n",
              "      let downloaded = 0;\n",
              "\n",
              "      const channel = await google.colab.kernel.comms.open(id);\n",
              "      // Send a message to notify the kernel that we're ready.\n",
              "      channel.send({})\n",
              "\n",
              "      for await (const message of channel.messages) {\n",
              "        // Send a message to notify the kernel that we're ready.\n",
              "        channel.send({})\n",
              "        if (message.buffers) {\n",
              "          for (const buffer of message.buffers) {\n",
              "            buffers.push(buffer);\n",
              "            downloaded += buffer.byteLength;\n",
              "            progress.value = downloaded;\n",
              "          }\n",
              "        }\n",
              "      }\n",
              "      const blob = new Blob(buffers, {type: 'application/binary'});\n",
              "      const a = document.createElement('a');\n",
              "      a.href = window.URL.createObjectURL(blob);\n",
              "      a.download = filename;\n",
              "      div.appendChild(a);\n",
              "      a.click();\n",
              "      div.remove();\n",
              "    }\n",
              "  "
            ]
          },
          "metadata": {}
        },
        {
          "output_type": "display_data",
          "data": {
            "text/plain": [
              "<IPython.core.display.Javascript object>"
            ],
            "application/javascript": [
              "download(\"download_bb790afa-8a15-4fb7-b31a-f5417b8a6212\", \"psi-outc5.dat\", 8739)"
            ]
          },
          "metadata": {}
        },
        {
          "output_type": "display_data",
          "data": {
            "text/plain": [
              "<IPython.core.display.Javascript object>"
            ],
            "application/javascript": [
              "\n",
              "    async function download(id, filename, size) {\n",
              "      if (!google.colab.kernel.accessAllowed) {\n",
              "        return;\n",
              "      }\n",
              "      const div = document.createElement('div');\n",
              "      const label = document.createElement('label');\n",
              "      label.textContent = `Downloading \"${filename}\": `;\n",
              "      div.appendChild(label);\n",
              "      const progress = document.createElement('progress');\n",
              "      progress.max = size;\n",
              "      div.appendChild(progress);\n",
              "      document.body.appendChild(div);\n",
              "\n",
              "      const buffers = [];\n",
              "      let downloaded = 0;\n",
              "\n",
              "      const channel = await google.colab.kernel.comms.open(id);\n",
              "      // Send a message to notify the kernel that we're ready.\n",
              "      channel.send({})\n",
              "\n",
              "      for await (const message of channel.messages) {\n",
              "        // Send a message to notify the kernel that we're ready.\n",
              "        channel.send({})\n",
              "        if (message.buffers) {\n",
              "          for (const buffer of message.buffers) {\n",
              "            buffers.push(buffer);\n",
              "            downloaded += buffer.byteLength;\n",
              "            progress.value = downloaded;\n",
              "          }\n",
              "        }\n",
              "      }\n",
              "      const blob = new Blob(buffers, {type: 'application/binary'});\n",
              "      const a = document.createElement('a');\n",
              "      a.href = window.URL.createObjectURL(blob);\n",
              "      a.download = filename;\n",
              "      div.appendChild(a);\n",
              "      a.click();\n",
              "      div.remove();\n",
              "    }\n",
              "  "
            ]
          },
          "metadata": {}
        },
        {
          "output_type": "display_data",
          "data": {
            "text/plain": [
              "<IPython.core.display.Javascript object>"
            ],
            "application/javascript": [
              "download(\"download_1beec8e8-c4d2-4f50-8af1-d77dc624f78e\", \"psi-outc6.dat\", 8775)"
            ]
          },
          "metadata": {}
        },
        {
          "output_type": "display_data",
          "data": {
            "text/plain": [
              "<IPython.core.display.Javascript object>"
            ],
            "application/javascript": [
              "\n",
              "    async function download(id, filename, size) {\n",
              "      if (!google.colab.kernel.accessAllowed) {\n",
              "        return;\n",
              "      }\n",
              "      const div = document.createElement('div');\n",
              "      const label = document.createElement('label');\n",
              "      label.textContent = `Downloading \"${filename}\": `;\n",
              "      div.appendChild(label);\n",
              "      const progress = document.createElement('progress');\n",
              "      progress.max = size;\n",
              "      div.appendChild(progress);\n",
              "      document.body.appendChild(div);\n",
              "\n",
              "      const buffers = [];\n",
              "      let downloaded = 0;\n",
              "\n",
              "      const channel = await google.colab.kernel.comms.open(id);\n",
              "      // Send a message to notify the kernel that we're ready.\n",
              "      channel.send({})\n",
              "\n",
              "      for await (const message of channel.messages) {\n",
              "        // Send a message to notify the kernel that we're ready.\n",
              "        channel.send({})\n",
              "        if (message.buffers) {\n",
              "          for (const buffer of message.buffers) {\n",
              "            buffers.push(buffer);\n",
              "            downloaded += buffer.byteLength;\n",
              "            progress.value = downloaded;\n",
              "          }\n",
              "        }\n",
              "      }\n",
              "      const blob = new Blob(buffers, {type: 'application/binary'});\n",
              "      const a = document.createElement('a');\n",
              "      a.href = window.URL.createObjectURL(blob);\n",
              "      a.download = filename;\n",
              "      div.appendChild(a);\n",
              "      a.click();\n",
              "      div.remove();\n",
              "    }\n",
              "  "
            ]
          },
          "metadata": {}
        },
        {
          "output_type": "display_data",
          "data": {
            "text/plain": [
              "<IPython.core.display.Javascript object>"
            ],
            "application/javascript": [
              "download(\"download_817ee307-a42e-430e-bfb8-b0fe0e208e61\", \"psi-outc7.dat\", 8743)"
            ]
          },
          "metadata": {}
        },
        {
          "output_type": "display_data",
          "data": {
            "text/plain": [
              "<IPython.core.display.Javascript object>"
            ],
            "application/javascript": [
              "\n",
              "    async function download(id, filename, size) {\n",
              "      if (!google.colab.kernel.accessAllowed) {\n",
              "        return;\n",
              "      }\n",
              "      const div = document.createElement('div');\n",
              "      const label = document.createElement('label');\n",
              "      label.textContent = `Downloading \"${filename}\": `;\n",
              "      div.appendChild(label);\n",
              "      const progress = document.createElement('progress');\n",
              "      progress.max = size;\n",
              "      div.appendChild(progress);\n",
              "      document.body.appendChild(div);\n",
              "\n",
              "      const buffers = [];\n",
              "      let downloaded = 0;\n",
              "\n",
              "      const channel = await google.colab.kernel.comms.open(id);\n",
              "      // Send a message to notify the kernel that we're ready.\n",
              "      channel.send({})\n",
              "\n",
              "      for await (const message of channel.messages) {\n",
              "        // Send a message to notify the kernel that we're ready.\n",
              "        channel.send({})\n",
              "        if (message.buffers) {\n",
              "          for (const buffer of message.buffers) {\n",
              "            buffers.push(buffer);\n",
              "            downloaded += buffer.byteLength;\n",
              "            progress.value = downloaded;\n",
              "          }\n",
              "        }\n",
              "      }\n",
              "      const blob = new Blob(buffers, {type: 'application/binary'});\n",
              "      const a = document.createElement('a');\n",
              "      a.href = window.URL.createObjectURL(blob);\n",
              "      a.download = filename;\n",
              "      div.appendChild(a);\n",
              "      a.click();\n",
              "      div.remove();\n",
              "    }\n",
              "  "
            ]
          },
          "metadata": {}
        },
        {
          "output_type": "display_data",
          "data": {
            "text/plain": [
              "<IPython.core.display.Javascript object>"
            ],
            "application/javascript": [
              "download(\"download_5c3f6e21-948b-458e-a521-1a355420aedf\", \"psi-outc8.dat\", 8776)"
            ]
          },
          "metadata": {}
        },
        {
          "output_type": "display_data",
          "data": {
            "text/plain": [
              "<IPython.core.display.Javascript object>"
            ],
            "application/javascript": [
              "\n",
              "    async function download(id, filename, size) {\n",
              "      if (!google.colab.kernel.accessAllowed) {\n",
              "        return;\n",
              "      }\n",
              "      const div = document.createElement('div');\n",
              "      const label = document.createElement('label');\n",
              "      label.textContent = `Downloading \"${filename}\": `;\n",
              "      div.appendChild(label);\n",
              "      const progress = document.createElement('progress');\n",
              "      progress.max = size;\n",
              "      div.appendChild(progress);\n",
              "      document.body.appendChild(div);\n",
              "\n",
              "      const buffers = [];\n",
              "      let downloaded = 0;\n",
              "\n",
              "      const channel = await google.colab.kernel.comms.open(id);\n",
              "      // Send a message to notify the kernel that we're ready.\n",
              "      channel.send({})\n",
              "\n",
              "      for await (const message of channel.messages) {\n",
              "        // Send a message to notify the kernel that we're ready.\n",
              "        channel.send({})\n",
              "        if (message.buffers) {\n",
              "          for (const buffer of message.buffers) {\n",
              "            buffers.push(buffer);\n",
              "            downloaded += buffer.byteLength;\n",
              "            progress.value = downloaded;\n",
              "          }\n",
              "        }\n",
              "      }\n",
              "      const blob = new Blob(buffers, {type: 'application/binary'});\n",
              "      const a = document.createElement('a');\n",
              "      a.href = window.URL.createObjectURL(blob);\n",
              "      a.download = filename;\n",
              "      div.appendChild(a);\n",
              "      a.click();\n",
              "      div.remove();\n",
              "    }\n",
              "  "
            ]
          },
          "metadata": {}
        },
        {
          "output_type": "display_data",
          "data": {
            "text/plain": [
              "<IPython.core.display.Javascript object>"
            ],
            "application/javascript": [
              "download(\"download_d2c22e1e-b591-4155-9a24-b47534280ce5\", \"psi-outc9.dat\", 8752)"
            ]
          },
          "metadata": {}
        },
        {
          "output_type": "display_data",
          "data": {
            "text/plain": [
              "<IPython.core.display.Javascript object>"
            ],
            "application/javascript": [
              "\n",
              "    async function download(id, filename, size) {\n",
              "      if (!google.colab.kernel.accessAllowed) {\n",
              "        return;\n",
              "      }\n",
              "      const div = document.createElement('div');\n",
              "      const label = document.createElement('label');\n",
              "      label.textContent = `Downloading \"${filename}\": `;\n",
              "      div.appendChild(label);\n",
              "      const progress = document.createElement('progress');\n",
              "      progress.max = size;\n",
              "      div.appendChild(progress);\n",
              "      document.body.appendChild(div);\n",
              "\n",
              "      const buffers = [];\n",
              "      let downloaded = 0;\n",
              "\n",
              "      const channel = await google.colab.kernel.comms.open(id);\n",
              "      // Send a message to notify the kernel that we're ready.\n",
              "      channel.send({})\n",
              "\n",
              "      for await (const message of channel.messages) {\n",
              "        // Send a message to notify the kernel that we're ready.\n",
              "        channel.send({})\n",
              "        if (message.buffers) {\n",
              "          for (const buffer of message.buffers) {\n",
              "            buffers.push(buffer);\n",
              "            downloaded += buffer.byteLength;\n",
              "            progress.value = downloaded;\n",
              "          }\n",
              "        }\n",
              "      }\n",
              "      const blob = new Blob(buffers, {type: 'application/binary'});\n",
              "      const a = document.createElement('a');\n",
              "      a.href = window.URL.createObjectURL(blob);\n",
              "      a.download = filename;\n",
              "      div.appendChild(a);\n",
              "      a.click();\n",
              "      div.remove();\n",
              "    }\n",
              "  "
            ]
          },
          "metadata": {}
        },
        {
          "output_type": "display_data",
          "data": {
            "text/plain": [
              "<IPython.core.display.Javascript object>"
            ],
            "application/javascript": [
              "download(\"download_2ad2ef3c-d8b0-4bbe-9771-5324a0d63a80\", \"psi-outc10.dat\", 8756)"
            ]
          },
          "metadata": {}
        },
        {
          "output_type": "display_data",
          "data": {
            "text/plain": [
              "<IPython.core.display.Javascript object>"
            ],
            "application/javascript": [
              "\n",
              "    async function download(id, filename, size) {\n",
              "      if (!google.colab.kernel.accessAllowed) {\n",
              "        return;\n",
              "      }\n",
              "      const div = document.createElement('div');\n",
              "      const label = document.createElement('label');\n",
              "      label.textContent = `Downloading \"${filename}\": `;\n",
              "      div.appendChild(label);\n",
              "      const progress = document.createElement('progress');\n",
              "      progress.max = size;\n",
              "      div.appendChild(progress);\n",
              "      document.body.appendChild(div);\n",
              "\n",
              "      const buffers = [];\n",
              "      let downloaded = 0;\n",
              "\n",
              "      const channel = await google.colab.kernel.comms.open(id);\n",
              "      // Send a message to notify the kernel that we're ready.\n",
              "      channel.send({})\n",
              "\n",
              "      for await (const message of channel.messages) {\n",
              "        // Send a message to notify the kernel that we're ready.\n",
              "        channel.send({})\n",
              "        if (message.buffers) {\n",
              "          for (const buffer of message.buffers) {\n",
              "            buffers.push(buffer);\n",
              "            downloaded += buffer.byteLength;\n",
              "            progress.value = downloaded;\n",
              "          }\n",
              "        }\n",
              "      }\n",
              "      const blob = new Blob(buffers, {type: 'application/binary'});\n",
              "      const a = document.createElement('a');\n",
              "      a.href = window.URL.createObjectURL(blob);\n",
              "      a.download = filename;\n",
              "      div.appendChild(a);\n",
              "      a.click();\n",
              "      div.remove();\n",
              "    }\n",
              "  "
            ]
          },
          "metadata": {}
        },
        {
          "output_type": "display_data",
          "data": {
            "text/plain": [
              "<IPython.core.display.Javascript object>"
            ],
            "application/javascript": [
              "download(\"download_ee2c662b-ec0b-44ac-8b98-ff6d5c6cc40f\", \"psi-outd1.dat\", 8654)"
            ]
          },
          "metadata": {}
        },
        {
          "output_type": "display_data",
          "data": {
            "text/plain": [
              "<IPython.core.display.Javascript object>"
            ],
            "application/javascript": [
              "\n",
              "    async function download(id, filename, size) {\n",
              "      if (!google.colab.kernel.accessAllowed) {\n",
              "        return;\n",
              "      }\n",
              "      const div = document.createElement('div');\n",
              "      const label = document.createElement('label');\n",
              "      label.textContent = `Downloading \"${filename}\": `;\n",
              "      div.appendChild(label);\n",
              "      const progress = document.createElement('progress');\n",
              "      progress.max = size;\n",
              "      div.appendChild(progress);\n",
              "      document.body.appendChild(div);\n",
              "\n",
              "      const buffers = [];\n",
              "      let downloaded = 0;\n",
              "\n",
              "      const channel = await google.colab.kernel.comms.open(id);\n",
              "      // Send a message to notify the kernel that we're ready.\n",
              "      channel.send({})\n",
              "\n",
              "      for await (const message of channel.messages) {\n",
              "        // Send a message to notify the kernel that we're ready.\n",
              "        channel.send({})\n",
              "        if (message.buffers) {\n",
              "          for (const buffer of message.buffers) {\n",
              "            buffers.push(buffer);\n",
              "            downloaded += buffer.byteLength;\n",
              "            progress.value = downloaded;\n",
              "          }\n",
              "        }\n",
              "      }\n",
              "      const blob = new Blob(buffers, {type: 'application/binary'});\n",
              "      const a = document.createElement('a');\n",
              "      a.href = window.URL.createObjectURL(blob);\n",
              "      a.download = filename;\n",
              "      div.appendChild(a);\n",
              "      a.click();\n",
              "      div.remove();\n",
              "    }\n",
              "  "
            ]
          },
          "metadata": {}
        },
        {
          "output_type": "display_data",
          "data": {
            "text/plain": [
              "<IPython.core.display.Javascript object>"
            ],
            "application/javascript": [
              "download(\"download_e0029455-e14c-41dd-a90b-3035c0de096b\", \"psi-outd2.dat\", 8748)"
            ]
          },
          "metadata": {}
        },
        {
          "output_type": "display_data",
          "data": {
            "text/plain": [
              "<IPython.core.display.Javascript object>"
            ],
            "application/javascript": [
              "\n",
              "    async function download(id, filename, size) {\n",
              "      if (!google.colab.kernel.accessAllowed) {\n",
              "        return;\n",
              "      }\n",
              "      const div = document.createElement('div');\n",
              "      const label = document.createElement('label');\n",
              "      label.textContent = `Downloading \"${filename}\": `;\n",
              "      div.appendChild(label);\n",
              "      const progress = document.createElement('progress');\n",
              "      progress.max = size;\n",
              "      div.appendChild(progress);\n",
              "      document.body.appendChild(div);\n",
              "\n",
              "      const buffers = [];\n",
              "      let downloaded = 0;\n",
              "\n",
              "      const channel = await google.colab.kernel.comms.open(id);\n",
              "      // Send a message to notify the kernel that we're ready.\n",
              "      channel.send({})\n",
              "\n",
              "      for await (const message of channel.messages) {\n",
              "        // Send a message to notify the kernel that we're ready.\n",
              "        channel.send({})\n",
              "        if (message.buffers) {\n",
              "          for (const buffer of message.buffers) {\n",
              "            buffers.push(buffer);\n",
              "            downloaded += buffer.byteLength;\n",
              "            progress.value = downloaded;\n",
              "          }\n",
              "        }\n",
              "      }\n",
              "      const blob = new Blob(buffers, {type: 'application/binary'});\n",
              "      const a = document.createElement('a');\n",
              "      a.href = window.URL.createObjectURL(blob);\n",
              "      a.download = filename;\n",
              "      div.appendChild(a);\n",
              "      a.click();\n",
              "      div.remove();\n",
              "    }\n",
              "  "
            ]
          },
          "metadata": {}
        },
        {
          "output_type": "display_data",
          "data": {
            "text/plain": [
              "<IPython.core.display.Javascript object>"
            ],
            "application/javascript": [
              "download(\"download_aa76ab5e-ee94-432d-8b4b-21eb4b6046c2\", \"psi-outd3.dat\", 8730)"
            ]
          },
          "metadata": {}
        },
        {
          "output_type": "display_data",
          "data": {
            "text/plain": [
              "<IPython.core.display.Javascript object>"
            ],
            "application/javascript": [
              "\n",
              "    async function download(id, filename, size) {\n",
              "      if (!google.colab.kernel.accessAllowed) {\n",
              "        return;\n",
              "      }\n",
              "      const div = document.createElement('div');\n",
              "      const label = document.createElement('label');\n",
              "      label.textContent = `Downloading \"${filename}\": `;\n",
              "      div.appendChild(label);\n",
              "      const progress = document.createElement('progress');\n",
              "      progress.max = size;\n",
              "      div.appendChild(progress);\n",
              "      document.body.appendChild(div);\n",
              "\n",
              "      const buffers = [];\n",
              "      let downloaded = 0;\n",
              "\n",
              "      const channel = await google.colab.kernel.comms.open(id);\n",
              "      // Send a message to notify the kernel that we're ready.\n",
              "      channel.send({})\n",
              "\n",
              "      for await (const message of channel.messages) {\n",
              "        // Send a message to notify the kernel that we're ready.\n",
              "        channel.send({})\n",
              "        if (message.buffers) {\n",
              "          for (const buffer of message.buffers) {\n",
              "            buffers.push(buffer);\n",
              "            downloaded += buffer.byteLength;\n",
              "            progress.value = downloaded;\n",
              "          }\n",
              "        }\n",
              "      }\n",
              "      const blob = new Blob(buffers, {type: 'application/binary'});\n",
              "      const a = document.createElement('a');\n",
              "      a.href = window.URL.createObjectURL(blob);\n",
              "      a.download = filename;\n",
              "      div.appendChild(a);\n",
              "      a.click();\n",
              "      div.remove();\n",
              "    }\n",
              "  "
            ]
          },
          "metadata": {}
        },
        {
          "output_type": "display_data",
          "data": {
            "text/plain": [
              "<IPython.core.display.Javascript object>"
            ],
            "application/javascript": [
              "download(\"download_3190006b-2836-4ea8-bd63-8b04d24205d0\", \"psi-outd4.dat\", 8759)"
            ]
          },
          "metadata": {}
        },
        {
          "output_type": "display_data",
          "data": {
            "text/plain": [
              "<IPython.core.display.Javascript object>"
            ],
            "application/javascript": [
              "\n",
              "    async function download(id, filename, size) {\n",
              "      if (!google.colab.kernel.accessAllowed) {\n",
              "        return;\n",
              "      }\n",
              "      const div = document.createElement('div');\n",
              "      const label = document.createElement('label');\n",
              "      label.textContent = `Downloading \"${filename}\": `;\n",
              "      div.appendChild(label);\n",
              "      const progress = document.createElement('progress');\n",
              "      progress.max = size;\n",
              "      div.appendChild(progress);\n",
              "      document.body.appendChild(div);\n",
              "\n",
              "      const buffers = [];\n",
              "      let downloaded = 0;\n",
              "\n",
              "      const channel = await google.colab.kernel.comms.open(id);\n",
              "      // Send a message to notify the kernel that we're ready.\n",
              "      channel.send({})\n",
              "\n",
              "      for await (const message of channel.messages) {\n",
              "        // Send a message to notify the kernel that we're ready.\n",
              "        channel.send({})\n",
              "        if (message.buffers) {\n",
              "          for (const buffer of message.buffers) {\n",
              "            buffers.push(buffer);\n",
              "            downloaded += buffer.byteLength;\n",
              "            progress.value = downloaded;\n",
              "          }\n",
              "        }\n",
              "      }\n",
              "      const blob = new Blob(buffers, {type: 'application/binary'});\n",
              "      const a = document.createElement('a');\n",
              "      a.href = window.URL.createObjectURL(blob);\n",
              "      a.download = filename;\n",
              "      div.appendChild(a);\n",
              "      a.click();\n",
              "      div.remove();\n",
              "    }\n",
              "  "
            ]
          },
          "metadata": {}
        },
        {
          "output_type": "display_data",
          "data": {
            "text/plain": [
              "<IPython.core.display.Javascript object>"
            ],
            "application/javascript": [
              "download(\"download_7c7e055f-c3f1-46ba-83b9-9955209f5620\", \"psi-outd5.dat\", 8758)"
            ]
          },
          "metadata": {}
        },
        {
          "output_type": "display_data",
          "data": {
            "text/plain": [
              "<IPython.core.display.Javascript object>"
            ],
            "application/javascript": [
              "\n",
              "    async function download(id, filename, size) {\n",
              "      if (!google.colab.kernel.accessAllowed) {\n",
              "        return;\n",
              "      }\n",
              "      const div = document.createElement('div');\n",
              "      const label = document.createElement('label');\n",
              "      label.textContent = `Downloading \"${filename}\": `;\n",
              "      div.appendChild(label);\n",
              "      const progress = document.createElement('progress');\n",
              "      progress.max = size;\n",
              "      div.appendChild(progress);\n",
              "      document.body.appendChild(div);\n",
              "\n",
              "      const buffers = [];\n",
              "      let downloaded = 0;\n",
              "\n",
              "      const channel = await google.colab.kernel.comms.open(id);\n",
              "      // Send a message to notify the kernel that we're ready.\n",
              "      channel.send({})\n",
              "\n",
              "      for await (const message of channel.messages) {\n",
              "        // Send a message to notify the kernel that we're ready.\n",
              "        channel.send({})\n",
              "        if (message.buffers) {\n",
              "          for (const buffer of message.buffers) {\n",
              "            buffers.push(buffer);\n",
              "            downloaded += buffer.byteLength;\n",
              "            progress.value = downloaded;\n",
              "          }\n",
              "        }\n",
              "      }\n",
              "      const blob = new Blob(buffers, {type: 'application/binary'});\n",
              "      const a = document.createElement('a');\n",
              "      a.href = window.URL.createObjectURL(blob);\n",
              "      a.download = filename;\n",
              "      div.appendChild(a);\n",
              "      a.click();\n",
              "      div.remove();\n",
              "    }\n",
              "  "
            ]
          },
          "metadata": {}
        },
        {
          "output_type": "display_data",
          "data": {
            "text/plain": [
              "<IPython.core.display.Javascript object>"
            ],
            "application/javascript": [
              "download(\"download_3ca5aa5e-bf20-4fdb-94ab-57b43a762137\", \"psi-outd6.dat\", 8763)"
            ]
          },
          "metadata": {}
        },
        {
          "output_type": "display_data",
          "data": {
            "text/plain": [
              "<IPython.core.display.Javascript object>"
            ],
            "application/javascript": [
              "\n",
              "    async function download(id, filename, size) {\n",
              "      if (!google.colab.kernel.accessAllowed) {\n",
              "        return;\n",
              "      }\n",
              "      const div = document.createElement('div');\n",
              "      const label = document.createElement('label');\n",
              "      label.textContent = `Downloading \"${filename}\": `;\n",
              "      div.appendChild(label);\n",
              "      const progress = document.createElement('progress');\n",
              "      progress.max = size;\n",
              "      div.appendChild(progress);\n",
              "      document.body.appendChild(div);\n",
              "\n",
              "      const buffers = [];\n",
              "      let downloaded = 0;\n",
              "\n",
              "      const channel = await google.colab.kernel.comms.open(id);\n",
              "      // Send a message to notify the kernel that we're ready.\n",
              "      channel.send({})\n",
              "\n",
              "      for await (const message of channel.messages) {\n",
              "        // Send a message to notify the kernel that we're ready.\n",
              "        channel.send({})\n",
              "        if (message.buffers) {\n",
              "          for (const buffer of message.buffers) {\n",
              "            buffers.push(buffer);\n",
              "            downloaded += buffer.byteLength;\n",
              "            progress.value = downloaded;\n",
              "          }\n",
              "        }\n",
              "      }\n",
              "      const blob = new Blob(buffers, {type: 'application/binary'});\n",
              "      const a = document.createElement('a');\n",
              "      a.href = window.URL.createObjectURL(blob);\n",
              "      a.download = filename;\n",
              "      div.appendChild(a);\n",
              "      a.click();\n",
              "      div.remove();\n",
              "    }\n",
              "  "
            ]
          },
          "metadata": {}
        },
        {
          "output_type": "display_data",
          "data": {
            "text/plain": [
              "<IPython.core.display.Javascript object>"
            ],
            "application/javascript": [
              "download(\"download_f3ca7020-ff62-4e75-adf5-ca9727f8c6fe\", \"psi-outd7.dat\", 8754)"
            ]
          },
          "metadata": {}
        },
        {
          "output_type": "display_data",
          "data": {
            "text/plain": [
              "<IPython.core.display.Javascript object>"
            ],
            "application/javascript": [
              "\n",
              "    async function download(id, filename, size) {\n",
              "      if (!google.colab.kernel.accessAllowed) {\n",
              "        return;\n",
              "      }\n",
              "      const div = document.createElement('div');\n",
              "      const label = document.createElement('label');\n",
              "      label.textContent = `Downloading \"${filename}\": `;\n",
              "      div.appendChild(label);\n",
              "      const progress = document.createElement('progress');\n",
              "      progress.max = size;\n",
              "      div.appendChild(progress);\n",
              "      document.body.appendChild(div);\n",
              "\n",
              "      const buffers = [];\n",
              "      let downloaded = 0;\n",
              "\n",
              "      const channel = await google.colab.kernel.comms.open(id);\n",
              "      // Send a message to notify the kernel that we're ready.\n",
              "      channel.send({})\n",
              "\n",
              "      for await (const message of channel.messages) {\n",
              "        // Send a message to notify the kernel that we're ready.\n",
              "        channel.send({})\n",
              "        if (message.buffers) {\n",
              "          for (const buffer of message.buffers) {\n",
              "            buffers.push(buffer);\n",
              "            downloaded += buffer.byteLength;\n",
              "            progress.value = downloaded;\n",
              "          }\n",
              "        }\n",
              "      }\n",
              "      const blob = new Blob(buffers, {type: 'application/binary'});\n",
              "      const a = document.createElement('a');\n",
              "      a.href = window.URL.createObjectURL(blob);\n",
              "      a.download = filename;\n",
              "      div.appendChild(a);\n",
              "      a.click();\n",
              "      div.remove();\n",
              "    }\n",
              "  "
            ]
          },
          "metadata": {}
        },
        {
          "output_type": "display_data",
          "data": {
            "text/plain": [
              "<IPython.core.display.Javascript object>"
            ],
            "application/javascript": [
              "download(\"download_44ced7bf-e43b-4375-b542-d9eaa02776d6\", \"psi-outd8.dat\", 8769)"
            ]
          },
          "metadata": {}
        },
        {
          "output_type": "display_data",
          "data": {
            "text/plain": [
              "<IPython.core.display.Javascript object>"
            ],
            "application/javascript": [
              "\n",
              "    async function download(id, filename, size) {\n",
              "      if (!google.colab.kernel.accessAllowed) {\n",
              "        return;\n",
              "      }\n",
              "      const div = document.createElement('div');\n",
              "      const label = document.createElement('label');\n",
              "      label.textContent = `Downloading \"${filename}\": `;\n",
              "      div.appendChild(label);\n",
              "      const progress = document.createElement('progress');\n",
              "      progress.max = size;\n",
              "      div.appendChild(progress);\n",
              "      document.body.appendChild(div);\n",
              "\n",
              "      const buffers = [];\n",
              "      let downloaded = 0;\n",
              "\n",
              "      const channel = await google.colab.kernel.comms.open(id);\n",
              "      // Send a message to notify the kernel that we're ready.\n",
              "      channel.send({})\n",
              "\n",
              "      for await (const message of channel.messages) {\n",
              "        // Send a message to notify the kernel that we're ready.\n",
              "        channel.send({})\n",
              "        if (message.buffers) {\n",
              "          for (const buffer of message.buffers) {\n",
              "            buffers.push(buffer);\n",
              "            downloaded += buffer.byteLength;\n",
              "            progress.value = downloaded;\n",
              "          }\n",
              "        }\n",
              "      }\n",
              "      const blob = new Blob(buffers, {type: 'application/binary'});\n",
              "      const a = document.createElement('a');\n",
              "      a.href = window.URL.createObjectURL(blob);\n",
              "      a.download = filename;\n",
              "      div.appendChild(a);\n",
              "      a.click();\n",
              "      div.remove();\n",
              "    }\n",
              "  "
            ]
          },
          "metadata": {}
        },
        {
          "output_type": "display_data",
          "data": {
            "text/plain": [
              "<IPython.core.display.Javascript object>"
            ],
            "application/javascript": [
              "download(\"download_385f38c4-170a-48cf-9bf6-41b8709ca20d\", \"psi-outd9.dat\", 8742)"
            ]
          },
          "metadata": {}
        },
        {
          "output_type": "display_data",
          "data": {
            "text/plain": [
              "<IPython.core.display.Javascript object>"
            ],
            "application/javascript": [
              "\n",
              "    async function download(id, filename, size) {\n",
              "      if (!google.colab.kernel.accessAllowed) {\n",
              "        return;\n",
              "      }\n",
              "      const div = document.createElement('div');\n",
              "      const label = document.createElement('label');\n",
              "      label.textContent = `Downloading \"${filename}\": `;\n",
              "      div.appendChild(label);\n",
              "      const progress = document.createElement('progress');\n",
              "      progress.max = size;\n",
              "      div.appendChild(progress);\n",
              "      document.body.appendChild(div);\n",
              "\n",
              "      const buffers = [];\n",
              "      let downloaded = 0;\n",
              "\n",
              "      const channel = await google.colab.kernel.comms.open(id);\n",
              "      // Send a message to notify the kernel that we're ready.\n",
              "      channel.send({})\n",
              "\n",
              "      for await (const message of channel.messages) {\n",
              "        // Send a message to notify the kernel that we're ready.\n",
              "        channel.send({})\n",
              "        if (message.buffers) {\n",
              "          for (const buffer of message.buffers) {\n",
              "            buffers.push(buffer);\n",
              "            downloaded += buffer.byteLength;\n",
              "            progress.value = downloaded;\n",
              "          }\n",
              "        }\n",
              "      }\n",
              "      const blob = new Blob(buffers, {type: 'application/binary'});\n",
              "      const a = document.createElement('a');\n",
              "      a.href = window.URL.createObjectURL(blob);\n",
              "      a.download = filename;\n",
              "      div.appendChild(a);\n",
              "      a.click();\n",
              "      div.remove();\n",
              "    }\n",
              "  "
            ]
          },
          "metadata": {}
        },
        {
          "output_type": "display_data",
          "data": {
            "text/plain": [
              "<IPython.core.display.Javascript object>"
            ],
            "application/javascript": [
              "download(\"download_ee51523b-455e-4ae1-95e1-c2acb0c68d2f\", \"psi-outd10.dat\", 8761)"
            ]
          },
          "metadata": {}
        }
      ]
    }
  ]
}