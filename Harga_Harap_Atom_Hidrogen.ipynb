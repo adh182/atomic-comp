{
  "nbformat": 4,
  "nbformat_minor": 0,
  "metadata": {
    "colab": {
      "name": "Harga Harap Atom Hidrogen.ipynb",
      "provenance": []
    },
    "kernelspec": {
      "name": "python3",
      "display_name": "Python 3"
    },
    "language_info": {
      "name": "python"
    }
  },
  "cells": [
    {
      "cell_type": "markdown",
      "source": [
        "# Harga Harap Posisi Atom Hidrogen\n",
        "\n",
        "Sebuah atom hidrogen H memiliki elektron yang tereksitasi pada orbital 4f dengan $n=4$ dan $l=3$.\n",
        "\n",
        "Di bawah ini adalah program untuk menentukan harga harap langsung $\\bar{r}$, harga harap $r_{rms}$, nilai $r$ maksimum $r_m$, dan harga harap harmonik $r_h$."
      ],
      "metadata": {
        "id": "PfB5q5d0aaVS"
      }
    },
    {
      "cell_type": "code",
      "source": [
        "#Import libraries\n",
        "import numpy as np\n",
        "import matplotlib.pyplot as plt\n",
        "from IPython.display import display, Latex"
      ],
      "metadata": {
        "id": "VbTImdDcaZR-"
      },
      "execution_count": 5,
      "outputs": []
    },
    {
      "cell_type": "code",
      "execution_count": 8,
      "metadata": {
        "id": "yAasEbO6aWdY"
      },
      "outputs": [],
      "source": [
        "def integrate(r, to_integrate):\n",
        "\n",
        "  xmin = min(r)\n",
        "  h = 0.5\n",
        "  dx = 1\n",
        "  result = 0\n",
        "\n",
        "  for i in range(len(r)-2):\n",
        "    result = result + (to_integrate[i] + 4*to_integrate[i+1] + to_integrate[i+2])\n",
        "    xmin = xmin + dx \n",
        "    \n",
        "  result = result * h/3\n",
        "\n",
        "  return result"
      ]
    },
    {
      "cell_type": "code",
      "source": [
        "#Import data\n",
        "\n",
        "data = np.loadtxt('uas43.out')\n",
        "r = [] #Position\n",
        "R = [] #Radial position\n",
        "rR = [] #Wavefunction\n",
        "\n",
        "for i in range(0, len(data)):\n",
        "\tr.append(data[i][0])\n",
        "\tR.append(data[i][1])\n",
        "\trR.append(data[i][2])\n",
        "\n",
        "rrR2 =[]\n",
        "rms = []\n",
        "rr = []\n",
        "rh = []\n",
        "\n",
        "for i in range(0, len(r)):\n",
        "\trrR2.append(r[i]*(rR[i])**2)\n",
        "\trr.append((rR[i])**2)\n",
        "\trms.append((r[i]**2) * (rR[i]**2))\n",
        "\trh.append((1/r[i]) * (rR[i]**2))\n",
        "\n",
        "#Integration\n",
        "r1 = integrate(r, rrR2)\n",
        "r2 = integrate(r, rr)\n",
        "Rms = integrate(r, rms)\n",
        "rH = integrate(r, rh)\n",
        "\n",
        "#Normalized\n",
        "r_norm = r1/r2\n",
        "rms_norm = np.sqrt((Rms/r2))\n",
        "rh_norm = (rH/r2)**-1\n",
        "max_P = rR.index(max(rR))\n",
        "rm = r[max_P]\n",
        "\n",
        "print(\"Harga harap langsung: \", r_norm)\n",
        "print(\"Harga harap rms: \", rms_norm)\n",
        "print(\"Harga harap harmonik: \", rh_norm)\n",
        "print(\"Nilai r maksimum: \", rm)"
      ],
      "metadata": {
        "colab": {
          "base_uri": "https://localhost:8080/"
        },
        "id": "2C0Oo2VDcDci",
        "outputId": "e610a5a2-570a-4467-82ca-ce1746ba3b96"
      },
      "execution_count": 18,
      "outputs": [
        {
          "output_type": "stream",
          "name": "stdout",
          "text": [
            "Harga harap langsung:  15.999999994662932\n",
            "Harga harap rms:  16.970562738608994\n",
            "Harga harap harmonik:  14.000000001999494\n",
            "Nilai r maksimum:  15.958634009794029\n"
          ]
        }
      ]
    },
    {
      "cell_type": "code",
      "source": [
        "#Peluang\n",
        "rR2 = []\n",
        "for i in range(len(rR)):\n",
        "\trR2.append(rR[i]*rR[i])\n",
        "\n",
        "norm_coeff = np.sqrt(np.sum(rR2))\n",
        "rR = rR / norm_coeff\n",
        "P = []\n",
        "\n",
        "for i in range(len(rR)):\n",
        "\tP.append(rR[i]*rR[i])\n",
        " \n",
        "prob = sum(P)\n",
        "print(\"Peluang (0<=x<=100): \", prob)"
      ],
      "metadata": {
        "colab": {
          "base_uri": "https://localhost:8080/"
        },
        "id": "Y-knLD7OeyO0",
        "outputId": "9a626b27-9b08-4102-9b20-c633c57acc0d"
      },
      "execution_count": 14,
      "outputs": [
        {
          "output_type": "stream",
          "name": "stdout",
          "text": [
            "Peluang (0<=x<=100):  0.9999999999999996\n"
          ]
        }
      ]
    },
    {
      "cell_type": "markdown",
      "source": [
        "### Grafik Fungsi Gelombang dan Peluang"
      ],
      "metadata": {
        "id": "RguexowffRGZ"
      }
    },
    {
      "cell_type": "code",
      "source": [
        "plt.plot(r, rR)\n",
        "plt.title('Grafik rR(r) untuk n=4 dan l=3 (Numerik)')\n",
        "plt.xlabel('r')\n",
        "plt.ylabel('rR(r)')\n",
        "plt.show()"
      ],
      "metadata": {
        "colab": {
          "base_uri": "https://localhost:8080/",
          "height": 295
        },
        "id": "VHohQ1lvfQMz",
        "outputId": "4e223756-7e05-49c2-ddd8-0c2a79aac33b"
      },
      "execution_count": 16,
      "outputs": [
        {
          "output_type": "display_data",
          "data": {
            "text/plain": [
              "<Figure size 432x288 with 1 Axes>"
            ],
            "image/png": "[encoded data removed]"
          },
          "metadata": {
            "needs_background": "light"
          }
        }
      ]
    },
    {
      "cell_type": "code",
      "source": [
        "plt.plot(r, P)\n",
        "plt.title('Grafik P(r) untuk n=4 dan l=3 (Numerik)')\n",
        "plt.xlabel('r')\n",
        "plt.ylabel('P(r)')\n",
        "plt.show()"
      ],
      "metadata": {
        "colab": {
          "base_uri": "https://localhost:8080/",
          "height": 295
        },
        "id": "qRMj8slsfZuB",
        "outputId": "e1e5896d-5dbb-4f97-837e-c3669ca7ceb3"
      },
      "execution_count": 17,
      "outputs": [
        {
          "output_type": "display_data",
          "data": {
            "text/plain": [
              "<Figure size 432x288 with 1 Axes>"
            ],
            "image/png": "[encoded data removed]"
          },
          "metadata": {
            "needs_background": "light"
          }
        }
      ]
    }
  ]
}